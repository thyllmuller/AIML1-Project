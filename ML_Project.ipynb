{
  "nbformat": 4,
  "nbformat_minor": 0,
  "metadata": {
    "colab": {
      "name": "ML Project",
      "provenance": [],
      "collapsed_sections": [],
      "toc_visible": true,
      "include_colab_link": true
    },
    "kernelspec": {
      "name": "python3",
      "display_name": "Python 3"
    },
    "language_info": {
      "name": "python"
    },
    "widgets": {
      "application/vnd.jupyter.widget-state+json": {
        "bbcbcdfb766c45db9febfbb71b3f8c03": {
          "model_module": "@jupyter-widgets/controls",
          "model_name": "IntProgressModel",
          "model_module_version": "1.5.0",
          "state": {
            "_view_name": "ProgressView",
            "style": "IPY_MODEL_9a4f3fa429b94343b61fdd2b91f7c3d3",
            "_dom_classes": [],
            "description": "Processing: ",
            "_model_name": "IntProgressModel",
            "bar_style": "",
            "max": 79,
            "_view_module": "@jupyter-widgets/controls",
            "_model_module_version": "1.5.0",
            "value": 79,
            "_view_count": null,
            "_view_module_version": "1.5.0",
            "orientation": "horizontal",
            "min": 0,
            "description_tooltip": null,
            "_model_module": "@jupyter-widgets/controls",
            "layout": "IPY_MODEL_279c89e6ca3141a2bb9cf65ebed52ed0"
          }
        },
        "9a4f3fa429b94343b61fdd2b91f7c3d3": {
          "model_module": "@jupyter-widgets/controls",
          "model_name": "ProgressStyleModel",
          "model_module_version": "1.5.0",
          "state": {
            "_view_name": "StyleView",
            "_model_name": "ProgressStyleModel",
            "description_width": "",
            "_view_module": "@jupyter-widgets/base",
            "_model_module_version": "1.5.0",
            "_view_count": null,
            "_view_module_version": "1.2.0",
            "bar_color": null,
            "_model_module": "@jupyter-widgets/controls"
          }
        },
        "279c89e6ca3141a2bb9cf65ebed52ed0": {
          "model_module": "@jupyter-widgets/base",
          "model_name": "LayoutModel",
          "model_module_version": "1.2.0",
          "state": {
            "_view_name": "LayoutView",
            "grid_template_rows": null,
            "right": null,
            "justify_content": null,
            "_view_module": "@jupyter-widgets/base",
            "overflow": null,
            "_model_module_version": "1.2.0",
            "_view_count": null,
            "flex_flow": null,
            "width": null,
            "min_width": null,
            "border": null,
            "align_items": null,
            "bottom": null,
            "_model_module": "@jupyter-widgets/base",
            "top": null,
            "grid_column": null,
            "overflow_y": null,
            "overflow_x": null,
            "grid_auto_flow": null,
            "grid_area": null,
            "grid_template_columns": null,
            "flex": null,
            "_model_name": "LayoutModel",
            "justify_items": null,
            "grid_row": null,
            "max_height": null,
            "align_content": null,
            "visibility": null,
            "align_self": null,
            "height": null,
            "min_height": null,
            "padding": null,
            "grid_auto_rows": null,
            "grid_gap": null,
            "max_width": null,
            "order": null,
            "_view_module_version": "1.2.0",
            "grid_template_areas": null,
            "object_position": null,
            "object_fit": null,
            "grid_auto_columns": null,
            "margin": null,
            "display": null,
            "left": null
          }
        },
        "6b1c4503031c4b01b84d5d337c646f59": {
          "model_module": "@jupyter-widgets/controls",
          "model_name": "IntProgressModel",
          "model_module_version": "1.5.0",
          "state": {
            "_view_name": "ProgressView",
            "style": "IPY_MODEL_1f1a3c986be145f5aa03ea9ff118eedf",
            "_dom_classes": [],
            "description": "Processing: ",
            "_model_name": "IntProgressModel",
            "bar_style": "",
            "max": 7,
            "_view_module": "@jupyter-widgets/controls",
            "_model_module_version": "1.5.0",
            "value": 7,
            "_view_count": null,
            "_view_module_version": "1.5.0",
            "orientation": "horizontal",
            "min": 0,
            "description_tooltip": null,
            "_model_module": "@jupyter-widgets/controls",
            "layout": "IPY_MODEL_c5211fa2e0a9468093e6c0a2d9aeaa19"
          }
        },
        "1f1a3c986be145f5aa03ea9ff118eedf": {
          "model_module": "@jupyter-widgets/controls",
          "model_name": "ProgressStyleModel",
          "model_module_version": "1.5.0",
          "state": {
            "_view_name": "StyleView",
            "_model_name": "ProgressStyleModel",
            "description_width": "",
            "_view_module": "@jupyter-widgets/base",
            "_model_module_version": "1.5.0",
            "_view_count": null,
            "_view_module_version": "1.2.0",
            "bar_color": null,
            "_model_module": "@jupyter-widgets/controls"
          }
        },
        "c5211fa2e0a9468093e6c0a2d9aeaa19": {
          "model_module": "@jupyter-widgets/base",
          "model_name": "LayoutModel",
          "model_module_version": "1.2.0",
          "state": {
            "_view_name": "LayoutView",
            "grid_template_rows": null,
            "right": null,
            "justify_content": null,
            "_view_module": "@jupyter-widgets/base",
            "overflow": null,
            "_model_module_version": "1.2.0",
            "_view_count": null,
            "flex_flow": null,
            "width": null,
            "min_width": null,
            "border": null,
            "align_items": null,
            "bottom": null,
            "_model_module": "@jupyter-widgets/base",
            "top": null,
            "grid_column": null,
            "overflow_y": null,
            "overflow_x": null,
            "grid_auto_flow": null,
            "grid_area": null,
            "grid_template_columns": null,
            "flex": null,
            "_model_name": "LayoutModel",
            "justify_items": null,
            "grid_row": null,
            "max_height": null,
            "align_content": null,
            "visibility": null,
            "align_self": null,
            "height": null,
            "min_height": null,
            "padding": null,
            "grid_auto_rows": null,
            "grid_gap": null,
            "max_width": null,
            "order": null,
            "_view_module_version": "1.2.0",
            "grid_template_areas": null,
            "object_position": null,
            "object_fit": null,
            "grid_auto_columns": null,
            "margin": null,
            "display": null,
            "left": null
          }
        },
        "df731e0108dd475ea01ab3c1170a358d": {
          "model_module": "@jupyter-widgets/controls",
          "model_name": "IntProgressModel",
          "model_module_version": "1.5.0",
          "state": {
            "_view_name": "ProgressView",
            "style": "IPY_MODEL_3a768b403afa4b8b9363fbc0ce2de62b",
            "_dom_classes": [],
            "description": "Processing: ",
            "_model_name": "IntProgressModel",
            "bar_style": "",
            "max": 4,
            "_view_module": "@jupyter-widgets/controls",
            "_model_module_version": "1.5.0",
            "value": 4,
            "_view_count": null,
            "_view_module_version": "1.5.0",
            "orientation": "horizontal",
            "min": 0,
            "description_tooltip": null,
            "_model_module": "@jupyter-widgets/controls",
            "layout": "IPY_MODEL_01e6e5bc8a27438387ceffb88611d235"
          }
        },
        "3a768b403afa4b8b9363fbc0ce2de62b": {
          "model_module": "@jupyter-widgets/controls",
          "model_name": "ProgressStyleModel",
          "model_module_version": "1.5.0",
          "state": {
            "_view_name": "StyleView",
            "_model_name": "ProgressStyleModel",
            "description_width": "",
            "_view_module": "@jupyter-widgets/base",
            "_model_module_version": "1.5.0",
            "_view_count": null,
            "_view_module_version": "1.2.0",
            "bar_color": null,
            "_model_module": "@jupyter-widgets/controls"
          }
        },
        "01e6e5bc8a27438387ceffb88611d235": {
          "model_module": "@jupyter-widgets/base",
          "model_name": "LayoutModel",
          "model_module_version": "1.2.0",
          "state": {
            "_view_name": "LayoutView",
            "grid_template_rows": null,
            "right": null,
            "justify_content": null,
            "_view_module": "@jupyter-widgets/base",
            "overflow": null,
            "_model_module_version": "1.2.0",
            "_view_count": null,
            "flex_flow": null,
            "width": null,
            "min_width": null,
            "border": null,
            "align_items": null,
            "bottom": null,
            "_model_module": "@jupyter-widgets/base",
            "top": null,
            "grid_column": null,
            "overflow_y": null,
            "overflow_x": null,
            "grid_auto_flow": null,
            "grid_area": null,
            "grid_template_columns": null,
            "flex": null,
            "_model_name": "LayoutModel",
            "justify_items": null,
            "grid_row": null,
            "max_height": null,
            "align_content": null,
            "visibility": null,
            "align_self": null,
            "height": null,
            "min_height": null,
            "padding": null,
            "grid_auto_rows": null,
            "grid_gap": null,
            "max_width": null,
            "order": null,
            "_view_module_version": "1.2.0",
            "grid_template_areas": null,
            "object_position": null,
            "object_fit": null,
            "grid_auto_columns": null,
            "margin": null,
            "display": null,
            "left": null
          }
        },
        "da4c8811c8c04b0ea4f8b7d79bbc3258": {
          "model_module": "@jupyter-widgets/controls",
          "model_name": "IntProgressModel",
          "model_module_version": "1.5.0",
          "state": {
            "_view_name": "ProgressView",
            "style": "IPY_MODEL_d8eb9997e3ac4916b8da66cced6d1c5a",
            "_dom_classes": [],
            "description": "Processing: ",
            "_model_name": "IntProgressModel",
            "bar_style": "",
            "max": 7,
            "_view_module": "@jupyter-widgets/controls",
            "_model_module_version": "1.5.0",
            "value": 7,
            "_view_count": null,
            "_view_module_version": "1.5.0",
            "orientation": "horizontal",
            "min": 0,
            "description_tooltip": null,
            "_model_module": "@jupyter-widgets/controls",
            "layout": "IPY_MODEL_2423773ca5c24d28a977a6d7de6e47a8"
          }
        },
        "d8eb9997e3ac4916b8da66cced6d1c5a": {
          "model_module": "@jupyter-widgets/controls",
          "model_name": "ProgressStyleModel",
          "model_module_version": "1.5.0",
          "state": {
            "_view_name": "StyleView",
            "_model_name": "ProgressStyleModel",
            "description_width": "",
            "_view_module": "@jupyter-widgets/base",
            "_model_module_version": "1.5.0",
            "_view_count": null,
            "_view_module_version": "1.2.0",
            "bar_color": null,
            "_model_module": "@jupyter-widgets/controls"
          }
        },
        "2423773ca5c24d28a977a6d7de6e47a8": {
          "model_module": "@jupyter-widgets/base",
          "model_name": "LayoutModel",
          "model_module_version": "1.2.0",
          "state": {
            "_view_name": "LayoutView",
            "grid_template_rows": null,
            "right": null,
            "justify_content": null,
            "_view_module": "@jupyter-widgets/base",
            "overflow": null,
            "_model_module_version": "1.2.0",
            "_view_count": null,
            "flex_flow": null,
            "width": null,
            "min_width": null,
            "border": null,
            "align_items": null,
            "bottom": null,
            "_model_module": "@jupyter-widgets/base",
            "top": null,
            "grid_column": null,
            "overflow_y": null,
            "overflow_x": null,
            "grid_auto_flow": null,
            "grid_area": null,
            "grid_template_columns": null,
            "flex": null,
            "_model_name": "LayoutModel",
            "justify_items": null,
            "grid_row": null,
            "max_height": null,
            "align_content": null,
            "visibility": null,
            "align_self": null,
            "height": null,
            "min_height": null,
            "padding": null,
            "grid_auto_rows": null,
            "grid_gap": null,
            "max_width": null,
            "order": null,
            "_view_module_version": "1.2.0",
            "grid_template_areas": null,
            "object_position": null,
            "object_fit": null,
            "grid_auto_columns": null,
            "margin": null,
            "display": null,
            "left": null
          }
        },
        "c69be3c300f0484e8b25c1206a7dfcd9": {
          "model_module": "@jupyter-widgets/controls",
          "model_name": "IntProgressModel",
          "model_module_version": "1.5.0",
          "state": {
            "_view_name": "ProgressView",
            "style": "IPY_MODEL_70f0dad22a594819b0ff12105bb57e0b",
            "_dom_classes": [],
            "description": "Processing: ",
            "_model_name": "IntProgressModel",
            "bar_style": "",
            "max": 4,
            "_view_module": "@jupyter-widgets/controls",
            "_model_module_version": "1.5.0",
            "value": 4,
            "_view_count": null,
            "_view_module_version": "1.5.0",
            "orientation": "horizontal",
            "min": 0,
            "description_tooltip": null,
            "_model_module": "@jupyter-widgets/controls",
            "layout": "IPY_MODEL_d0a12d9146cf45a8a71fb51d8f842bda"
          }
        },
        "70f0dad22a594819b0ff12105bb57e0b": {
          "model_module": "@jupyter-widgets/controls",
          "model_name": "ProgressStyleModel",
          "model_module_version": "1.5.0",
          "state": {
            "_view_name": "StyleView",
            "_model_name": "ProgressStyleModel",
            "description_width": "",
            "_view_module": "@jupyter-widgets/base",
            "_model_module_version": "1.5.0",
            "_view_count": null,
            "_view_module_version": "1.2.0",
            "bar_color": null,
            "_model_module": "@jupyter-widgets/controls"
          }
        },
        "d0a12d9146cf45a8a71fb51d8f842bda": {
          "model_module": "@jupyter-widgets/base",
          "model_name": "LayoutModel",
          "model_module_version": "1.2.0",
          "state": {
            "_view_name": "LayoutView",
            "grid_template_rows": null,
            "right": null,
            "justify_content": null,
            "_view_module": "@jupyter-widgets/base",
            "overflow": null,
            "_model_module_version": "1.2.0",
            "_view_count": null,
            "flex_flow": null,
            "width": null,
            "min_width": null,
            "border": null,
            "align_items": null,
            "bottom": null,
            "_model_module": "@jupyter-widgets/base",
            "top": null,
            "grid_column": null,
            "overflow_y": null,
            "overflow_x": null,
            "grid_auto_flow": null,
            "grid_area": null,
            "grid_template_columns": null,
            "flex": null,
            "_model_name": "LayoutModel",
            "justify_items": null,
            "grid_row": null,
            "max_height": null,
            "align_content": null,
            "visibility": null,
            "align_self": null,
            "height": null,
            "min_height": null,
            "padding": null,
            "grid_auto_rows": null,
            "grid_gap": null,
            "max_width": null,
            "order": null,
            "_view_module_version": "1.2.0",
            "grid_template_areas": null,
            "object_position": null,
            "object_fit": null,
            "grid_auto_columns": null,
            "margin": null,
            "display": null,
            "left": null
          }
        },
        "9772324fa1ac4d1fbde760e1c228f66b": {
          "model_module": "@jupyter-widgets/controls",
          "model_name": "IntProgressModel",
          "model_module_version": "1.5.0",
          "state": {
            "_view_name": "ProgressView",
            "style": "IPY_MODEL_78ab5c16a92c4b52ab73fd836b30cf40",
            "_dom_classes": [],
            "description": "Processing: ",
            "_model_name": "IntProgressModel",
            "bar_style": "",
            "max": 7,
            "_view_module": "@jupyter-widgets/controls",
            "_model_module_version": "1.5.0",
            "value": 7,
            "_view_count": null,
            "_view_module_version": "1.5.0",
            "orientation": "horizontal",
            "min": 0,
            "description_tooltip": null,
            "_model_module": "@jupyter-widgets/controls",
            "layout": "IPY_MODEL_47a5963aa8a743f4938da943d1c192d6"
          }
        },
        "78ab5c16a92c4b52ab73fd836b30cf40": {
          "model_module": "@jupyter-widgets/controls",
          "model_name": "ProgressStyleModel",
          "model_module_version": "1.5.0",
          "state": {
            "_view_name": "StyleView",
            "_model_name": "ProgressStyleModel",
            "description_width": "",
            "_view_module": "@jupyter-widgets/base",
            "_model_module_version": "1.5.0",
            "_view_count": null,
            "_view_module_version": "1.2.0",
            "bar_color": null,
            "_model_module": "@jupyter-widgets/controls"
          }
        },
        "47a5963aa8a743f4938da943d1c192d6": {
          "model_module": "@jupyter-widgets/base",
          "model_name": "LayoutModel",
          "model_module_version": "1.2.0",
          "state": {
            "_view_name": "LayoutView",
            "grid_template_rows": null,
            "right": null,
            "justify_content": null,
            "_view_module": "@jupyter-widgets/base",
            "overflow": null,
            "_model_module_version": "1.2.0",
            "_view_count": null,
            "flex_flow": null,
            "width": null,
            "min_width": null,
            "border": null,
            "align_items": null,
            "bottom": null,
            "_model_module": "@jupyter-widgets/base",
            "top": null,
            "grid_column": null,
            "overflow_y": null,
            "overflow_x": null,
            "grid_auto_flow": null,
            "grid_area": null,
            "grid_template_columns": null,
            "flex": null,
            "_model_name": "LayoutModel",
            "justify_items": null,
            "grid_row": null,
            "max_height": null,
            "align_content": null,
            "visibility": null,
            "align_self": null,
            "height": null,
            "min_height": null,
            "padding": null,
            "grid_auto_rows": null,
            "grid_gap": null,
            "max_width": null,
            "order": null,
            "_view_module_version": "1.2.0",
            "grid_template_areas": null,
            "object_position": null,
            "object_fit": null,
            "grid_auto_columns": null,
            "margin": null,
            "display": null,
            "left": null
          }
        },
        "b2c21b7453464e84be5dd15c79db5e89": {
          "model_module": "@jupyter-widgets/controls",
          "model_name": "IntProgressModel",
          "model_module_version": "1.5.0",
          "state": {
            "_view_name": "ProgressView",
            "style": "IPY_MODEL_cbd2ba83aaf84f7ba8c2ea33a9b8ed0e",
            "_dom_classes": [],
            "description": "Processing: ",
            "_model_name": "IntProgressModel",
            "bar_style": "",
            "max": 4,
            "_view_module": "@jupyter-widgets/controls",
            "_model_module_version": "1.5.0",
            "value": 4,
            "_view_count": null,
            "_view_module_version": "1.5.0",
            "orientation": "horizontal",
            "min": 0,
            "description_tooltip": null,
            "_model_module": "@jupyter-widgets/controls",
            "layout": "IPY_MODEL_9fbe52fb34994159af72219e05d04e74"
          }
        },
        "cbd2ba83aaf84f7ba8c2ea33a9b8ed0e": {
          "model_module": "@jupyter-widgets/controls",
          "model_name": "ProgressStyleModel",
          "model_module_version": "1.5.0",
          "state": {
            "_view_name": "StyleView",
            "_model_name": "ProgressStyleModel",
            "description_width": "",
            "_view_module": "@jupyter-widgets/base",
            "_model_module_version": "1.5.0",
            "_view_count": null,
            "_view_module_version": "1.2.0",
            "bar_color": null,
            "_model_module": "@jupyter-widgets/controls"
          }
        },
        "9fbe52fb34994159af72219e05d04e74": {
          "model_module": "@jupyter-widgets/base",
          "model_name": "LayoutModel",
          "model_module_version": "1.2.0",
          "state": {
            "_view_name": "LayoutView",
            "grid_template_rows": null,
            "right": null,
            "justify_content": null,
            "_view_module": "@jupyter-widgets/base",
            "overflow": null,
            "_model_module_version": "1.2.0",
            "_view_count": null,
            "flex_flow": null,
            "width": null,
            "min_width": null,
            "border": null,
            "align_items": null,
            "bottom": null,
            "_model_module": "@jupyter-widgets/base",
            "top": null,
            "grid_column": null,
            "overflow_y": null,
            "overflow_x": null,
            "grid_auto_flow": null,
            "grid_area": null,
            "grid_template_columns": null,
            "flex": null,
            "_model_name": "LayoutModel",
            "justify_items": null,
            "grid_row": null,
            "max_height": null,
            "align_content": null,
            "visibility": null,
            "align_self": null,
            "height": null,
            "min_height": null,
            "padding": null,
            "grid_auto_rows": null,
            "grid_gap": null,
            "max_width": null,
            "order": null,
            "_view_module_version": "1.2.0",
            "grid_template_areas": null,
            "object_position": null,
            "object_fit": null,
            "grid_auto_columns": null,
            "margin": null,
            "display": null,
            "left": null
          }
        },
        "806436620e78484bb293aa2168320f11": {
          "model_module": "@jupyter-widgets/controls",
          "model_name": "IntProgressModel",
          "model_module_version": "1.5.0",
          "state": {
            "_view_name": "ProgressView",
            "style": "IPY_MODEL_1acf308cef694c9eb0db452405691625",
            "_dom_classes": [],
            "description": "Processing: ",
            "_model_name": "IntProgressModel",
            "bar_style": "",
            "max": 7,
            "_view_module": "@jupyter-widgets/controls",
            "_model_module_version": "1.5.0",
            "value": 7,
            "_view_count": null,
            "_view_module_version": "1.5.0",
            "orientation": "horizontal",
            "min": 0,
            "description_tooltip": null,
            "_model_module": "@jupyter-widgets/controls",
            "layout": "IPY_MODEL_d9867e520c174354a141c55e30a546ca"
          }
        },
        "1acf308cef694c9eb0db452405691625": {
          "model_module": "@jupyter-widgets/controls",
          "model_name": "ProgressStyleModel",
          "model_module_version": "1.5.0",
          "state": {
            "_view_name": "StyleView",
            "_model_name": "ProgressStyleModel",
            "description_width": "",
            "_view_module": "@jupyter-widgets/base",
            "_model_module_version": "1.5.0",
            "_view_count": null,
            "_view_module_version": "1.2.0",
            "bar_color": null,
            "_model_module": "@jupyter-widgets/controls"
          }
        },
        "d9867e520c174354a141c55e30a546ca": {
          "model_module": "@jupyter-widgets/base",
          "model_name": "LayoutModel",
          "model_module_version": "1.2.0",
          "state": {
            "_view_name": "LayoutView",
            "grid_template_rows": null,
            "right": null,
            "justify_content": null,
            "_view_module": "@jupyter-widgets/base",
            "overflow": null,
            "_model_module_version": "1.2.0",
            "_view_count": null,
            "flex_flow": null,
            "width": null,
            "min_width": null,
            "border": null,
            "align_items": null,
            "bottom": null,
            "_model_module": "@jupyter-widgets/base",
            "top": null,
            "grid_column": null,
            "overflow_y": null,
            "overflow_x": null,
            "grid_auto_flow": null,
            "grid_area": null,
            "grid_template_columns": null,
            "flex": null,
            "_model_name": "LayoutModel",
            "justify_items": null,
            "grid_row": null,
            "max_height": null,
            "align_content": null,
            "visibility": null,
            "align_self": null,
            "height": null,
            "min_height": null,
            "padding": null,
            "grid_auto_rows": null,
            "grid_gap": null,
            "max_width": null,
            "order": null,
            "_view_module_version": "1.2.0",
            "grid_template_areas": null,
            "object_position": null,
            "object_fit": null,
            "grid_auto_columns": null,
            "margin": null,
            "display": null,
            "left": null
          }
        },
        "14ec1618ba4c4df7b0ea528b979dd6fc": {
          "model_module": "@jupyter-widgets/controls",
          "model_name": "IntProgressModel",
          "model_module_version": "1.5.0",
          "state": {
            "_view_name": "ProgressView",
            "style": "IPY_MODEL_e7b04d8a2ee64413871fa8a3bebc4a62",
            "_dom_classes": [],
            "description": "Processing: ",
            "_model_name": "IntProgressModel",
            "bar_style": "",
            "max": 5,
            "_view_module": "@jupyter-widgets/controls",
            "_model_module_version": "1.5.0",
            "value": 5,
            "_view_count": null,
            "_view_module_version": "1.5.0",
            "orientation": "horizontal",
            "min": 0,
            "description_tooltip": null,
            "_model_module": "@jupyter-widgets/controls",
            "layout": "IPY_MODEL_0c3c6b263baa460bbb213ec04ef1f98c"
          }
        },
        "e7b04d8a2ee64413871fa8a3bebc4a62": {
          "model_module": "@jupyter-widgets/controls",
          "model_name": "ProgressStyleModel",
          "model_module_version": "1.5.0",
          "state": {
            "_view_name": "StyleView",
            "_model_name": "ProgressStyleModel",
            "description_width": "",
            "_view_module": "@jupyter-widgets/base",
            "_model_module_version": "1.5.0",
            "_view_count": null,
            "_view_module_version": "1.2.0",
            "bar_color": null,
            "_model_module": "@jupyter-widgets/controls"
          }
        },
        "0c3c6b263baa460bbb213ec04ef1f98c": {
          "model_module": "@jupyter-widgets/base",
          "model_name": "LayoutModel",
          "model_module_version": "1.2.0",
          "state": {
            "_view_name": "LayoutView",
            "grid_template_rows": null,
            "right": null,
            "justify_content": null,
            "_view_module": "@jupyter-widgets/base",
            "overflow": null,
            "_model_module_version": "1.2.0",
            "_view_count": null,
            "flex_flow": null,
            "width": null,
            "min_width": null,
            "border": null,
            "align_items": null,
            "bottom": null,
            "_model_module": "@jupyter-widgets/base",
            "top": null,
            "grid_column": null,
            "overflow_y": null,
            "overflow_x": null,
            "grid_auto_flow": null,
            "grid_area": null,
            "grid_template_columns": null,
            "flex": null,
            "_model_name": "LayoutModel",
            "justify_items": null,
            "grid_row": null,
            "max_height": null,
            "align_content": null,
            "visibility": null,
            "align_self": null,
            "height": null,
            "min_height": null,
            "padding": null,
            "grid_auto_rows": null,
            "grid_gap": null,
            "max_width": null,
            "order": null,
            "_view_module_version": "1.2.0",
            "grid_template_areas": null,
            "object_position": null,
            "object_fit": null,
            "grid_auto_columns": null,
            "margin": null,
            "display": null,
            "left": null
          }
        },
        "4d7ef4a86e864b13a790c3b3a2f60bf3": {
          "model_module": "@jupyter-widgets/controls",
          "model_name": "HBoxModel",
          "model_module_version": "1.5.0",
          "state": {
            "_view_name": "HBoxView",
            "_dom_classes": [],
            "_model_name": "HBoxModel",
            "_view_module": "@jupyter-widgets/controls",
            "_model_module_version": "1.5.0",
            "_view_count": null,
            "_view_module_version": "1.5.0",
            "box_style": "",
            "layout": "IPY_MODEL_7c6bc3e6e9f34f58a62f178de682c5bd",
            "_model_module": "@jupyter-widgets/controls",
            "children": [
              "IPY_MODEL_78ccb1ce4b1f49a6bafae3b5bce58e57",
              "IPY_MODEL_26c8af000f3e4ed99f14400530649bcc",
              "IPY_MODEL_69dd46164af14b0caefb2924403be29a"
            ]
          }
        },
        "7c6bc3e6e9f34f58a62f178de682c5bd": {
          "model_module": "@jupyter-widgets/base",
          "model_name": "LayoutModel",
          "model_module_version": "1.2.0",
          "state": {
            "_view_name": "LayoutView",
            "grid_template_rows": null,
            "right": null,
            "justify_content": null,
            "_view_module": "@jupyter-widgets/base",
            "overflow": null,
            "_model_module_version": "1.2.0",
            "_view_count": null,
            "flex_flow": null,
            "width": null,
            "min_width": null,
            "border": null,
            "align_items": null,
            "bottom": null,
            "_model_module": "@jupyter-widgets/base",
            "top": null,
            "grid_column": null,
            "overflow_y": null,
            "overflow_x": null,
            "grid_auto_flow": null,
            "grid_area": null,
            "grid_template_columns": null,
            "flex": null,
            "_model_name": "LayoutModel",
            "justify_items": null,
            "grid_row": null,
            "max_height": null,
            "align_content": null,
            "visibility": null,
            "align_self": null,
            "height": null,
            "min_height": null,
            "padding": null,
            "grid_auto_rows": null,
            "grid_gap": null,
            "max_width": null,
            "order": null,
            "_view_module_version": "1.2.0",
            "grid_template_areas": null,
            "object_position": null,
            "object_fit": null,
            "grid_auto_columns": null,
            "margin": null,
            "display": null,
            "left": null
          }
        },
        "78ccb1ce4b1f49a6bafae3b5bce58e57": {
          "model_module": "@jupyter-widgets/controls",
          "model_name": "HTMLModel",
          "model_module_version": "1.5.0",
          "state": {
            "_view_name": "HTMLView",
            "style": "IPY_MODEL_d40446ae5d6b463192bd24a5030d1256",
            "_dom_classes": [],
            "description": "",
            "_model_name": "HTMLModel",
            "placeholder": "​",
            "_view_module": "@jupyter-widgets/controls",
            "_model_module_version": "1.5.0",
            "value": "100%",
            "_view_count": null,
            "_view_module_version": "1.5.0",
            "description_tooltip": null,
            "_model_module": "@jupyter-widgets/controls",
            "layout": "IPY_MODEL_36b720bcc5fc4ac886754386bbb2bc19"
          }
        },
        "26c8af000f3e4ed99f14400530649bcc": {
          "model_module": "@jupyter-widgets/controls",
          "model_name": "FloatProgressModel",
          "model_module_version": "1.5.0",
          "state": {
            "_view_name": "ProgressView",
            "style": "IPY_MODEL_65a0ce7c2cee4e978e1da8d1e4631015",
            "_dom_classes": [],
            "description": "",
            "_model_name": "FloatProgressModel",
            "bar_style": "success",
            "max": 3,
            "_view_module": "@jupyter-widgets/controls",
            "_model_module_version": "1.5.0",
            "value": 3,
            "_view_count": null,
            "_view_module_version": "1.5.0",
            "orientation": "horizontal",
            "min": 0,
            "description_tooltip": null,
            "_model_module": "@jupyter-widgets/controls",
            "layout": "IPY_MODEL_dd2e852cb8304ebfbc82984372defdc6"
          }
        },
        "69dd46164af14b0caefb2924403be29a": {
          "model_module": "@jupyter-widgets/controls",
          "model_name": "HTMLModel",
          "model_module_version": "1.5.0",
          "state": {
            "_view_name": "HTMLView",
            "style": "IPY_MODEL_c595b3e6ef014cf583d6e7dbd143b45b",
            "_dom_classes": [],
            "description": "",
            "_model_name": "HTMLModel",
            "placeholder": "​",
            "_view_module": "@jupyter-widgets/controls",
            "_model_module_version": "1.5.0",
            "value": " 3/3 [00:03&lt;00:00,  1.03it/s]",
            "_view_count": null,
            "_view_module_version": "1.5.0",
            "description_tooltip": null,
            "_model_module": "@jupyter-widgets/controls",
            "layout": "IPY_MODEL_6a86617da44d4253bbb787457b1b9baa"
          }
        },
        "d40446ae5d6b463192bd24a5030d1256": {
          "model_module": "@jupyter-widgets/controls",
          "model_name": "DescriptionStyleModel",
          "model_module_version": "1.5.0",
          "state": {
            "_view_name": "StyleView",
            "_model_name": "DescriptionStyleModel",
            "description_width": "",
            "_view_module": "@jupyter-widgets/base",
            "_model_module_version": "1.5.0",
            "_view_count": null,
            "_view_module_version": "1.2.0",
            "_model_module": "@jupyter-widgets/controls"
          }
        },
        "36b720bcc5fc4ac886754386bbb2bc19": {
          "model_module": "@jupyter-widgets/base",
          "model_name": "LayoutModel",
          "model_module_version": "1.2.0",
          "state": {
            "_view_name": "LayoutView",
            "grid_template_rows": null,
            "right": null,
            "justify_content": null,
            "_view_module": "@jupyter-widgets/base",
            "overflow": null,
            "_model_module_version": "1.2.0",
            "_view_count": null,
            "flex_flow": null,
            "width": null,
            "min_width": null,
            "border": null,
            "align_items": null,
            "bottom": null,
            "_model_module": "@jupyter-widgets/base",
            "top": null,
            "grid_column": null,
            "overflow_y": null,
            "overflow_x": null,
            "grid_auto_flow": null,
            "grid_area": null,
            "grid_template_columns": null,
            "flex": null,
            "_model_name": "LayoutModel",
            "justify_items": null,
            "grid_row": null,
            "max_height": null,
            "align_content": null,
            "visibility": null,
            "align_self": null,
            "height": null,
            "min_height": null,
            "padding": null,
            "grid_auto_rows": null,
            "grid_gap": null,
            "max_width": null,
            "order": null,
            "_view_module_version": "1.2.0",
            "grid_template_areas": null,
            "object_position": null,
            "object_fit": null,
            "grid_auto_columns": null,
            "margin": null,
            "display": null,
            "left": null
          }
        },
        "65a0ce7c2cee4e978e1da8d1e4631015": {
          "model_module": "@jupyter-widgets/controls",
          "model_name": "ProgressStyleModel",
          "model_module_version": "1.5.0",
          "state": {
            "_view_name": "StyleView",
            "_model_name": "ProgressStyleModel",
            "description_width": "",
            "_view_module": "@jupyter-widgets/base",
            "_model_module_version": "1.5.0",
            "_view_count": null,
            "_view_module_version": "1.2.0",
            "bar_color": null,
            "_model_module": "@jupyter-widgets/controls"
          }
        },
        "dd2e852cb8304ebfbc82984372defdc6": {
          "model_module": "@jupyter-widgets/base",
          "model_name": "LayoutModel",
          "model_module_version": "1.2.0",
          "state": {
            "_view_name": "LayoutView",
            "grid_template_rows": null,
            "right": null,
            "justify_content": null,
            "_view_module": "@jupyter-widgets/base",
            "overflow": null,
            "_model_module_version": "1.2.0",
            "_view_count": null,
            "flex_flow": null,
            "width": null,
            "min_width": null,
            "border": null,
            "align_items": null,
            "bottom": null,
            "_model_module": "@jupyter-widgets/base",
            "top": null,
            "grid_column": null,
            "overflow_y": null,
            "overflow_x": null,
            "grid_auto_flow": null,
            "grid_area": null,
            "grid_template_columns": null,
            "flex": null,
            "_model_name": "LayoutModel",
            "justify_items": null,
            "grid_row": null,
            "max_height": null,
            "align_content": null,
            "visibility": null,
            "align_self": null,
            "height": null,
            "min_height": null,
            "padding": null,
            "grid_auto_rows": null,
            "grid_gap": null,
            "max_width": null,
            "order": null,
            "_view_module_version": "1.2.0",
            "grid_template_areas": null,
            "object_position": null,
            "object_fit": null,
            "grid_auto_columns": null,
            "margin": null,
            "display": null,
            "left": null
          }
        },
        "c595b3e6ef014cf583d6e7dbd143b45b": {
          "model_module": "@jupyter-widgets/controls",
          "model_name": "DescriptionStyleModel",
          "model_module_version": "1.5.0",
          "state": {
            "_view_name": "StyleView",
            "_model_name": "DescriptionStyleModel",
            "description_width": "",
            "_view_module": "@jupyter-widgets/base",
            "_model_module_version": "1.5.0",
            "_view_count": null,
            "_view_module_version": "1.2.0",
            "_model_module": "@jupyter-widgets/controls"
          }
        },
        "6a86617da44d4253bbb787457b1b9baa": {
          "model_module": "@jupyter-widgets/base",
          "model_name": "LayoutModel",
          "model_module_version": "1.2.0",
          "state": {
            "_view_name": "LayoutView",
            "grid_template_rows": null,
            "right": null,
            "justify_content": null,
            "_view_module": "@jupyter-widgets/base",
            "overflow": null,
            "_model_module_version": "1.2.0",
            "_view_count": null,
            "flex_flow": null,
            "width": null,
            "min_width": null,
            "border": null,
            "align_items": null,
            "bottom": null,
            "_model_module": "@jupyter-widgets/base",
            "top": null,
            "grid_column": null,
            "overflow_y": null,
            "overflow_x": null,
            "grid_auto_flow": null,
            "grid_area": null,
            "grid_template_columns": null,
            "flex": null,
            "_model_name": "LayoutModel",
            "justify_items": null,
            "grid_row": null,
            "max_height": null,
            "align_content": null,
            "visibility": null,
            "align_self": null,
            "height": null,
            "min_height": null,
            "padding": null,
            "grid_auto_rows": null,
            "grid_gap": null,
            "max_width": null,
            "order": null,
            "_view_module_version": "1.2.0",
            "grid_template_areas": null,
            "object_position": null,
            "object_fit": null,
            "grid_auto_columns": null,
            "margin": null,
            "display": null,
            "left": null
          }
        },
        "703e1d01e371471a9b512346eddd2bd7": {
          "model_module": "@jupyter-widgets/controls",
          "model_name": "IntProgressModel",
          "model_module_version": "1.5.0",
          "state": {
            "_view_name": "ProgressView",
            "style": "IPY_MODEL_b65e6b0b11814a8893dc99babe7be3b8",
            "_dom_classes": [],
            "description": "Processing: ",
            "_model_name": "IntProgressModel",
            "bar_style": "",
            "max": 99,
            "_view_module": "@jupyter-widgets/controls",
            "_model_module_version": "1.5.0",
            "value": 99,
            "_view_count": null,
            "_view_module_version": "1.5.0",
            "orientation": "horizontal",
            "min": 0,
            "description_tooltip": null,
            "_model_module": "@jupyter-widgets/controls",
            "layout": "IPY_MODEL_86114fa8c2884b898ecaad12439fb2a8"
          }
        },
        "b65e6b0b11814a8893dc99babe7be3b8": {
          "model_module": "@jupyter-widgets/controls",
          "model_name": "ProgressStyleModel",
          "model_module_version": "1.5.0",
          "state": {
            "_view_name": "StyleView",
            "_model_name": "ProgressStyleModel",
            "description_width": "",
            "_view_module": "@jupyter-widgets/base",
            "_model_module_version": "1.5.0",
            "_view_count": null,
            "_view_module_version": "1.2.0",
            "bar_color": null,
            "_model_module": "@jupyter-widgets/controls"
          }
        },
        "86114fa8c2884b898ecaad12439fb2a8": {
          "model_module": "@jupyter-widgets/base",
          "model_name": "LayoutModel",
          "model_module_version": "1.2.0",
          "state": {
            "_view_name": "LayoutView",
            "grid_template_rows": null,
            "right": null,
            "justify_content": null,
            "_view_module": "@jupyter-widgets/base",
            "overflow": null,
            "_model_module_version": "1.2.0",
            "_view_count": null,
            "flex_flow": null,
            "width": null,
            "min_width": null,
            "border": null,
            "align_items": null,
            "bottom": null,
            "_model_module": "@jupyter-widgets/base",
            "top": null,
            "grid_column": null,
            "overflow_y": null,
            "overflow_x": null,
            "grid_auto_flow": null,
            "grid_area": null,
            "grid_template_columns": null,
            "flex": null,
            "_model_name": "LayoutModel",
            "justify_items": null,
            "grid_row": null,
            "max_height": null,
            "align_content": null,
            "visibility": null,
            "align_self": null,
            "height": null,
            "min_height": null,
            "padding": null,
            "grid_auto_rows": null,
            "grid_gap": null,
            "max_width": null,
            "order": null,
            "_view_module_version": "1.2.0",
            "grid_template_areas": null,
            "object_position": null,
            "object_fit": null,
            "grid_auto_columns": null,
            "margin": null,
            "display": null,
            "left": null
          }
        },
        "fb73cb2144d041a3b3866684ad1d162e": {
          "model_module": "@jupyter-widgets/controls",
          "model_name": "IntProgressModel",
          "model_module_version": "1.5.0",
          "state": {
            "_view_name": "ProgressView",
            "style": "IPY_MODEL_bbb68914861a4a7b8c376c759a376d0c",
            "_dom_classes": [],
            "description": "Processing: ",
            "_model_name": "IntProgressModel",
            "bar_style": "",
            "max": 7,
            "_view_module": "@jupyter-widgets/controls",
            "_model_module_version": "1.5.0",
            "value": 7,
            "_view_count": null,
            "_view_module_version": "1.5.0",
            "orientation": "horizontal",
            "min": 0,
            "description_tooltip": null,
            "_model_module": "@jupyter-widgets/controls",
            "layout": "IPY_MODEL_36a587f990d34db7bcd136c1f1f203a9"
          }
        },
        "bbb68914861a4a7b8c376c759a376d0c": {
          "model_module": "@jupyter-widgets/controls",
          "model_name": "ProgressStyleModel",
          "model_module_version": "1.5.0",
          "state": {
            "_view_name": "StyleView",
            "_model_name": "ProgressStyleModel",
            "description_width": "",
            "_view_module": "@jupyter-widgets/base",
            "_model_module_version": "1.5.0",
            "_view_count": null,
            "_view_module_version": "1.2.0",
            "bar_color": null,
            "_model_module": "@jupyter-widgets/controls"
          }
        },
        "36a587f990d34db7bcd136c1f1f203a9": {
          "model_module": "@jupyter-widgets/base",
          "model_name": "LayoutModel",
          "model_module_version": "1.2.0",
          "state": {
            "_view_name": "LayoutView",
            "grid_template_rows": null,
            "right": null,
            "justify_content": null,
            "_view_module": "@jupyter-widgets/base",
            "overflow": null,
            "_model_module_version": "1.2.0",
            "_view_count": null,
            "flex_flow": null,
            "width": null,
            "min_width": null,
            "border": null,
            "align_items": null,
            "bottom": null,
            "_model_module": "@jupyter-widgets/base",
            "top": null,
            "grid_column": null,
            "overflow_y": null,
            "overflow_x": null,
            "grid_auto_flow": null,
            "grid_area": null,
            "grid_template_columns": null,
            "flex": null,
            "_model_name": "LayoutModel",
            "justify_items": null,
            "grid_row": null,
            "max_height": null,
            "align_content": null,
            "visibility": null,
            "align_self": null,
            "height": null,
            "min_height": null,
            "padding": null,
            "grid_auto_rows": null,
            "grid_gap": null,
            "max_width": null,
            "order": null,
            "_view_module_version": "1.2.0",
            "grid_template_areas": null,
            "object_position": null,
            "object_fit": null,
            "grid_auto_columns": null,
            "margin": null,
            "display": null,
            "left": null
          }
        },
        "dfcfb43ad5b64092a72940f580918602": {
          "model_module": "@jupyter-widgets/controls",
          "model_name": "IntProgressModel",
          "model_module_version": "1.5.0",
          "state": {
            "_view_name": "ProgressView",
            "style": "IPY_MODEL_9b1fb7342d864205a4399751e87f8365",
            "_dom_classes": [],
            "description": "Processing: ",
            "_model_name": "IntProgressModel",
            "bar_style": "",
            "max": 4,
            "_view_module": "@jupyter-widgets/controls",
            "_model_module_version": "1.5.0",
            "value": 4,
            "_view_count": null,
            "_view_module_version": "1.5.0",
            "orientation": "horizontal",
            "min": 0,
            "description_tooltip": null,
            "_model_module": "@jupyter-widgets/controls",
            "layout": "IPY_MODEL_5de3d3500ba74687a142201d97b2ae2a"
          }
        },
        "9b1fb7342d864205a4399751e87f8365": {
          "model_module": "@jupyter-widgets/controls",
          "model_name": "ProgressStyleModel",
          "model_module_version": "1.5.0",
          "state": {
            "_view_name": "StyleView",
            "_model_name": "ProgressStyleModel",
            "description_width": "",
            "_view_module": "@jupyter-widgets/base",
            "_model_module_version": "1.5.0",
            "_view_count": null,
            "_view_module_version": "1.2.0",
            "bar_color": null,
            "_model_module": "@jupyter-widgets/controls"
          }
        },
        "5de3d3500ba74687a142201d97b2ae2a": {
          "model_module": "@jupyter-widgets/base",
          "model_name": "LayoutModel",
          "model_module_version": "1.2.0",
          "state": {
            "_view_name": "LayoutView",
            "grid_template_rows": null,
            "right": null,
            "justify_content": null,
            "_view_module": "@jupyter-widgets/base",
            "overflow": null,
            "_model_module_version": "1.2.0",
            "_view_count": null,
            "flex_flow": null,
            "width": null,
            "min_width": null,
            "border": null,
            "align_items": null,
            "bottom": null,
            "_model_module": "@jupyter-widgets/base",
            "top": null,
            "grid_column": null,
            "overflow_y": null,
            "overflow_x": null,
            "grid_auto_flow": null,
            "grid_area": null,
            "grid_template_columns": null,
            "flex": null,
            "_model_name": "LayoutModel",
            "justify_items": null,
            "grid_row": null,
            "max_height": null,
            "align_content": null,
            "visibility": null,
            "align_self": null,
            "height": null,
            "min_height": null,
            "padding": null,
            "grid_auto_rows": null,
            "grid_gap": null,
            "max_width": null,
            "order": null,
            "_view_module_version": "1.2.0",
            "grid_template_areas": null,
            "object_position": null,
            "object_fit": null,
            "grid_auto_columns": null,
            "margin": null,
            "display": null,
            "left": null
          }
        },
        "c19d04fec8554264bacddea7a2882be6": {
          "model_module": "@jupyter-widgets/controls",
          "model_name": "IntProgressModel",
          "model_module_version": "1.5.0",
          "state": {
            "_view_name": "ProgressView",
            "style": "IPY_MODEL_5de15ad9ba5c44b49815939de25b183d",
            "_dom_classes": [],
            "description": "Processing: ",
            "_model_name": "IntProgressModel",
            "bar_style": "",
            "max": 7,
            "_view_module": "@jupyter-widgets/controls",
            "_model_module_version": "1.5.0",
            "value": 7,
            "_view_count": null,
            "_view_module_version": "1.5.0",
            "orientation": "horizontal",
            "min": 0,
            "description_tooltip": null,
            "_model_module": "@jupyter-widgets/controls",
            "layout": "IPY_MODEL_1474505579fa46749ef28ca3a49b01a9"
          }
        },
        "5de15ad9ba5c44b49815939de25b183d": {
          "model_module": "@jupyter-widgets/controls",
          "model_name": "ProgressStyleModel",
          "model_module_version": "1.5.0",
          "state": {
            "_view_name": "StyleView",
            "_model_name": "ProgressStyleModel",
            "description_width": "",
            "_view_module": "@jupyter-widgets/base",
            "_model_module_version": "1.5.0",
            "_view_count": null,
            "_view_module_version": "1.2.0",
            "bar_color": null,
            "_model_module": "@jupyter-widgets/controls"
          }
        },
        "1474505579fa46749ef28ca3a49b01a9": {
          "model_module": "@jupyter-widgets/base",
          "model_name": "LayoutModel",
          "model_module_version": "1.2.0",
          "state": {
            "_view_name": "LayoutView",
            "grid_template_rows": null,
            "right": null,
            "justify_content": null,
            "_view_module": "@jupyter-widgets/base",
            "overflow": null,
            "_model_module_version": "1.2.0",
            "_view_count": null,
            "flex_flow": null,
            "width": null,
            "min_width": null,
            "border": null,
            "align_items": null,
            "bottom": null,
            "_model_module": "@jupyter-widgets/base",
            "top": null,
            "grid_column": null,
            "overflow_y": null,
            "overflow_x": null,
            "grid_auto_flow": null,
            "grid_area": null,
            "grid_template_columns": null,
            "flex": null,
            "_model_name": "LayoutModel",
            "justify_items": null,
            "grid_row": null,
            "max_height": null,
            "align_content": null,
            "visibility": null,
            "align_self": null,
            "height": null,
            "min_height": null,
            "padding": null,
            "grid_auto_rows": null,
            "grid_gap": null,
            "max_width": null,
            "order": null,
            "_view_module_version": "1.2.0",
            "grid_template_areas": null,
            "object_position": null,
            "object_fit": null,
            "grid_auto_columns": null,
            "margin": null,
            "display": null,
            "left": null
          }
        },
        "2a48bdd7c38c40c082883562dfff1a00": {
          "model_module": "@jupyter-widgets/controls",
          "model_name": "IntProgressModel",
          "model_module_version": "1.5.0",
          "state": {
            "_view_name": "ProgressView",
            "style": "IPY_MODEL_45b0e5426c7847f48d7d288e75a306dd",
            "_dom_classes": [],
            "description": "Processing: ",
            "_model_name": "IntProgressModel",
            "bar_style": "",
            "max": 4,
            "_view_module": "@jupyter-widgets/controls",
            "_model_module_version": "1.5.0",
            "value": 4,
            "_view_count": null,
            "_view_module_version": "1.5.0",
            "orientation": "horizontal",
            "min": 0,
            "description_tooltip": null,
            "_model_module": "@jupyter-widgets/controls",
            "layout": "IPY_MODEL_5cdd6686245841e3a38550de38c58799"
          }
        },
        "45b0e5426c7847f48d7d288e75a306dd": {
          "model_module": "@jupyter-widgets/controls",
          "model_name": "ProgressStyleModel",
          "model_module_version": "1.5.0",
          "state": {
            "_view_name": "StyleView",
            "_model_name": "ProgressStyleModel",
            "description_width": "",
            "_view_module": "@jupyter-widgets/base",
            "_model_module_version": "1.5.0",
            "_view_count": null,
            "_view_module_version": "1.2.0",
            "bar_color": null,
            "_model_module": "@jupyter-widgets/controls"
          }
        },
        "5cdd6686245841e3a38550de38c58799": {
          "model_module": "@jupyter-widgets/base",
          "model_name": "LayoutModel",
          "model_module_version": "1.2.0",
          "state": {
            "_view_name": "LayoutView",
            "grid_template_rows": null,
            "right": null,
            "justify_content": null,
            "_view_module": "@jupyter-widgets/base",
            "overflow": null,
            "_model_module_version": "1.2.0",
            "_view_count": null,
            "flex_flow": null,
            "width": null,
            "min_width": null,
            "border": null,
            "align_items": null,
            "bottom": null,
            "_model_module": "@jupyter-widgets/base",
            "top": null,
            "grid_column": null,
            "overflow_y": null,
            "overflow_x": null,
            "grid_auto_flow": null,
            "grid_area": null,
            "grid_template_columns": null,
            "flex": null,
            "_model_name": "LayoutModel",
            "justify_items": null,
            "grid_row": null,
            "max_height": null,
            "align_content": null,
            "visibility": null,
            "align_self": null,
            "height": null,
            "min_height": null,
            "padding": null,
            "grid_auto_rows": null,
            "grid_gap": null,
            "max_width": null,
            "order": null,
            "_view_module_version": "1.2.0",
            "grid_template_areas": null,
            "object_position": null,
            "object_fit": null,
            "grid_auto_columns": null,
            "margin": null,
            "display": null,
            "left": null
          }
        },
        "df770b0ccc014877b7d4f147e948a4d7": {
          "model_module": "@jupyter-widgets/controls",
          "model_name": "IntProgressModel",
          "model_module_version": "1.5.0",
          "state": {
            "_view_name": "ProgressView",
            "style": "IPY_MODEL_4568c15d547f4b4ebdf9b3757da7e289",
            "_dom_classes": [],
            "description": "Processing: ",
            "_model_name": "IntProgressModel",
            "bar_style": "",
            "max": 7,
            "_view_module": "@jupyter-widgets/controls",
            "_model_module_version": "1.5.0",
            "value": 7,
            "_view_count": null,
            "_view_module_version": "1.5.0",
            "orientation": "horizontal",
            "min": 0,
            "description_tooltip": null,
            "_model_module": "@jupyter-widgets/controls",
            "layout": "IPY_MODEL_45961a63b8c14a5691469fa8dbc50ed2"
          }
        },
        "4568c15d547f4b4ebdf9b3757da7e289": {
          "model_module": "@jupyter-widgets/controls",
          "model_name": "ProgressStyleModel",
          "model_module_version": "1.5.0",
          "state": {
            "_view_name": "StyleView",
            "_model_name": "ProgressStyleModel",
            "description_width": "",
            "_view_module": "@jupyter-widgets/base",
            "_model_module_version": "1.5.0",
            "_view_count": null,
            "_view_module_version": "1.2.0",
            "bar_color": null,
            "_model_module": "@jupyter-widgets/controls"
          }
        },
        "45961a63b8c14a5691469fa8dbc50ed2": {
          "model_module": "@jupyter-widgets/base",
          "model_name": "LayoutModel",
          "model_module_version": "1.2.0",
          "state": {
            "_view_name": "LayoutView",
            "grid_template_rows": null,
            "right": null,
            "justify_content": null,
            "_view_module": "@jupyter-widgets/base",
            "overflow": null,
            "_model_module_version": "1.2.0",
            "_view_count": null,
            "flex_flow": null,
            "width": null,
            "min_width": null,
            "border": null,
            "align_items": null,
            "bottom": null,
            "_model_module": "@jupyter-widgets/base",
            "top": null,
            "grid_column": null,
            "overflow_y": null,
            "overflow_x": null,
            "grid_auto_flow": null,
            "grid_area": null,
            "grid_template_columns": null,
            "flex": null,
            "_model_name": "LayoutModel",
            "justify_items": null,
            "grid_row": null,
            "max_height": null,
            "align_content": null,
            "visibility": null,
            "align_self": null,
            "height": null,
            "min_height": null,
            "padding": null,
            "grid_auto_rows": null,
            "grid_gap": null,
            "max_width": null,
            "order": null,
            "_view_module_version": "1.2.0",
            "grid_template_areas": null,
            "object_position": null,
            "object_fit": null,
            "grid_auto_columns": null,
            "margin": null,
            "display": null,
            "left": null
          }
        },
        "daff93ea475e4862a98b3a3aedb37912": {
          "model_module": "@jupyter-widgets/controls",
          "model_name": "IntProgressModel",
          "model_module_version": "1.5.0",
          "state": {
            "_view_name": "ProgressView",
            "style": "IPY_MODEL_aa0912a6df364361bd28fddfb3d2d6b5",
            "_dom_classes": [],
            "description": "Processing: ",
            "_model_name": "IntProgressModel",
            "bar_style": "",
            "max": 4,
            "_view_module": "@jupyter-widgets/controls",
            "_model_module_version": "1.5.0",
            "value": 4,
            "_view_count": null,
            "_view_module_version": "1.5.0",
            "orientation": "horizontal",
            "min": 0,
            "description_tooltip": null,
            "_model_module": "@jupyter-widgets/controls",
            "layout": "IPY_MODEL_665d8969331f49e780a45975d3417ccb"
          }
        },
        "aa0912a6df364361bd28fddfb3d2d6b5": {
          "model_module": "@jupyter-widgets/controls",
          "model_name": "ProgressStyleModel",
          "model_module_version": "1.5.0",
          "state": {
            "_view_name": "StyleView",
            "_model_name": "ProgressStyleModel",
            "description_width": "",
            "_view_module": "@jupyter-widgets/base",
            "_model_module_version": "1.5.0",
            "_view_count": null,
            "_view_module_version": "1.2.0",
            "bar_color": null,
            "_model_module": "@jupyter-widgets/controls"
          }
        },
        "665d8969331f49e780a45975d3417ccb": {
          "model_module": "@jupyter-widgets/base",
          "model_name": "LayoutModel",
          "model_module_version": "1.2.0",
          "state": {
            "_view_name": "LayoutView",
            "grid_template_rows": null,
            "right": null,
            "justify_content": null,
            "_view_module": "@jupyter-widgets/base",
            "overflow": null,
            "_model_module_version": "1.2.0",
            "_view_count": null,
            "flex_flow": null,
            "width": null,
            "min_width": null,
            "border": null,
            "align_items": null,
            "bottom": null,
            "_model_module": "@jupyter-widgets/base",
            "top": null,
            "grid_column": null,
            "overflow_y": null,
            "overflow_x": null,
            "grid_auto_flow": null,
            "grid_area": null,
            "grid_template_columns": null,
            "flex": null,
            "_model_name": "LayoutModel",
            "justify_items": null,
            "grid_row": null,
            "max_height": null,
            "align_content": null,
            "visibility": null,
            "align_self": null,
            "height": null,
            "min_height": null,
            "padding": null,
            "grid_auto_rows": null,
            "grid_gap": null,
            "max_width": null,
            "order": null,
            "_view_module_version": "1.2.0",
            "grid_template_areas": null,
            "object_position": null,
            "object_fit": null,
            "grid_auto_columns": null,
            "margin": null,
            "display": null,
            "left": null
          }
        },
        "3a882232964c416caec746a875e4ce70": {
          "model_module": "@jupyter-widgets/controls",
          "model_name": "IntProgressModel",
          "model_module_version": "1.5.0",
          "state": {
            "_view_name": "ProgressView",
            "style": "IPY_MODEL_47be0a10fa1d4b31b8fe0c8a1df1e3a3",
            "_dom_classes": [],
            "description": "Processing: ",
            "_model_name": "IntProgressModel",
            "bar_style": "",
            "max": 7,
            "_view_module": "@jupyter-widgets/controls",
            "_model_module_version": "1.5.0",
            "value": 7,
            "_view_count": null,
            "_view_module_version": "1.5.0",
            "orientation": "horizontal",
            "min": 0,
            "description_tooltip": null,
            "_model_module": "@jupyter-widgets/controls",
            "layout": "IPY_MODEL_be1179dad1324f3394a462efd7b5f749"
          }
        },
        "47be0a10fa1d4b31b8fe0c8a1df1e3a3": {
          "model_module": "@jupyter-widgets/controls",
          "model_name": "ProgressStyleModel",
          "model_module_version": "1.5.0",
          "state": {
            "_view_name": "StyleView",
            "_model_name": "ProgressStyleModel",
            "description_width": "",
            "_view_module": "@jupyter-widgets/base",
            "_model_module_version": "1.5.0",
            "_view_count": null,
            "_view_module_version": "1.2.0",
            "bar_color": null,
            "_model_module": "@jupyter-widgets/controls"
          }
        },
        "be1179dad1324f3394a462efd7b5f749": {
          "model_module": "@jupyter-widgets/base",
          "model_name": "LayoutModel",
          "model_module_version": "1.2.0",
          "state": {
            "_view_name": "LayoutView",
            "grid_template_rows": null,
            "right": null,
            "justify_content": null,
            "_view_module": "@jupyter-widgets/base",
            "overflow": null,
            "_model_module_version": "1.2.0",
            "_view_count": null,
            "flex_flow": null,
            "width": null,
            "min_width": null,
            "border": null,
            "align_items": null,
            "bottom": null,
            "_model_module": "@jupyter-widgets/base",
            "top": null,
            "grid_column": null,
            "overflow_y": null,
            "overflow_x": null,
            "grid_auto_flow": null,
            "grid_area": null,
            "grid_template_columns": null,
            "flex": null,
            "_model_name": "LayoutModel",
            "justify_items": null,
            "grid_row": null,
            "max_height": null,
            "align_content": null,
            "visibility": null,
            "align_self": null,
            "height": null,
            "min_height": null,
            "padding": null,
            "grid_auto_rows": null,
            "grid_gap": null,
            "max_width": null,
            "order": null,
            "_view_module_version": "1.2.0",
            "grid_template_areas": null,
            "object_position": null,
            "object_fit": null,
            "grid_auto_columns": null,
            "margin": null,
            "display": null,
            "left": null
          }
        },
        "68652213da7d40008f15c089d551a76d": {
          "model_module": "@jupyter-widgets/controls",
          "model_name": "IntProgressModel",
          "model_module_version": "1.5.0",
          "state": {
            "_view_name": "ProgressView",
            "style": "IPY_MODEL_d746cd81a80246f292a7d414430e0b44",
            "_dom_classes": [],
            "description": "Processing: ",
            "_model_name": "IntProgressModel",
            "bar_style": "",
            "max": 5,
            "_view_module": "@jupyter-widgets/controls",
            "_model_module_version": "1.5.0",
            "value": 5,
            "_view_count": null,
            "_view_module_version": "1.5.0",
            "orientation": "horizontal",
            "min": 0,
            "description_tooltip": null,
            "_model_module": "@jupyter-widgets/controls",
            "layout": "IPY_MODEL_a3d95ab64bbf45ee99b790995d81cfb3"
          }
        },
        "d746cd81a80246f292a7d414430e0b44": {
          "model_module": "@jupyter-widgets/controls",
          "model_name": "ProgressStyleModel",
          "model_module_version": "1.5.0",
          "state": {
            "_view_name": "StyleView",
            "_model_name": "ProgressStyleModel",
            "description_width": "",
            "_view_module": "@jupyter-widgets/base",
            "_model_module_version": "1.5.0",
            "_view_count": null,
            "_view_module_version": "1.2.0",
            "bar_color": null,
            "_model_module": "@jupyter-widgets/controls"
          }
        },
        "a3d95ab64bbf45ee99b790995d81cfb3": {
          "model_module": "@jupyter-widgets/base",
          "model_name": "LayoutModel",
          "model_module_version": "1.2.0",
          "state": {
            "_view_name": "LayoutView",
            "grid_template_rows": null,
            "right": null,
            "justify_content": null,
            "_view_module": "@jupyter-widgets/base",
            "overflow": null,
            "_model_module_version": "1.2.0",
            "_view_count": null,
            "flex_flow": null,
            "width": null,
            "min_width": null,
            "border": null,
            "align_items": null,
            "bottom": null,
            "_model_module": "@jupyter-widgets/base",
            "top": null,
            "grid_column": null,
            "overflow_y": null,
            "overflow_x": null,
            "grid_auto_flow": null,
            "grid_area": null,
            "grid_template_columns": null,
            "flex": null,
            "_model_name": "LayoutModel",
            "justify_items": null,
            "grid_row": null,
            "max_height": null,
            "align_content": null,
            "visibility": null,
            "align_self": null,
            "height": null,
            "min_height": null,
            "padding": null,
            "grid_auto_rows": null,
            "grid_gap": null,
            "max_width": null,
            "order": null,
            "_view_module_version": "1.2.0",
            "grid_template_areas": null,
            "object_position": null,
            "object_fit": null,
            "grid_auto_columns": null,
            "margin": null,
            "display": null,
            "left": null
          }
        },
        "38d78d44d745423784f012b890cbff8f": {
          "model_module": "@jupyter-widgets/controls",
          "model_name": "HBoxModel",
          "model_module_version": "1.5.0",
          "state": {
            "_view_name": "HBoxView",
            "_dom_classes": [],
            "_model_name": "HBoxModel",
            "_view_module": "@jupyter-widgets/controls",
            "_model_module_version": "1.5.0",
            "_view_count": null,
            "_view_module_version": "1.5.0",
            "box_style": "",
            "layout": "IPY_MODEL_8d75c5cee16b42a7ac73a1476f3e1ea1",
            "_model_module": "@jupyter-widgets/controls",
            "children": [
              "IPY_MODEL_a3de68fea0104732bc589335909227fd",
              "IPY_MODEL_dfef198820ea4daeb26d9fb3e668a152",
              "IPY_MODEL_e4bf5f6de0704b61a340c96341cf04ff"
            ]
          }
        },
        "8d75c5cee16b42a7ac73a1476f3e1ea1": {
          "model_module": "@jupyter-widgets/base",
          "model_name": "LayoutModel",
          "model_module_version": "1.2.0",
          "state": {
            "_view_name": "LayoutView",
            "grid_template_rows": null,
            "right": null,
            "justify_content": null,
            "_view_module": "@jupyter-widgets/base",
            "overflow": null,
            "_model_module_version": "1.2.0",
            "_view_count": null,
            "flex_flow": null,
            "width": null,
            "min_width": null,
            "border": null,
            "align_items": null,
            "bottom": null,
            "_model_module": "@jupyter-widgets/base",
            "top": null,
            "grid_column": null,
            "overflow_y": null,
            "overflow_x": null,
            "grid_auto_flow": null,
            "grid_area": null,
            "grid_template_columns": null,
            "flex": null,
            "_model_name": "LayoutModel",
            "justify_items": null,
            "grid_row": null,
            "max_height": null,
            "align_content": null,
            "visibility": null,
            "align_self": null,
            "height": null,
            "min_height": null,
            "padding": null,
            "grid_auto_rows": null,
            "grid_gap": null,
            "max_width": null,
            "order": null,
            "_view_module_version": "1.2.0",
            "grid_template_areas": null,
            "object_position": null,
            "object_fit": null,
            "grid_auto_columns": null,
            "margin": null,
            "display": null,
            "left": null
          }
        },
        "a3de68fea0104732bc589335909227fd": {
          "model_module": "@jupyter-widgets/controls",
          "model_name": "HTMLModel",
          "model_module_version": "1.5.0",
          "state": {
            "_view_name": "HTMLView",
            "style": "IPY_MODEL_3a67299bb3bf4d3aa9458669a7842134",
            "_dom_classes": [],
            "description": "",
            "_model_name": "HTMLModel",
            "placeholder": "​",
            "_view_module": "@jupyter-widgets/controls",
            "_model_module_version": "1.5.0",
            "value": "  0%",
            "_view_count": null,
            "_view_module_version": "1.5.0",
            "description_tooltip": null,
            "_model_module": "@jupyter-widgets/controls",
            "layout": "IPY_MODEL_7366e4013fcc404482832585208955b7"
          }
        },
        "dfef198820ea4daeb26d9fb3e668a152": {
          "model_module": "@jupyter-widgets/controls",
          "model_name": "FloatProgressModel",
          "model_module_version": "1.5.0",
          "state": {
            "_view_name": "ProgressView",
            "style": "IPY_MODEL_d68e3d0f76f741a0b76b408bf919604a",
            "_dom_classes": [],
            "description": "",
            "_model_name": "FloatProgressModel",
            "bar_style": "danger",
            "max": 2000,
            "_view_module": "@jupyter-widgets/controls",
            "_model_module_version": "1.5.0",
            "value": 1,
            "_view_count": null,
            "_view_module_version": "1.5.0",
            "orientation": "horizontal",
            "min": 0,
            "description_tooltip": null,
            "_model_module": "@jupyter-widgets/controls",
            "layout": "IPY_MODEL_c7bbc16667094c56af9ddc2b0c7af341"
          }
        },
        "e4bf5f6de0704b61a340c96341cf04ff": {
          "model_module": "@jupyter-widgets/controls",
          "model_name": "HTMLModel",
          "model_module_version": "1.5.0",
          "state": {
            "_view_name": "HTMLView",
            "style": "IPY_MODEL_325e456794c64831b3ebb6b993d3393e",
            "_dom_classes": [],
            "description": "",
            "_model_name": "HTMLModel",
            "placeholder": "​",
            "_view_module": "@jupyter-widgets/controls",
            "_model_module_version": "1.5.0",
            "value": " 1/2000 [00:05&lt;34:53,  1.05s/it]",
            "_view_count": null,
            "_view_module_version": "1.5.0",
            "description_tooltip": null,
            "_model_module": "@jupyter-widgets/controls",
            "layout": "IPY_MODEL_0e8a51f470234781a9b77d6c5f86d09e"
          }
        },
        "3a67299bb3bf4d3aa9458669a7842134": {
          "model_module": "@jupyter-widgets/controls",
          "model_name": "DescriptionStyleModel",
          "model_module_version": "1.5.0",
          "state": {
            "_view_name": "StyleView",
            "_model_name": "DescriptionStyleModel",
            "description_width": "",
            "_view_module": "@jupyter-widgets/base",
            "_model_module_version": "1.5.0",
            "_view_count": null,
            "_view_module_version": "1.2.0",
            "_model_module": "@jupyter-widgets/controls"
          }
        },
        "7366e4013fcc404482832585208955b7": {
          "model_module": "@jupyter-widgets/base",
          "model_name": "LayoutModel",
          "model_module_version": "1.2.0",
          "state": {
            "_view_name": "LayoutView",
            "grid_template_rows": null,
            "right": null,
            "justify_content": null,
            "_view_module": "@jupyter-widgets/base",
            "overflow": null,
            "_model_module_version": "1.2.0",
            "_view_count": null,
            "flex_flow": null,
            "width": null,
            "min_width": null,
            "border": null,
            "align_items": null,
            "bottom": null,
            "_model_module": "@jupyter-widgets/base",
            "top": null,
            "grid_column": null,
            "overflow_y": null,
            "overflow_x": null,
            "grid_auto_flow": null,
            "grid_area": null,
            "grid_template_columns": null,
            "flex": null,
            "_model_name": "LayoutModel",
            "justify_items": null,
            "grid_row": null,
            "max_height": null,
            "align_content": null,
            "visibility": null,
            "align_self": null,
            "height": null,
            "min_height": null,
            "padding": null,
            "grid_auto_rows": null,
            "grid_gap": null,
            "max_width": null,
            "order": null,
            "_view_module_version": "1.2.0",
            "grid_template_areas": null,
            "object_position": null,
            "object_fit": null,
            "grid_auto_columns": null,
            "margin": null,
            "display": null,
            "left": null
          }
        },
        "d68e3d0f76f741a0b76b408bf919604a": {
          "model_module": "@jupyter-widgets/controls",
          "model_name": "ProgressStyleModel",
          "model_module_version": "1.5.0",
          "state": {
            "_view_name": "StyleView",
            "_model_name": "ProgressStyleModel",
            "description_width": "",
            "_view_module": "@jupyter-widgets/base",
            "_model_module_version": "1.5.0",
            "_view_count": null,
            "_view_module_version": "1.2.0",
            "bar_color": null,
            "_model_module": "@jupyter-widgets/controls"
          }
        },
        "c7bbc16667094c56af9ddc2b0c7af341": {
          "model_module": "@jupyter-widgets/base",
          "model_name": "LayoutModel",
          "model_module_version": "1.2.0",
          "state": {
            "_view_name": "LayoutView",
            "grid_template_rows": null,
            "right": null,
            "justify_content": null,
            "_view_module": "@jupyter-widgets/base",
            "overflow": null,
            "_model_module_version": "1.2.0",
            "_view_count": null,
            "flex_flow": null,
            "width": null,
            "min_width": null,
            "border": null,
            "align_items": null,
            "bottom": null,
            "_model_module": "@jupyter-widgets/base",
            "top": null,
            "grid_column": null,
            "overflow_y": null,
            "overflow_x": null,
            "grid_auto_flow": null,
            "grid_area": null,
            "grid_template_columns": null,
            "flex": null,
            "_model_name": "LayoutModel",
            "justify_items": null,
            "grid_row": null,
            "max_height": null,
            "align_content": null,
            "visibility": null,
            "align_self": null,
            "height": null,
            "min_height": null,
            "padding": null,
            "grid_auto_rows": null,
            "grid_gap": null,
            "max_width": null,
            "order": null,
            "_view_module_version": "1.2.0",
            "grid_template_areas": null,
            "object_position": null,
            "object_fit": null,
            "grid_auto_columns": null,
            "margin": null,
            "display": null,
            "left": null
          }
        },
        "325e456794c64831b3ebb6b993d3393e": {
          "model_module": "@jupyter-widgets/controls",
          "model_name": "DescriptionStyleModel",
          "model_module_version": "1.5.0",
          "state": {
            "_view_name": "StyleView",
            "_model_name": "DescriptionStyleModel",
            "description_width": "",
            "_view_module": "@jupyter-widgets/base",
            "_model_module_version": "1.5.0",
            "_view_count": null,
            "_view_module_version": "1.2.0",
            "_model_module": "@jupyter-widgets/controls"
          }
        },
        "0e8a51f470234781a9b77d6c5f86d09e": {
          "model_module": "@jupyter-widgets/base",
          "model_name": "LayoutModel",
          "model_module_version": "1.2.0",
          "state": {
            "_view_name": "LayoutView",
            "grid_template_rows": null,
            "right": null,
            "justify_content": null,
            "_view_module": "@jupyter-widgets/base",
            "overflow": null,
            "_model_module_version": "1.2.0",
            "_view_count": null,
            "flex_flow": null,
            "width": null,
            "min_width": null,
            "border": null,
            "align_items": null,
            "bottom": null,
            "_model_module": "@jupyter-widgets/base",
            "top": null,
            "grid_column": null,
            "overflow_y": null,
            "overflow_x": null,
            "grid_auto_flow": null,
            "grid_area": null,
            "grid_template_columns": null,
            "flex": null,
            "_model_name": "LayoutModel",
            "justify_items": null,
            "grid_row": null,
            "max_height": null,
            "align_content": null,
            "visibility": null,
            "align_self": null,
            "height": null,
            "min_height": null,
            "padding": null,
            "grid_auto_rows": null,
            "grid_gap": null,
            "max_width": null,
            "order": null,
            "_view_module_version": "1.2.0",
            "grid_template_areas": null,
            "object_position": null,
            "object_fit": null,
            "grid_auto_columns": null,
            "margin": null,
            "display": null,
            "left": null
          }
        }
      }
    }
  },
  "cells": [
    {
      "cell_type": "markdown",
      "metadata": {
        "id": "view-in-github",
        "colab_type": "text"
      },
      "source": [
        "<a href=\"https://colab.research.google.com/github/thyllmuller/AIML1-Project/blob/main/ML_Project.ipynb\" target=\"_parent\"><img src=\"https://colab.research.google.com/assets/colab-badge.svg\" alt=\"Open In Colab\"/></a>"
      ]
    },
    {
      "cell_type": "markdown",
      "source": [
        "# CS986 Fundamentals Of Machine Learning For Data Analytics (Group1)"
      ],
      "metadata": {
        "id": "5M6hfAB-fRXB"
      }
    },
    {
      "cell_type": "markdown",
      "source": [
        "## Initial Data Processing\n",
        "\n",
        "We begin by installing and importing relevant packages, hereafter we import the data for the Regression problem and make sure that any missing values are removed whilst we create initial train & test splits for our machine learning models."
      ],
      "metadata": {
        "id": "AWtBM6zgbGR3"
      }
    },
    {
      "cell_type": "markdown",
      "source": [
        "### Package Installs"
      ],
      "metadata": {
        "id": "ko4WyVyipCMl"
      }
    },
    {
      "cell_type": "code",
      "source": [
        "!pip install catboost\n",
        "!pip install optuna\n",
        "!pip install pycaret\n",
        "!pip install shap\n",
        "!pip install XGBoost"
      ],
      "metadata": {
        "id": "Aiv6YmHoo-1k",
        "colab": {
          "base_uri": "https://localhost:8080/"
        },
        "outputId": "a6b7900d-f273-4fde-d78e-9cb4730c3e62"
      },
      "execution_count": null,
      "outputs": [
        {
          "output_type": "stream",
          "name": "stdout",
          "text": [
            "Requirement already satisfied: catboost in /usr/local/lib/python3.7/dist-packages (1.0.4)\n",
            "Requirement already satisfied: six in /usr/local/lib/python3.7/dist-packages (from catboost) (1.15.0)\n",
            "Requirement already satisfied: pandas>=0.24.0 in /usr/local/lib/python3.7/dist-packages (from catboost) (1.3.5)\n",
            "Requirement already satisfied: plotly in /usr/local/lib/python3.7/dist-packages (from catboost) (5.5.0)\n",
            "Requirement already satisfied: graphviz in /usr/local/lib/python3.7/dist-packages (from catboost) (0.10.1)\n",
            "Requirement already satisfied: scipy in /usr/local/lib/python3.7/dist-packages (from catboost) (1.5.4)\n",
            "Requirement already satisfied: matplotlib in /usr/local/lib/python3.7/dist-packages (from catboost) (3.2.2)\n",
            "Requirement already satisfied: numpy>=1.16.0 in /usr/local/lib/python3.7/dist-packages (from catboost) (1.19.5)\n",
            "Requirement already satisfied: pytz>=2017.3 in /usr/local/lib/python3.7/dist-packages (from pandas>=0.24.0->catboost) (2018.9)\n",
            "Requirement already satisfied: python-dateutil>=2.7.3 in /usr/local/lib/python3.7/dist-packages (from pandas>=0.24.0->catboost) (2.8.2)\n",
            "Requirement already satisfied: cycler>=0.10 in /usr/local/lib/python3.7/dist-packages (from matplotlib->catboost) (0.11.0)\n",
            "Requirement already satisfied: kiwisolver>=1.0.1 in /usr/local/lib/python3.7/dist-packages (from matplotlib->catboost) (1.3.2)\n",
            "Requirement already satisfied: pyparsing!=2.0.4,!=2.1.2,!=2.1.6,>=2.0.1 in /usr/local/lib/python3.7/dist-packages (from matplotlib->catboost) (3.0.7)\n",
            "Requirement already satisfied: tenacity>=6.2.0 in /usr/local/lib/python3.7/dist-packages (from plotly->catboost) (8.0.1)\n",
            "Requirement already satisfied: optuna in /usr/local/lib/python3.7/dist-packages (2.10.0)\n",
            "Requirement already satisfied: cliff in /usr/local/lib/python3.7/dist-packages (from optuna) (3.10.1)\n",
            "Requirement already satisfied: sqlalchemy>=1.1.0 in /usr/local/lib/python3.7/dist-packages (from optuna) (1.4.31)\n",
            "Requirement already satisfied: alembic in /usr/local/lib/python3.7/dist-packages (from optuna) (1.7.6)\n",
            "Requirement already satisfied: PyYAML in /usr/local/lib/python3.7/dist-packages (from optuna) (5.4.1)\n",
            "Requirement already satisfied: colorlog in /usr/local/lib/python3.7/dist-packages (from optuna) (6.6.0)\n",
            "Requirement already satisfied: scipy!=1.4.0 in /usr/local/lib/python3.7/dist-packages (from optuna) (1.5.4)\n",
            "Requirement already satisfied: tqdm in /usr/local/lib/python3.7/dist-packages (from optuna) (4.62.3)\n",
            "Requirement already satisfied: packaging>=20.0 in /usr/local/lib/python3.7/dist-packages (from optuna) (21.3)\n",
            "Requirement already satisfied: numpy in /usr/local/lib/python3.7/dist-packages (from optuna) (1.19.5)\n",
            "Requirement already satisfied: cmaes>=0.8.2 in /usr/local/lib/python3.7/dist-packages (from optuna) (0.8.2)\n",
            "Requirement already satisfied: pyparsing!=3.0.5,>=2.0.2 in /usr/local/lib/python3.7/dist-packages (from packaging>=20.0->optuna) (3.0.7)\n",
            "Requirement already satisfied: importlib-metadata in /usr/local/lib/python3.7/dist-packages (from sqlalchemy>=1.1.0->optuna) (4.11.0)\n",
            "Requirement already satisfied: greenlet!=0.4.17 in /usr/local/lib/python3.7/dist-packages (from sqlalchemy>=1.1.0->optuna) (1.1.2)\n",
            "Requirement already satisfied: Mako in /usr/local/lib/python3.7/dist-packages (from alembic->optuna) (1.1.6)\n",
            "Requirement already satisfied: importlib-resources in /usr/local/lib/python3.7/dist-packages (from alembic->optuna) (5.4.0)\n",
            "Requirement already satisfied: pbr!=2.1.0,>=2.0.0 in /usr/local/lib/python3.7/dist-packages (from cliff->optuna) (5.8.1)\n",
            "Requirement already satisfied: PrettyTable>=0.7.2 in /usr/local/lib/python3.7/dist-packages (from cliff->optuna) (3.0.0)\n",
            "Requirement already satisfied: cmd2>=1.0.0 in /usr/local/lib/python3.7/dist-packages (from cliff->optuna) (2.3.3)\n",
            "Requirement already satisfied: autopage>=0.4.0 in /usr/local/lib/python3.7/dist-packages (from cliff->optuna) (0.5.0)\n",
            "Requirement already satisfied: stevedore>=2.0.1 in /usr/local/lib/python3.7/dist-packages (from cliff->optuna) (3.5.0)\n",
            "Requirement already satisfied: typing-extensions in /usr/local/lib/python3.7/dist-packages (from cmd2>=1.0.0->cliff->optuna) (3.10.0.2)\n",
            "Requirement already satisfied: wcwidth>=0.1.7 in /usr/local/lib/python3.7/dist-packages (from cmd2>=1.0.0->cliff->optuna) (0.2.5)\n",
            "Requirement already satisfied: attrs>=16.3.0 in /usr/local/lib/python3.7/dist-packages (from cmd2>=1.0.0->cliff->optuna) (21.4.0)\n",
            "Requirement already satisfied: pyperclip>=1.6 in /usr/local/lib/python3.7/dist-packages (from cmd2>=1.0.0->cliff->optuna) (1.8.2)\n",
            "Requirement already satisfied: zipp>=0.5 in /usr/local/lib/python3.7/dist-packages (from importlib-metadata->sqlalchemy>=1.1.0->optuna) (3.7.0)\n",
            "Requirement already satisfied: MarkupSafe>=0.9.2 in /usr/local/lib/python3.7/dist-packages (from Mako->alembic->optuna) (2.0.1)\n",
            "Requirement already satisfied: pycaret in /usr/local/lib/python3.7/dist-packages (2.3.6)\n",
            "Requirement already satisfied: mlflow in /usr/local/lib/python3.7/dist-packages (from pycaret) (1.23.1)\n",
            "Requirement already satisfied: kmodes>=0.10.1 in /usr/local/lib/python3.7/dist-packages (from pycaret) (0.11.1)\n",
            "Requirement already satisfied: seaborn in /usr/local/lib/python3.7/dist-packages (from pycaret) (0.11.2)\n",
            "Requirement already satisfied: pyyaml<6.0.0 in /usr/local/lib/python3.7/dist-packages (from pycaret) (5.4.1)\n",
            "Requirement already satisfied: scipy<=1.5.4 in /usr/local/lib/python3.7/dist-packages (from pycaret) (1.5.4)\n",
            "Requirement already satisfied: mlxtend>=0.17.0 in /usr/local/lib/python3.7/dist-packages (from pycaret) (0.19.0)\n",
            "Requirement already satisfied: pyLDAvis in /usr/local/lib/python3.7/dist-packages (from pycaret) (3.2.2)\n",
            "Requirement already satisfied: Boruta in /usr/local/lib/python3.7/dist-packages (from pycaret) (0.3)\n",
            "Requirement already satisfied: cufflinks>=0.17.0 in /usr/local/lib/python3.7/dist-packages (from pycaret) (0.17.3)\n",
            "Requirement already satisfied: yellowbrick>=1.0.1 in /usr/local/lib/python3.7/dist-packages (from pycaret) (1.3.post1)\n",
            "Requirement already satisfied: pandas-profiling>=2.8.0 in /usr/local/lib/python3.7/dist-packages (from pycaret) (3.1.0)\n",
            "Requirement already satisfied: matplotlib in /usr/local/lib/python3.7/dist-packages (from pycaret) (3.2.2)\n",
            "Requirement already satisfied: IPython in /usr/local/lib/python3.7/dist-packages (from pycaret) (5.5.0)\n",
            "Requirement already satisfied: textblob in /usr/local/lib/python3.7/dist-packages (from pycaret) (0.15.3)\n",
            "Requirement already satisfied: pyod in /usr/local/lib/python3.7/dist-packages (from pycaret) (0.9.7)\n",
            "Requirement already satisfied: plotly>=4.4.1 in /usr/local/lib/python3.7/dist-packages (from pycaret) (5.5.0)\n",
            "Requirement already satisfied: umap-learn in /usr/local/lib/python3.7/dist-packages (from pycaret) (0.5.2)\n",
            "Requirement already satisfied: ipywidgets in /usr/local/lib/python3.7/dist-packages (from pycaret) (7.6.5)\n",
            "Requirement already satisfied: wordcloud in /usr/local/lib/python3.7/dist-packages (from pycaret) (1.5.0)\n",
            "Requirement already satisfied: scikit-learn==0.23.2 in /usr/local/lib/python3.7/dist-packages (from pycaret) (0.23.2)\n",
            "Requirement already satisfied: nltk in /usr/local/lib/python3.7/dist-packages (from pycaret) (3.2.5)\n",
            "Requirement already satisfied: scikit-plot in /usr/local/lib/python3.7/dist-packages (from pycaret) (0.3.7)\n",
            "Requirement already satisfied: joblib in /usr/local/lib/python3.7/dist-packages (from pycaret) (1.0.1)\n",
            "Requirement already satisfied: gensim<4.0.0 in /usr/local/lib/python3.7/dist-packages (from pycaret) (3.6.0)\n",
            "Requirement already satisfied: spacy<2.4.0 in /usr/local/lib/python3.7/dist-packages (from pycaret) (2.2.4)\n",
            "Requirement already satisfied: pandas in /usr/local/lib/python3.7/dist-packages (from pycaret) (1.3.5)\n",
            "Requirement already satisfied: lightgbm>=2.3.1 in /usr/local/lib/python3.7/dist-packages (from pycaret) (3.3.2)\n",
            "Requirement already satisfied: imbalanced-learn==0.7.0 in /usr/local/lib/python3.7/dist-packages (from pycaret) (0.7.0)\n",
            "Requirement already satisfied: numpy>=1.13.3 in /usr/local/lib/python3.7/dist-packages (from imbalanced-learn==0.7.0->pycaret) (1.19.5)\n",
            "Requirement already satisfied: threadpoolctl>=2.0.0 in /usr/local/lib/python3.7/dist-packages (from scikit-learn==0.23.2->pycaret) (3.1.0)\n",
            "Requirement already satisfied: six>=1.9.0 in /usr/local/lib/python3.7/dist-packages (from cufflinks>=0.17.0->pycaret) (1.15.0)\n",
            "Requirement already satisfied: setuptools>=34.4.1 in /usr/local/lib/python3.7/dist-packages (from cufflinks>=0.17.0->pycaret) (57.4.0)\n",
            "Requirement already satisfied: colorlover>=0.2.1 in /usr/local/lib/python3.7/dist-packages (from cufflinks>=0.17.0->pycaret) (0.3.0)\n",
            "Requirement already satisfied: smart-open>=1.2.1 in /usr/local/lib/python3.7/dist-packages (from gensim<4.0.0->pycaret) (5.2.1)\n",
            "Requirement already satisfied: decorator in /usr/local/lib/python3.7/dist-packages (from IPython->pycaret) (4.4.2)\n",
            "Requirement already satisfied: traitlets>=4.2 in /usr/local/lib/python3.7/dist-packages (from IPython->pycaret) (5.1.1)\n",
            "Requirement already satisfied: pexpect in /usr/local/lib/python3.7/dist-packages (from IPython->pycaret) (4.8.0)\n",
            "Requirement already satisfied: prompt-toolkit<2.0.0,>=1.0.4 in /usr/local/lib/python3.7/dist-packages (from IPython->pycaret) (1.0.18)\n",
            "Requirement already satisfied: pickleshare in /usr/local/lib/python3.7/dist-packages (from IPython->pycaret) (0.7.5)\n",
            "Requirement already satisfied: simplegeneric>0.8 in /usr/local/lib/python3.7/dist-packages (from IPython->pycaret) (0.8.1)\n",
            "Requirement already satisfied: pygments in /usr/local/lib/python3.7/dist-packages (from IPython->pycaret) (2.6.1)\n",
            "Requirement already satisfied: ipykernel>=4.5.1 in /usr/local/lib/python3.7/dist-packages (from ipywidgets->pycaret) (4.10.1)\n",
            "Requirement already satisfied: nbformat>=4.2.0 in /usr/local/lib/python3.7/dist-packages (from ipywidgets->pycaret) (5.1.3)\n",
            "Requirement already satisfied: ipython-genutils~=0.2.0 in /usr/local/lib/python3.7/dist-packages (from ipywidgets->pycaret) (0.2.0)\n",
            "Requirement already satisfied: jupyterlab-widgets>=1.0.0 in /usr/local/lib/python3.7/dist-packages (from ipywidgets->pycaret) (1.0.2)\n",
            "Requirement already satisfied: widgetsnbextension~=3.5.0 in /usr/local/lib/python3.7/dist-packages (from ipywidgets->pycaret) (3.5.2)\n",
            "Requirement already satisfied: tornado>=4.0 in /usr/local/lib/python3.7/dist-packages (from ipykernel>=4.5.1->ipywidgets->pycaret) (5.1.1)\n",
            "Requirement already satisfied: jupyter-client in /usr/local/lib/python3.7/dist-packages (from ipykernel>=4.5.1->ipywidgets->pycaret) (5.3.5)\n",
            "Requirement already satisfied: wheel in /usr/local/lib/python3.7/dist-packages (from lightgbm>=2.3.1->pycaret) (0.37.1)\n",
            "Requirement already satisfied: cycler>=0.10 in /usr/local/lib/python3.7/dist-packages (from matplotlib->pycaret) (0.11.0)\n",
            "Requirement already satisfied: python-dateutil>=2.1 in /usr/local/lib/python3.7/dist-packages (from matplotlib->pycaret) (2.8.2)\n",
            "Requirement already satisfied: kiwisolver>=1.0.1 in /usr/local/lib/python3.7/dist-packages (from matplotlib->pycaret) (1.3.2)\n",
            "Requirement already satisfied: pyparsing!=2.0.4,!=2.1.2,!=2.1.6,>=2.0.1 in /usr/local/lib/python3.7/dist-packages (from matplotlib->pycaret) (3.0.7)\n",
            "Requirement already satisfied: jupyter-core in /usr/local/lib/python3.7/dist-packages (from nbformat>=4.2.0->ipywidgets->pycaret) (4.9.1)\n",
            "Requirement already satisfied: jsonschema!=2.5.0,>=2.4 in /usr/local/lib/python3.7/dist-packages (from nbformat>=4.2.0->ipywidgets->pycaret) (4.3.3)\n",
            "Requirement already satisfied: typing-extensions in /usr/local/lib/python3.7/dist-packages (from jsonschema!=2.5.0,>=2.4->nbformat>=4.2.0->ipywidgets->pycaret) (3.10.0.2)\n",
            "Requirement already satisfied: importlib-resources>=1.4.0 in /usr/local/lib/python3.7/dist-packages (from jsonschema!=2.5.0,>=2.4->nbformat>=4.2.0->ipywidgets->pycaret) (5.4.0)\n",
            "Requirement already satisfied: attrs>=17.4.0 in /usr/local/lib/python3.7/dist-packages (from jsonschema!=2.5.0,>=2.4->nbformat>=4.2.0->ipywidgets->pycaret) (21.4.0)\n",
            "Requirement already satisfied: importlib-metadata in /usr/local/lib/python3.7/dist-packages (from jsonschema!=2.5.0,>=2.4->nbformat>=4.2.0->ipywidgets->pycaret) (4.11.0)\n",
            "Requirement already satisfied: pyrsistent!=0.17.0,!=0.17.1,!=0.17.2,>=0.14.0 in /usr/local/lib/python3.7/dist-packages (from jsonschema!=2.5.0,>=2.4->nbformat>=4.2.0->ipywidgets->pycaret) (0.18.1)\n",
            "Requirement already satisfied: zipp>=3.1.0 in /usr/local/lib/python3.7/dist-packages (from importlib-resources>=1.4.0->jsonschema!=2.5.0,>=2.4->nbformat>=4.2.0->ipywidgets->pycaret) (3.7.0)\n",
            "Requirement already satisfied: pytz>=2017.3 in /usr/local/lib/python3.7/dist-packages (from pandas->pycaret) (2018.9)\n",
            "Requirement already satisfied: requests>=2.24.0 in /usr/local/lib/python3.7/dist-packages (from pandas-profiling>=2.8.0->pycaret) (2.27.1)\n",
            "Requirement already satisfied: pydantic>=1.8.1 in /usr/local/lib/python3.7/dist-packages (from pandas-profiling>=2.8.0->pycaret) (1.9.0)\n",
            "Requirement already satisfied: missingno>=0.4.2 in /usr/local/lib/python3.7/dist-packages (from pandas-profiling>=2.8.0->pycaret) (0.5.0)\n",
            "Requirement already satisfied: multimethod>=1.4 in /usr/local/lib/python3.7/dist-packages (from pandas-profiling>=2.8.0->pycaret) (1.7)\n",
            "Requirement already satisfied: markupsafe~=2.0.1 in /usr/local/lib/python3.7/dist-packages (from pandas-profiling>=2.8.0->pycaret) (2.0.1)\n",
            "Requirement already satisfied: tqdm>=4.48.2 in /usr/local/lib/python3.7/dist-packages (from pandas-profiling>=2.8.0->pycaret) (4.62.3)\n",
            "Requirement already satisfied: tangled-up-in-unicode==0.1.0 in /usr/local/lib/python3.7/dist-packages (from pandas-profiling>=2.8.0->pycaret) (0.1.0)\n",
            "Requirement already satisfied: visions[type_image_path]==0.7.4 in /usr/local/lib/python3.7/dist-packages (from pandas-profiling>=2.8.0->pycaret) (0.7.4)\n",
            "Requirement already satisfied: phik>=0.11.1 in /usr/local/lib/python3.7/dist-packages (from pandas-profiling>=2.8.0->pycaret) (0.12.0)\n",
            "Requirement already satisfied: htmlmin>=0.1.12 in /usr/local/lib/python3.7/dist-packages (from pandas-profiling>=2.8.0->pycaret) (0.1.12)\n",
            "Requirement already satisfied: jinja2>=2.11.1 in /usr/local/lib/python3.7/dist-packages (from pandas-profiling>=2.8.0->pycaret) (2.11.3)\n",
            "Requirement already satisfied: networkx>=2.4 in /usr/local/lib/python3.7/dist-packages (from visions[type_image_path]==0.7.4->pandas-profiling>=2.8.0->pycaret) (2.6.3)\n",
            "Requirement already satisfied: imagehash in /usr/local/lib/python3.7/dist-packages (from visions[type_image_path]==0.7.4->pandas-profiling>=2.8.0->pycaret) (4.2.1)\n",
            "Requirement already satisfied: Pillow in /usr/local/lib/python3.7/dist-packages (from visions[type_image_path]==0.7.4->pandas-profiling>=2.8.0->pycaret) (7.1.2)\n",
            "Requirement already satisfied: tenacity>=6.2.0 in /usr/local/lib/python3.7/dist-packages (from plotly>=4.4.1->pycaret) (8.0.1)\n",
            "Requirement already satisfied: wcwidth in /usr/local/lib/python3.7/dist-packages (from prompt-toolkit<2.0.0,>=1.0.4->IPython->pycaret) (0.2.5)\n",
            "Requirement already satisfied: charset-normalizer~=2.0.0 in /usr/local/lib/python3.7/dist-packages (from requests>=2.24.0->pandas-profiling>=2.8.0->pycaret) (2.0.11)\n",
            "Requirement already satisfied: certifi>=2017.4.17 in /usr/local/lib/python3.7/dist-packages (from requests>=2.24.0->pandas-profiling>=2.8.0->pycaret) (2021.10.8)\n",
            "Requirement already satisfied: urllib3<1.27,>=1.21.1 in /usr/local/lib/python3.7/dist-packages (from requests>=2.24.0->pandas-profiling>=2.8.0->pycaret) (1.24.3)\n",
            "Requirement already satisfied: idna<4,>=2.5 in /usr/local/lib/python3.7/dist-packages (from requests>=2.24.0->pandas-profiling>=2.8.0->pycaret) (2.10)\n",
            "Requirement already satisfied: thinc==7.4.0 in /usr/local/lib/python3.7/dist-packages (from spacy<2.4.0->pycaret) (7.4.0)\n",
            "Requirement already satisfied: catalogue<1.1.0,>=0.0.7 in /usr/local/lib/python3.7/dist-packages (from spacy<2.4.0->pycaret) (1.0.0)\n",
            "Requirement already satisfied: srsly<1.1.0,>=1.0.2 in /usr/local/lib/python3.7/dist-packages (from spacy<2.4.0->pycaret) (1.0.5)\n",
            "Requirement already satisfied: murmurhash<1.1.0,>=0.28.0 in /usr/local/lib/python3.7/dist-packages (from spacy<2.4.0->pycaret) (1.0.6)\n",
            "Requirement already satisfied: preshed<3.1.0,>=3.0.2 in /usr/local/lib/python3.7/dist-packages (from spacy<2.4.0->pycaret) (3.0.6)\n",
            "Requirement already satisfied: plac<1.2.0,>=0.9.6 in /usr/local/lib/python3.7/dist-packages (from spacy<2.4.0->pycaret) (1.1.3)\n",
            "Requirement already satisfied: cymem<2.1.0,>=2.0.2 in /usr/local/lib/python3.7/dist-packages (from spacy<2.4.0->pycaret) (2.0.6)\n",
            "Requirement already satisfied: wasabi<1.1.0,>=0.4.0 in /usr/local/lib/python3.7/dist-packages (from spacy<2.4.0->pycaret) (0.9.0)\n",
            "Requirement already satisfied: blis<0.5.0,>=0.4.0 in /usr/local/lib/python3.7/dist-packages (from spacy<2.4.0->pycaret) (0.4.1)\n",
            "Requirement already satisfied: notebook>=4.4.1 in /usr/local/lib/python3.7/dist-packages (from widgetsnbextension~=3.5.0->ipywidgets->pycaret) (5.3.1)\n",
            "Requirement already satisfied: nbconvert in /usr/local/lib/python3.7/dist-packages (from notebook>=4.4.1->widgetsnbextension~=3.5.0->ipywidgets->pycaret) (5.6.1)\n",
            "Requirement already satisfied: terminado>=0.8.1 in /usr/local/lib/python3.7/dist-packages (from notebook>=4.4.1->widgetsnbextension~=3.5.0->ipywidgets->pycaret) (0.13.1)\n",
            "Requirement already satisfied: Send2Trash in /usr/local/lib/python3.7/dist-packages (from notebook>=4.4.1->widgetsnbextension~=3.5.0->ipywidgets->pycaret) (1.8.0)\n",
            "Requirement already satisfied: pyzmq>=13 in /usr/local/lib/python3.7/dist-packages (from jupyter-client->ipykernel>=4.5.1->ipywidgets->pycaret) (22.3.0)\n",
            "Requirement already satisfied: ptyprocess in /usr/local/lib/python3.7/dist-packages (from terminado>=0.8.1->notebook>=4.4.1->widgetsnbextension~=3.5.0->ipywidgets->pycaret) (0.7.0)\n",
            "Requirement already satisfied: PyWavelets in /usr/local/lib/python3.7/dist-packages (from imagehash->visions[type_image_path]==0.7.4->pandas-profiling>=2.8.0->pycaret) (1.2.0)\n",
            "Requirement already satisfied: cloudpickle in /usr/local/lib/python3.7/dist-packages (from mlflow->pycaret) (1.3.0)\n",
            "Requirement already satisfied: click>=7.0 in /usr/local/lib/python3.7/dist-packages (from mlflow->pycaret) (7.1.2)\n",
            "Requirement already satisfied: alembic in /usr/local/lib/python3.7/dist-packages (from mlflow->pycaret) (1.7.6)\n",
            "Requirement already satisfied: Flask in /usr/local/lib/python3.7/dist-packages (from mlflow->pycaret) (1.1.4)\n",
            "Requirement already satisfied: entrypoints in /usr/local/lib/python3.7/dist-packages (from mlflow->pycaret) (0.4)\n",
            "Requirement already satisfied: sqlparse>=0.3.1 in /usr/local/lib/python3.7/dist-packages (from mlflow->pycaret) (0.4.2)\n",
            "Requirement already satisfied: gitpython>=2.1.0 in /usr/local/lib/python3.7/dist-packages (from mlflow->pycaret) (3.1.27)\n",
            "Requirement already satisfied: packaging in /usr/local/lib/python3.7/dist-packages (from mlflow->pycaret) (21.3)\n",
            "Requirement already satisfied: gunicorn in /usr/local/lib/python3.7/dist-packages (from mlflow->pycaret) (20.1.0)\n",
            "Requirement already satisfied: protobuf>=3.7.0 in /usr/local/lib/python3.7/dist-packages (from mlflow->pycaret) (3.17.3)\n",
            "Requirement already satisfied: querystring-parser in /usr/local/lib/python3.7/dist-packages (from mlflow->pycaret) (1.2.4)\n",
            "Requirement already satisfied: sqlalchemy in /usr/local/lib/python3.7/dist-packages (from mlflow->pycaret) (1.4.31)\n",
            "Requirement already satisfied: docker>=4.0.0 in /usr/local/lib/python3.7/dist-packages (from mlflow->pycaret) (5.0.3)\n",
            "Requirement already satisfied: prometheus-flask-exporter in /usr/local/lib/python3.7/dist-packages (from mlflow->pycaret) (0.18.7)\n",
            "Requirement already satisfied: databricks-cli>=0.8.7 in /usr/local/lib/python3.7/dist-packages (from mlflow->pycaret) (0.16.4)\n",
            "Requirement already satisfied: tabulate>=0.7.7 in /usr/local/lib/python3.7/dist-packages (from databricks-cli>=0.8.7->mlflow->pycaret) (0.8.9)\n",
            "Requirement already satisfied: websocket-client>=0.32.0 in /usr/local/lib/python3.7/dist-packages (from docker>=4.0.0->mlflow->pycaret) (1.2.3)\n",
            "Requirement already satisfied: gitdb<5,>=4.0.1 in /usr/local/lib/python3.7/dist-packages (from gitpython>=2.1.0->mlflow->pycaret) (4.0.9)\n",
            "Requirement already satisfied: smmap<6,>=3.0.1 in /usr/local/lib/python3.7/dist-packages (from gitdb<5,>=4.0.1->gitpython>=2.1.0->mlflow->pycaret) (5.0.0)\n",
            "Requirement already satisfied: Mako in /usr/local/lib/python3.7/dist-packages (from alembic->mlflow->pycaret) (1.1.6)\n",
            "Requirement already satisfied: greenlet!=0.4.17 in /usr/local/lib/python3.7/dist-packages (from sqlalchemy->mlflow->pycaret) (1.1.2)\n",
            "Requirement already satisfied: itsdangerous<2.0,>=0.24 in /usr/local/lib/python3.7/dist-packages (from Flask->mlflow->pycaret) (1.1.0)\n",
            "Requirement already satisfied: Werkzeug<2.0,>=0.15 in /usr/local/lib/python3.7/dist-packages (from Flask->mlflow->pycaret) (1.0.1)\n",
            "Requirement already satisfied: defusedxml in /usr/local/lib/python3.7/dist-packages (from nbconvert->notebook>=4.4.1->widgetsnbextension~=3.5.0->ipywidgets->pycaret) (0.7.1)\n",
            "Requirement already satisfied: bleach in /usr/local/lib/python3.7/dist-packages (from nbconvert->notebook>=4.4.1->widgetsnbextension~=3.5.0->ipywidgets->pycaret) (4.1.0)\n",
            "Requirement already satisfied: testpath in /usr/local/lib/python3.7/dist-packages (from nbconvert->notebook>=4.4.1->widgetsnbextension~=3.5.0->ipywidgets->pycaret) (0.5.0)\n",
            "Requirement already satisfied: pandocfilters>=1.4.1 in /usr/local/lib/python3.7/dist-packages (from nbconvert->notebook>=4.4.1->widgetsnbextension~=3.5.0->ipywidgets->pycaret) (1.5.0)\n",
            "Requirement already satisfied: mistune<2,>=0.8.1 in /usr/local/lib/python3.7/dist-packages (from nbconvert->notebook>=4.4.1->widgetsnbextension~=3.5.0->ipywidgets->pycaret) (0.8.4)\n",
            "Requirement already satisfied: webencodings in /usr/local/lib/python3.7/dist-packages (from bleach->nbconvert->notebook>=4.4.1->widgetsnbextension~=3.5.0->ipywidgets->pycaret) (0.5.1)\n",
            "Requirement already satisfied: prometheus-client in /usr/local/lib/python3.7/dist-packages (from prometheus-flask-exporter->mlflow->pycaret) (0.13.1)\n",
            "Requirement already satisfied: funcy in /usr/local/lib/python3.7/dist-packages (from pyLDAvis->pycaret) (1.17)\n",
            "Requirement already satisfied: future in /usr/local/lib/python3.7/dist-packages (from pyLDAvis->pycaret) (0.16.0)\n",
            "Requirement already satisfied: numexpr in /usr/local/lib/python3.7/dist-packages (from pyLDAvis->pycaret) (2.8.1)\n",
            "Requirement already satisfied: statsmodels in /usr/local/lib/python3.7/dist-packages (from pyod->pycaret) (0.10.2)\n",
            "Requirement already satisfied: numba>=0.35 in /usr/local/lib/python3.7/dist-packages (from pyod->pycaret) (0.51.2)\n",
            "Requirement already satisfied: llvmlite<0.35,>=0.34.0.dev0 in /usr/local/lib/python3.7/dist-packages (from numba>=0.35->pyod->pycaret) (0.34.0)\n",
            "Requirement already satisfied: patsy>=0.4.0 in /usr/local/lib/python3.7/dist-packages (from statsmodels->pyod->pycaret) (0.5.2)\n",
            "Requirement already satisfied: pynndescent>=0.5 in /usr/local/lib/python3.7/dist-packages (from umap-learn->pycaret) (0.5.6)\n",
            "Requirement already satisfied: shap in /usr/local/lib/python3.7/dist-packages (0.40.0)\n",
            "Requirement already satisfied: tqdm>4.25.0 in /usr/local/lib/python3.7/dist-packages (from shap) (4.62.3)\n",
            "Requirement already satisfied: slicer==0.0.7 in /usr/local/lib/python3.7/dist-packages (from shap) (0.0.7)\n",
            "Requirement already satisfied: numba in /usr/local/lib/python3.7/dist-packages (from shap) (0.51.2)\n",
            "Requirement already satisfied: scikit-learn in /usr/local/lib/python3.7/dist-packages (from shap) (0.23.2)\n",
            "Requirement already satisfied: pandas in /usr/local/lib/python3.7/dist-packages (from shap) (1.3.5)\n",
            "Requirement already satisfied: cloudpickle in /usr/local/lib/python3.7/dist-packages (from shap) (1.3.0)\n",
            "Requirement already satisfied: scipy in /usr/local/lib/python3.7/dist-packages (from shap) (1.5.4)\n",
            "Requirement already satisfied: numpy in /usr/local/lib/python3.7/dist-packages (from shap) (1.19.5)\n",
            "Requirement already satisfied: packaging>20.9 in /usr/local/lib/python3.7/dist-packages (from shap) (21.3)\n",
            "Requirement already satisfied: pyparsing!=3.0.5,>=2.0.2 in /usr/local/lib/python3.7/dist-packages (from packaging>20.9->shap) (3.0.7)\n",
            "Requirement already satisfied: setuptools in /usr/local/lib/python3.7/dist-packages (from numba->shap) (57.4.0)\n",
            "Requirement already satisfied: llvmlite<0.35,>=0.34.0.dev0 in /usr/local/lib/python3.7/dist-packages (from numba->shap) (0.34.0)\n",
            "Requirement already satisfied: pytz>=2017.3 in /usr/local/lib/python3.7/dist-packages (from pandas->shap) (2018.9)\n",
            "Requirement already satisfied: python-dateutil>=2.7.3 in /usr/local/lib/python3.7/dist-packages (from pandas->shap) (2.8.2)\n",
            "Requirement already satisfied: six>=1.5 in /usr/local/lib/python3.7/dist-packages (from python-dateutil>=2.7.3->pandas->shap) (1.15.0)\n",
            "Requirement already satisfied: joblib>=0.11 in /usr/local/lib/python3.7/dist-packages (from scikit-learn->shap) (1.0.1)\n",
            "Requirement already satisfied: threadpoolctl>=2.0.0 in /usr/local/lib/python3.7/dist-packages (from scikit-learn->shap) (3.1.0)\n",
            "Requirement already satisfied: XGBoost in /usr/local/lib/python3.7/dist-packages (0.90)\n",
            "Requirement already satisfied: numpy in /usr/local/lib/python3.7/dist-packages (from XGBoost) (1.19.5)\n",
            "Requirement already satisfied: scipy in /usr/local/lib/python3.7/dist-packages (from XGBoost) (1.5.4)\n"
          ]
        }
      ]
    },
    {
      "cell_type": "markdown",
      "source": [
        "###Package Imports"
      ],
      "metadata": {
        "id": "QaFs2IagV9lw"
      }
    },
    {
      "cell_type": "code",
      "execution_count": null,
      "metadata": {
        "id": "hcZyw6byJEtJ"
      },
      "outputs": [],
      "source": [
        "import numpy as np\n",
        "import pandas as pd\n",
        "import matplotlib.pyplot as plt\n",
        "import seaborn as sns\n",
        "import catboost\n",
        "import random\n",
        "import optuna\n",
        "import shap\n",
        "import xgboost as xgb\n",
        "\n",
        "from catboost import Pool, CatBoostRegressor, CatBoostClassifier, metrics\n",
        "from scipy import stats\n",
        "from sklearn.model_selection import train_test_split, StratifiedKFold, GridSearchCV,RepeatedStratifiedKFold\n",
        "from sklearn.preprocessing import OneHotEncoder, LabelEncoder, StandardScaler, MinMaxScaler, OrdinalEncoder\n",
        "from sklearn.metrics import r2_score, mean_squared_error, mean_absolute_error, accuracy_score, f1_score, precision_score, recall_score\n",
        "from sklearn.linear_model import Lasso, LassoCV, Ridge, RidgeCV, LogisticRegression, LogisticRegressionCV\n",
        "from sklearn.discriminant_analysis import LinearDiscriminantAnalysis\n",
        "from sklearn.compose import ColumnTransformer\n",
        "from sklearn.svm import LinearSVC\n",
        "from sklearn.pipeline import make_pipeline\n",
        "from sklearn.feature_selection import SelectKBest, f_classif\n",
        "from xgboost import XGBClassifier\n"
      ]
    },
    {
      "cell_type": "markdown",
      "source": [
        "We import the data for the EDA section."
      ],
      "metadata": {
        "id": "62JkOFV2iCe0"
      }
    },
    {
      "cell_type": "code",
      "source": [
        "def eda_load(): # function to import clean sets\n",
        "    data = pd.read_csv(\"CS98XRegressionTrain.csv\", low_memory=False)\n",
        "    return data"
      ],
      "metadata": {
        "id": "z-99EM-QiAoB"
      },
      "execution_count": null,
      "outputs": []
    },
    {
      "cell_type": "code",
      "source": [
        "eda = eda_load()\n",
        "eda = eda.dropna(how=\"any\").copy() # instantly drop na because we know they will interfere with ML.\n"
      ],
      "metadata": {
        "id": "yxmDjN4HiAoB"
      },
      "execution_count": null,
      "outputs": []
    },
    {
      "cell_type": "markdown",
      "source": [
        "## Exploratory Data Analysis for Both Tasks\n",
        "\n",
        "The datasets for both tasks were the same, albeit the target variable was different in each task.\n",
        "\n",
        "Our initial interest was in understanding how the data was made up, such that we could more effectively apply methodologies to counter, for instance, outliers or data that would require further scaling."
      ],
      "metadata": {
        "id": "4Q5oxkqcf_tB"
      }
    },
    {
      "cell_type": "code",
      "source": [
        "#Boxplot without Year \n",
        "#sns.boxplot(data=reg_train.drop(['title', 'artist', 'top genre','year', \"Id\"], axis=1))\n",
        "sns.boxplot(data=eda.drop([\"year\"], axis=1))\n",
        "\n",
        "plt.xlabel('Features')\n",
        "plt.ylabel('Value')\n",
        "plt.show()"
      ],
      "metadata": {
        "colab": {
          "base_uri": "https://localhost:8080/",
          "height": 279
        },
        "id": "IIsoQYfL68Vw",
        "outputId": "2af4a666-2c8a-4534-c009-d35962debdb1"
      },
      "execution_count": null,
      "outputs": [
        {
          "output_type": "display_data",
          "data": {
            "image/png": "[encoded data removed]",
            "text/plain": [
              "<Figure size 432x288 with 1 Axes>"
            ]
          },
          "metadata": {
            "needs_background": "light"
          }
        }
      ]
    },
    {
      "cell_type": "markdown",
      "source": [
        "This shows us that we likely need to apply scaling to bring dur, spch, bpm and perhaps dB inline with the rest of the features. \n",
        "\n",
        "Also, there are many outliers in dur and spch, these need to be adressed as well, we do this via statistical methodology for the removal of outliers."
      ],
      "metadata": {
        "id": "eXOUSshV7FeM"
      }
    },
    {
      "cell_type": "code",
      "source": [
        "# We handle outliers via statistical methods for removal of those deemed non-significant.\n",
        "numerics = ['int16', 'int32', 'int64', 'float16', 'float32', 'float64']\n",
        "eda=eda[(np.abs(stats.zscore(eda.select_dtypes(include=numerics))) < 3).all(axis=1)] #statistical removal of outliers"
      ],
      "metadata": {
        "id": "jORln40U-N8n"
      },
      "execution_count": null,
      "outputs": []
    },
    {
      "cell_type": "code",
      "source": [
        "#linear correlation matrix - heatmap\n",
        "fig, ax = plt.subplots(figsize=(15,10))\n",
        "sns.heatmap(eda.corr(), annot=True, cmap='YlGnBu', vmin=-1, vmax=1, center=0, ax=ax)\n",
        "plt.title('LINEAR CORRELATION MATRIX')\n",
        "plt.show()"
      ],
      "metadata": {
        "colab": {
          "base_uri": "https://localhost:8080/",
          "height": 607
        },
        "id": "zchcr29T7oAW",
        "outputId": "16b1ee72-e865-4d7a-b88b-90ff00625bcb"
      },
      "execution_count": null,
      "outputs": [
        {
          "output_type": "display_data",
          "data": {
            "image/png": "[encoded data removed]",
            "text/plain": [
              "<Figure size 1080x720 with 2 Axes>"
            ]
          },
          "metadata": {
            "needs_background": "light"
          }
        }
      ]
    },
    {
      "cell_type": "markdown",
      "source": [
        "The correlation matrix shows us features which we might want to consider removing due to high colinearity, such as dB and nrgy (0.66). However, statistically, this was strictly not high enough to justify removal. Therefore, it was decided to keep both features."
      ],
      "metadata": {
        "id": "r9AI1zL_74cH"
      }
    },
    {
      "cell_type": "markdown",
      "source": [
        "## Assessing the need for Data-Scaling in our Methodology\n"
      ],
      "metadata": {
        "id": "kTNyYCsJpUYI"
      }
    },
    {
      "cell_type": "code",
      "source": [
        "def draw_histograms(df, variables, n_rows, n_cols): #overkill but it lets us plot everything, including categorical.\n",
        "    fig=plt.figure()\n",
        "    for i, var_name in enumerate(variables):\n",
        "        ax=fig.add_subplot(n_rows,n_cols,i+1)\n",
        "        df[var_name].hist(bins=10,ax=ax)\n",
        "        ax.set_title(var_name+\" Distribution\")\n",
        "        plt.tick_params(axis='x',          \n",
        "                        which='both',      \n",
        "                        bottom=False,      \n",
        "                        top=False,         \n",
        "                        labelbottom=False)\n",
        "    \n",
        "    fig.tight_layout()  \n",
        "    plt.subplots_adjust(wspace=0.1, hspace=0.7)\n",
        "    plt.show()\n",
        "\n",
        "draw_histograms(eda, eda.columns, 4, 4)"
      ],
      "metadata": {
        "colab": {
          "base_uri": "https://localhost:8080/",
          "height": 297
        },
        "id": "2gD0nXGykVUC",
        "outputId": "836270b4-cef4-4b78-ed29-bb3c1b2f3aee"
      },
      "execution_count": null,
      "outputs": [
        {
          "output_type": "display_data",
          "data": {
            "image/png": "[encoded data removed]",
            "text/plain": [
              "<Figure size 432x288 with 15 Axes>"
            ]
          },
          "metadata": {
            "needs_background": "light"
          }
        }
      ]
    },
    {
      "cell_type": "markdown",
      "source": [
        "As the majority of our features are approximately normally distributed, we can use standardscaler to optimise our imported data at a later stage.\n",
        "\n",
        "Categorical features like title and artist can be ignored, as their evaluation in the histograms is not relevant. \n",
        "\n",
        "Top genre has a long tail that we can evaluate as well:\n"
      ],
      "metadata": {
        "id": "9CAK3RGNpbIT"
      }
    },
    {
      "cell_type": "code",
      "source": [
        "#finding percentage of each top genre and showing the top 15\n",
        "plt.axis('off') # disable the axis since they cause label issues\n",
        "classtr_top10x = eda[\"top genre\"].value_counts() # counts\n",
        "classtr_top10y = classtr_top10x.head(10) # top 10\n",
        "if len(classtr_top10x) > 10: #pie chart category splits for the remaining\n",
        "    classtr_top10y['remaining {0} items'.format(len(classtr_top10x) - 10)] = sum(classtr_top10x[10:])\n",
        "classtr_top10y.plot(kind='pie') # plot\n"
      ],
      "metadata": {
        "colab": {
          "base_uri": "https://localhost:8080/",
          "height": 265
        },
        "id": "yzVT8Jh94D52",
        "outputId": "1e98327a-490d-4429-8138-5e1c1fd17b60"
      },
      "execution_count": null,
      "outputs": [
        {
          "output_type": "execute_result",
          "data": {
            "text/plain": [
              "<matplotlib.axes._subplots.AxesSubplot at 0x7f52a5740a90>"
            ]
          },
          "metadata": {},
          "execution_count": 9
        },
        {
          "output_type": "display_data",
          "data": {
            "image/png": "[encoded data removed]",
            "text/plain": [
              "<Figure size 432x288 with 1 Axes>"
            ]
          },
          "metadata": {}
        }
      ]
    },
    {
      "cell_type": "markdown",
      "source": [
        "Top 15 genres comprised >60% of the labels for the entire dataset, overshadowing the remaining 76 genres [labels].\n",
        "\n",
        "We can check occurances:"
      ],
      "metadata": {
        "id": "nBYXnEupXi7M"
      }
    },
    {
      "cell_type": "code",
      "source": [
        "eda['top genre'].value_counts()"
      ],
      "metadata": {
        "colab": {
          "base_uri": "https://localhost:8080/"
        },
        "id": "n0iut23RqSPI",
        "outputId": "e6d8a555-0c1c-4f57-b0f5-e5e4aeaa922b"
      },
      "execution_count": null,
      "outputs": [
        {
          "output_type": "execute_result",
          "data": {
            "text/plain": [
              "adult standards       66\n",
              "album rock            62\n",
              "dance pop             55\n",
              "glam rock             16\n",
              "brill building pop    15\n",
              "                      ..\n",
              "british dance band     1\n",
              "drone folk             1\n",
              "bow pop                1\n",
              "australian rock        1\n",
              "alternative rock       1\n",
              "Name: top genre, Length: 80, dtype: int64"
            ]
          },
          "metadata": {},
          "execution_count": 10
        }
      ]
    },
    {
      "cell_type": "markdown",
      "source": [
        "This makes stratified splits impossible. Alternative methods to deal with this exist - such as not having unseen labels in the test set. This will be used partially, however - for the classification task we will simply remove the singular occurances as our approach for this task."
      ],
      "metadata": {
        "id": "hwR0R4Prq4wM"
      }
    },
    {
      "cell_type": "code",
      "source": [
        "eda2 = eda.loc[eda.duplicated(subset='top genre', keep=False), :]\n",
        "eda2['top genre'].value_counts()"
      ],
      "metadata": {
        "colab": {
          "base_uri": "https://localhost:8080/"
        },
        "id": "gqYAJz6JrFiU",
        "outputId": "b1d408aa-2437-4d93-f161-da1595b4d270"
      },
      "execution_count": null,
      "outputs": [
        {
          "output_type": "execute_result",
          "data": {
            "text/plain": [
              "adult standards         66\n",
              "album rock              62\n",
              "dance pop               55\n",
              "glam rock               16\n",
              "brill building pop      15\n",
              "europop                 14\n",
              "dance rock              13\n",
              "boy band                10\n",
              "bubblegum dance          7\n",
              "british invasion         7\n",
              "deep adult standards     6\n",
              "disco                    6\n",
              "barbadian pop            6\n",
              "eurodance                6\n",
              "art rock                 6\n",
              "british soul             5\n",
              "soft rock                5\n",
              "pop                      5\n",
              "doo-wop                  4\n",
              "classic uk pop           4\n",
              "atl hip hop              4\n",
              "classic soul             4\n",
              "disco house              3\n",
              "new wave pop             3\n",
              "chicago rap              2\n",
              "glam metal               2\n",
              "celtic rock              2\n",
              "blues rock               2\n",
              "g funk                   2\n",
              "merseybeat               2\n",
              "permanent wave           2\n",
              "country rock             2\n",
              "classic rock             2\n",
              "chicago soul             2\n",
              "british folk             2\n",
              "belgian pop              2\n",
              "canadian pop             2\n",
              "art pop                  2\n",
              "chanson                  2\n",
              "Name: top genre, dtype: int64"
            ]
          },
          "metadata": {},
          "execution_count": 11
        }
      ]
    },
    {
      "cell_type": "markdown",
      "source": [
        "Uniques removed, this approach will be used in the following section.\n",
        "\n",
        "Finally we look at artist duplication in the data:"
      ],
      "metadata": {
        "id": "ijrX9xpjtCz4"
      }
    },
    {
      "cell_type": "code",
      "source": [
        "eda['artist'].value_counts()"
      ],
      "metadata": {
        "colab": {
          "base_uri": "https://localhost:8080/"
        },
        "id": "ejIXYPSqVH1F",
        "outputId": "dbb0658c-9e6e-44ba-bb30-50054cc9eada"
      },
      "execution_count": null,
      "outputs": [
        {
          "output_type": "execute_result",
          "data": {
            "text/plain": [
              "Elton John         9\n",
              "ABBA               7\n",
              "Queen              7\n",
              "Rihanna            5\n",
              "Whitney Houston    5\n",
              "                  ..\n",
              "Van Halen          1\n",
              "Paul Young         1\n",
              "Keri Hilson        1\n",
              "Four Tops          1\n",
              "*NSYNC             1\n",
              "Name: artist, Length: 303, dtype: int64"
            ]
          },
          "metadata": {},
          "execution_count": 12
        }
      ]
    },
    {
      "cell_type": "markdown",
      "source": [
        "Majority of artists only appear once. Few appear very often. This skews the data somewhat. Out of precaution we will remove this column for this reason, and we can use feature selection later to justify this choice."
      ],
      "metadata": {
        "id": "sknUerzBVVM9"
      }
    },
    {
      "cell_type": "markdown",
      "source": [
        "# Classification Report"
      ],
      "metadata": {
        "id": "ahfgJJA_-aHi"
      }
    },
    {
      "cell_type": "markdown",
      "source": [
        "##Initial Steps."
      ],
      "metadata": {
        "id": "x9sdYJiFurfu"
      }
    },
    {
      "cell_type": "markdown",
      "source": [
        "###  Importing data"
      ],
      "metadata": {
        "id": "Hn2GJyQ1UObA"
      }
    },
    {
      "cell_type": "code",
      "source": [
        "def class_load(): #function to load classification data\n",
        "    classtr = pd.read_csv(\"CS98XClassificationTrain.csv\", low_memory=False)\n",
        "    classte = pd.read_csv(\"CS98XClassificationTest.csv\", low_memory=False)\n",
        "    return classtr, classte"
      ],
      "metadata": {
        "id": "GpoeM1mTurf1"
      },
      "execution_count": null,
      "outputs": []
    },
    {
      "cell_type": "markdown",
      "source": [
        "### Cleaning"
      ],
      "metadata": {
        "id": "X-SIDNuNURoo"
      }
    },
    {
      "cell_type": "code",
      "source": [
        "# Load data and clean it, removing na and also removing duplicates.\n",
        "class_train, class_test = class_load()  # load data\n",
        "class_train = class_train.loc[class_train.duplicated(subset='top genre', keep=False), :]\n",
        "class_train = class_train.dropna(how=\"any\").copy()  # drop irrelevant columns + reset index (or not)\n",
        "\n",
        "# Split data into X and y plus add in test set\n",
        "X = class_train.drop(columns=[\"top genre\", \"Id\"])  \n",
        "y = class_train[\"top genre\"]\n",
        "\n",
        "# make sure our import didn't miss anything\n",
        "class_train.isna().any().any() #check for NA's in the dataset entirely"
      ],
      "metadata": {
        "colab": {
          "base_uri": "https://localhost:8080/"
        },
        "outputId": "7b811620-ab67-4649-97b1-39a0a78acfed",
        "id": "XgzvDX4curf1"
      },
      "execution_count": null,
      "outputs": [
        {
          "output_type": "execute_result",
          "data": {
            "text/plain": [
              "False"
            ]
          },
          "metadata": {},
          "execution_count": 39
        }
      ]
    },
    {
      "cell_type": "markdown",
      "source": [
        "Before we can do feature selection, we need to encode our data because of the categorical features - we use OrdinalEncoder and LabelEncoder for this. We also scale our data."
      ],
      "metadata": {
        "id": "wXpzwRpw2u7o"
      }
    },
    {
      "cell_type": "code",
      "source": [
        "# removal of columns that we felt were too unique, or irrelevant (such as Id)\n",
        "class_train_dropped = class_train.drop(columns=[\"title\", \"artist\", \"Id\"])\n",
        "class_test_dropped = class_test.drop(columns=[\"title\", \"artist\", \"Id\"])\n",
        "\n",
        "#handling outliers:\n",
        "class_train_dropped=class_train_dropped[(np.abs(stats.zscore(class_train_dropped.select_dtypes(include=numerics))) < 3).all(axis=1)] #statistical removal of outliers\n",
        "class_test_dropped=class_test_dropped[(np.abs(stats.zscore(class_test_dropped.select_dtypes(include=numerics))) < 3).all(axis=1)] #statistical removal of outliers\n",
        "\n",
        "# removal of uniques again\n",
        "class_train_dropped = class_train_dropped.loc[class_train_dropped.duplicated(subset='top genre', keep=False), :]\n",
        "\n",
        "# maybe need to drop for xgb\n",
        "#class_train_dropped = class_train.drop(columns=[\"top genre\"])"
      ],
      "metadata": {
        "id": "ynp0RjNLI3od"
      },
      "execution_count": null,
      "outputs": []
    },
    {
      "cell_type": "markdown",
      "source": [
        "### Encoding and Scaling"
      ],
      "metadata": {
        "id": "q-VUR6fqUWOd"
      }
    },
    {
      "cell_type": "code",
      "source": [
        "# Label Encoder\n",
        "labelencoder = LabelEncoder()\n",
        "y = labelencoder.fit_transform(class_train_dropped[\"top genre\"])\n",
        "\n",
        "# Ordinal Encoder\n",
        "ode = OrdinalEncoder()\n",
        "X_train_ode = ode.fit_transform(class_train_dropped.drop(columns=[\"top genre\"]))\n",
        "X_test_ode = ode.fit_transform(class_test_dropped)\n",
        "\n",
        "# Scaler\n",
        "std_scaler = StandardScaler() # scaling the newly encoded sets\n",
        "X_train_scale_ode = std_scaler.fit_transform(X_train_ode)\n",
        "X_test_scale_ode = std_scaler.fit_transform(X_test_ode)\n",
        "\n",
        "# One split without encoding\n",
        "y_noenc = class_train_dropped[\"top genre\"]\n",
        "X_train_noenc, X_validation_noenc, y_train_noenc, y_validation_noenc = train_test_split(class_train_dropped, y, stratify=y)\n",
        "\n",
        "# One final split with encoding\n",
        "X_train, X_validation, y_train, y_validation = train_test_split(X_train_scale_ode, y, stratify=y)\n"
      ],
      "metadata": {
        "id": "Qz2J9Qtn2vRR"
      },
      "execution_count": null,
      "outputs": []
    },
    {
      "cell_type": "markdown",
      "source": [
        "### Feature Selection Justification\n",
        "\n",
        "We dropped some features earlier, here we justify that they have not made a major difference to our model because the maximum number of features that can explain the most variation is always prefered so the uniqueness of Id & title are non-factors for our problem and whilst artist can be duplicated - it is too rare for this to matter statistically as we establish:"
      ],
      "metadata": {
        "id": "-bEEol-mUbiJ"
      }
    },
    {
      "cell_type": "code",
      "source": [
        "plt.figure(1)\n",
        "plt.clf()\n",
        "X_indices = np.arange(X_train_scale_ode.shape[-1])\n",
        "\n",
        "selector = SelectKBest(f_classif, k=5)\n",
        "selector.fit(X_train, y_train)\n",
        "scores = -np.log10(selector.pvalues_)\n",
        "scores /= scores.max()\n",
        "plt.bar(X_indices - 0.45, scores, width=0.4, label=r\"Univariate score ($-Log(p_{value})$)\")\n",
        "\n",
        "clf = make_pipeline(MinMaxScaler(), LinearSVC(dual=False, max_iter=10000, C=1))\n",
        "clf.fit(X_train, y_train)\n",
        "print(\"Classification accuracy without selecting features: {:.3f}\".format(clf.score(X_validation, y_validation)))\n",
        "\n",
        "svm_weights = np.abs(clf[-1].coef_).sum(axis=0)\n",
        "svm_weights /= svm_weights.sum()\n",
        "plt.bar(X_indices - 0.25, svm_weights, width=0.2, label=\"SVM weight\")\n",
        "\n",
        "clf_selected = make_pipeline(SelectKBest(f_classif, k=5), MinMaxScaler(), LinearSVC())\n",
        "clf_selected.fit(X_train, y_train)\n",
        "print(\"Classification accuracy after univariate feature selection: {:.3f}\".format(clf_selected.score(X_validation, y_validation)))\n",
        "\n",
        "svm_weights_selected = np.abs(clf_selected[-1].coef_).sum(axis=0)\n",
        "svm_weights_selected /= svm_weights_selected.sum()\n",
        "\n",
        "plt.bar(\n",
        "    X_indices[selector.get_support()] - 0.05,\n",
        "    svm_weights_selected,\n",
        "    width=0.2,\n",
        "    label=\"SVM weights after selection\",\n",
        ")\n",
        "\n",
        "plt.title(\"Comparing feature selection\")\n",
        "plt.xlabel(\"Feature number\")\n",
        "plt.yticks(())\n",
        "x = [0,1,2,3,4,5,6,7,8,9,10]\n",
        "plt.xticks(x)\n",
        "plt.axis(\"tight\")\n",
        "plt.legend(loc=\"upper left\")\n",
        "plt.show()"
      ],
      "metadata": {
        "colab": {
          "base_uri": "https://localhost:8080/",
          "height": 330
        },
        "id": "d81rTdpx1-hS",
        "outputId": "23c8f64e-727f-4b02-e618-6d33696846bd"
      },
      "execution_count": null,
      "outputs": [
        {
          "output_type": "stream",
          "name": "stdout",
          "text": [
            "Classification accuracy without selecting features: 0.363\n",
            "Classification accuracy after univariate feature selection: 0.385\n"
          ]
        },
        {
          "output_type": "display_data",
          "data": {
            "image/png": "[encoded data removed]",
            "text/plain": [
              "<Figure size 432x288 with 1 Axes>"
            ]
          },
          "metadata": {
            "needs_background": "light"
          }
        }
      ]
    },
    {
      "cell_type": "markdown",
      "source": [
        "The outcome of the above graph shows which features are most important to keep from the ones we had initially chosen to analyse.\n",
        "Therefore, we will remove the least significant ones (1,5,6,9; ) and proceed with the rest. Therefore, we recreate our sets:"
      ],
      "metadata": {
        "id": "LUw1Z9ImOILW"
      }
    },
    {
      "cell_type": "code",
      "source": [
        "list(class_train_dropped.columns.values)\n",
        "# So we remove bpm, live, val and spch.\n",
        "\n",
        "# Then we need to redo our train/test sets:\n",
        "# removal of columns that we felt were too unique, or irrelevant (such as Id)\n",
        "class_train_dropped = class_train.drop(columns=[\"title\", \"artist\", \"Id\"])\n",
        "class_test_dropped = class_test.drop(columns=[\"title\", \"artist\", \"Id\"])\n",
        "\n",
        "# removal of columns that we later identified to be insignificant in feature selection analysis.\n",
        "class_train_dropped = class_train_dropped.drop(columns=[\"bpm\", \"live\", \"val\", \"spch\"])\n",
        "class_test_dropped = class_test_dropped.drop(columns=[\"bpm\", \"live\", \"val\", \"spch\"])\n",
        "\n",
        "#handling outliers:\n",
        "class_train_dropped=class_train_dropped[(np.abs(stats.zscore(class_train_dropped.select_dtypes(include=numerics))) < 3).all(axis=1)] #statistical removal of outliers\n",
        "\n",
        "# removal of uniques again\n",
        "class_train_dropped = class_train_dropped.loc[class_train_dropped.duplicated(subset='top genre', keep=False), :]\n",
        "# maybe need to drop for xgb\n",
        "#class_train_dropped = class_train.drop(columns=[\"top genre\"])\n",
        "\n",
        "# Label Encoder\n",
        "labelencoder = LabelEncoder()\n",
        "y = labelencoder.fit_transform(class_train_dropped[\"top genre\"])\n",
        "\n",
        "\n",
        "# Ordinal Encoder\n",
        "ode = OrdinalEncoder()\n",
        "X_train_ode = ode.fit_transform(class_train_dropped.drop(columns=[\"top genre\"]))\n",
        "X_test_ode = ode.fit_transform(class_test_dropped)\n",
        "# Scaler\n",
        "\n",
        "std_scaler = StandardScaler() # scaling the newly encoded sets\n",
        "X_train_scale_ode = std_scaler.fit_transform(X_train_ode)\n",
        "X_test_scale_ode = std_scaler.fit_transform(X_test_ode)\n",
        "\n",
        "# One split without encoding\n",
        "y_noenc = class_train_dropped[\"top genre\"]\n",
        "X_train_noenc, X_validation_noenc, y_train_noenc, y_validation_noenc = train_test_split(class_train_dropped, y, stratify=y)\n",
        "\n",
        "# One final split with encoding\n",
        "X_train, X_validation, y_train, y_validation = train_test_split(X_train_scale_ode, y, stratify=y)\n"
      ],
      "metadata": {
        "id": "SqaJZv92Fuqu"
      },
      "execution_count": null,
      "outputs": []
    },
    {
      "cell_type": "code",
      "source": [
        "draw_histograms(class_train_dropped, class_train_dropped.columns, 3, 3)"
      ],
      "metadata": {
        "colab": {
          "base_uri": "https://localhost:8080/",
          "height": 297
        },
        "id": "uF-CiYiETQB-",
        "outputId": "999c9c65-d01a-4fd4-b101-3258ed205887"
      },
      "execution_count": null,
      "outputs": [
        {
          "output_type": "display_data",
          "data": {
            "image/png": "[encoded data removed]",
            "text/plain": [
              "<Figure size 432x288 with 8 Axes>"
            ]
          },
          "metadata": {
            "needs_background": "light"
          }
        }
      ]
    },
    {
      "cell_type": "markdown",
      "source": [
        "## Preliminary Algorithm Viability Evaluation via PyCaret\n",
        "\n",
        "Using PyCaret with the same intent, we applied it to our classification dataset."
      ],
      "metadata": {
        "id": "1BrhcYywlISP"
      }
    },
    {
      "cell_type": "code",
      "source": [
        "# CatBoost can take quite long to compute on PyCaret (30min+)\n",
        "from pycaret.classification import *\n",
        "\n",
        "classification = setup(data=class_train_dropped, target=\"top genre\", numeric_features=[\"dB\"],\n",
        "                       verbose=False, train_size=0.80, silent=True, data_split_stratify=True)\n",
        "\n",
        "best_model_eval = compare_models(sort=\"Accuracy\")"
      ],
      "metadata": {
        "id": "kGs5t6yhBMHd",
        "colab": {
          "base_uri": "https://localhost:8080/",
          "height": 488,
          "referenced_widgets": [
            "bbcbcdfb766c45db9febfbb71b3f8c03",
            "9a4f3fa429b94343b61fdd2b91f7c3d3",
            "279c89e6ca3141a2bb9cf65ebed52ed0"
          ]
        },
        "outputId": "ab6a9d68-ab13-4d4d-87ff-140c73267ee5"
      },
      "execution_count": null,
      "outputs": [
        {
          "output_type": "display_data",
          "data": {
            "text/html": [
              "\n",
              "  <div id=\"df-263682b7-a10f-49fc-904a-b397088869e1\">\n",
              "    <div class=\"colab-df-container\">\n",
              "      <div>\n",
              "<style scoped>\n",
              "    .dataframe tbody tr th:only-of-type {\n",
              "        vertical-align: middle;\n",
              "    }\n",
              "\n",
              "    .dataframe tbody tr th {\n",
              "        vertical-align: top;\n",
              "    }\n",
              "\n",
              "    .dataframe thead th {\n",
              "        text-align: right;\n",
              "    }\n",
              "</style>\n",
              "<table border=\"1\" class=\"dataframe\">\n",
              "  <thead>\n",
              "    <tr style=\"text-align: right;\">\n",
              "      <th></th>\n",
              "      <th>Model</th>\n",
              "      <th>Accuracy</th>\n",
              "      <th>AUC</th>\n",
              "      <th>Recall</th>\n",
              "      <th>Prec.</th>\n",
              "      <th>F1</th>\n",
              "      <th>Kappa</th>\n",
              "      <th>MCC</th>\n",
              "      <th>TT (Sec)</th>\n",
              "    </tr>\n",
              "  </thead>\n",
              "  <tbody>\n",
              "    <tr>\n",
              "      <th>ridge</th>\n",
              "      <td>Ridge Classifier</td>\n",
              "      <td>0.3912</td>\n",
              "      <td>0.0</td>\n",
              "      <td>0.1319</td>\n",
              "      <td>0.2003</td>\n",
              "      <td>0.2605</td>\n",
              "      <td>0.2712</td>\n",
              "      <td>0.2945</td>\n",
              "      <td>0.020</td>\n",
              "    </tr>\n",
              "    <tr>\n",
              "      <th>rf</th>\n",
              "      <td>Random Forest Classifier</td>\n",
              "      <td>0.3691</td>\n",
              "      <td>0.0</td>\n",
              "      <td>0.1468</td>\n",
              "      <td>0.2254</td>\n",
              "      <td>0.2723</td>\n",
              "      <td>0.2603</td>\n",
              "      <td>0.2741</td>\n",
              "      <td>0.628</td>\n",
              "    </tr>\n",
              "    <tr>\n",
              "      <th>et</th>\n",
              "      <td>Extra Trees Classifier</td>\n",
              "      <td>0.3628</td>\n",
              "      <td>0.0</td>\n",
              "      <td>0.1304</td>\n",
              "      <td>0.2240</td>\n",
              "      <td>0.2709</td>\n",
              "      <td>0.2554</td>\n",
              "      <td>0.2677</td>\n",
              "      <td>0.468</td>\n",
              "    </tr>\n",
              "    <tr>\n",
              "      <th>catboost</th>\n",
              "      <td>CatBoost Classifier</td>\n",
              "      <td>0.3526</td>\n",
              "      <td>0.0</td>\n",
              "      <td>0.1329</td>\n",
              "      <td>0.2239</td>\n",
              "      <td>0.2655</td>\n",
              "      <td>0.2480</td>\n",
              "      <td>0.2600</td>\n",
              "      <td>19.968</td>\n",
              "    </tr>\n",
              "    <tr>\n",
              "      <th>lightgbm</th>\n",
              "      <td>Light Gradient Boosting Machine</td>\n",
              "      <td>0.3466</td>\n",
              "      <td>0.0</td>\n",
              "      <td>0.1252</td>\n",
              "      <td>0.2326</td>\n",
              "      <td>0.2664</td>\n",
              "      <td>0.2449</td>\n",
              "      <td>0.2553</td>\n",
              "      <td>0.816</td>\n",
              "    </tr>\n",
              "    <tr>\n",
              "      <th>lda</th>\n",
              "      <td>Linear Discriminant Analysis</td>\n",
              "      <td>0.3399</td>\n",
              "      <td>0.0</td>\n",
              "      <td>0.1100</td>\n",
              "      <td>0.2143</td>\n",
              "      <td>0.2559</td>\n",
              "      <td>0.2349</td>\n",
              "      <td>0.2457</td>\n",
              "      <td>0.016</td>\n",
              "    </tr>\n",
              "    <tr>\n",
              "      <th>gbc</th>\n",
              "      <td>Gradient Boosting Classifier</td>\n",
              "      <td>0.3209</td>\n",
              "      <td>0.0</td>\n",
              "      <td>0.1094</td>\n",
              "      <td>0.2352</td>\n",
              "      <td>0.2641</td>\n",
              "      <td>0.2268</td>\n",
              "      <td>0.2333</td>\n",
              "      <td>7.747</td>\n",
              "    </tr>\n",
              "    <tr>\n",
              "      <th>lr</th>\n",
              "      <td>Logistic Regression</td>\n",
              "      <td>0.3175</td>\n",
              "      <td>0.0</td>\n",
              "      <td>0.1154</td>\n",
              "      <td>0.2068</td>\n",
              "      <td>0.2435</td>\n",
              "      <td>0.2092</td>\n",
              "      <td>0.2194</td>\n",
              "      <td>1.398</td>\n",
              "    </tr>\n",
              "    <tr>\n",
              "      <th>knn</th>\n",
              "      <td>K Neighbors Classifier</td>\n",
              "      <td>0.3144</td>\n",
              "      <td>0.0</td>\n",
              "      <td>0.1147</td>\n",
              "      <td>0.2059</td>\n",
              "      <td>0.2439</td>\n",
              "      <td>0.2044</td>\n",
              "      <td>0.2132</td>\n",
              "      <td>0.124</td>\n",
              "    </tr>\n",
              "    <tr>\n",
              "      <th>nb</th>\n",
              "      <td>Naive Bayes</td>\n",
              "      <td>0.3016</td>\n",
              "      <td>0.0</td>\n",
              "      <td>0.1116</td>\n",
              "      <td>0.2319</td>\n",
              "      <td>0.2543</td>\n",
              "      <td>0.2084</td>\n",
              "      <td>0.2145</td>\n",
              "      <td>0.029</td>\n",
              "    </tr>\n",
              "    <tr>\n",
              "      <th>dt</th>\n",
              "      <td>Decision Tree Classifier</td>\n",
              "      <td>0.2626</td>\n",
              "      <td>0.0</td>\n",
              "      <td>0.1079</td>\n",
              "      <td>0.2722</td>\n",
              "      <td>0.2529</td>\n",
              "      <td>0.1920</td>\n",
              "      <td>0.1961</td>\n",
              "      <td>0.022</td>\n",
              "    </tr>\n",
              "    <tr>\n",
              "      <th>ada</th>\n",
              "      <td>Ada Boost Classifier</td>\n",
              "      <td>0.2374</td>\n",
              "      <td>0.0</td>\n",
              "      <td>0.0829</td>\n",
              "      <td>0.0959</td>\n",
              "      <td>0.1248</td>\n",
              "      <td>0.0986</td>\n",
              "      <td>0.1370</td>\n",
              "      <td>0.200</td>\n",
              "    </tr>\n",
              "    <tr>\n",
              "      <th>dummy</th>\n",
              "      <td>Dummy Classifier</td>\n",
              "      <td>0.1732</td>\n",
              "      <td>0.0</td>\n",
              "      <td>0.0554</td>\n",
              "      <td>0.0303</td>\n",
              "      <td>0.0515</td>\n",
              "      <td>0.0000</td>\n",
              "      <td>0.0000</td>\n",
              "      <td>0.013</td>\n",
              "    </tr>\n",
              "    <tr>\n",
              "      <th>svm</th>\n",
              "      <td>SVM - Linear Kernel</td>\n",
              "      <td>0.1026</td>\n",
              "      <td>0.0</td>\n",
              "      <td>0.0422</td>\n",
              "      <td>0.0586</td>\n",
              "      <td>0.0630</td>\n",
              "      <td>0.0359</td>\n",
              "      <td>0.0466</td>\n",
              "      <td>0.113</td>\n",
              "    </tr>\n",
              "  </tbody>\n",
              "</table>\n",
              "</div>\n",
              "      <button class=\"colab-df-convert\" onclick=\"convertToInteractive('df-263682b7-a10f-49fc-904a-b397088869e1')\"\n",
              "              title=\"Convert this dataframe to an interactive table.\"\n",
              "              style=\"display:none;\">\n",
              "        \n",
              "  <svg xmlns=\"http://www.w3.org/2000/svg\" height=\"24px\"viewBox=\"0 0 24 24\"\n",
              "       width=\"24px\">\n",
              "    <path d=\"M0 0h24v24H0V0z\" fill=\"none\"/>\n",
              "    <path d=\"M18.56 5.44l.94 2.06.94-2.06 2.06-.94-2.06-.94-.94-2.06-.94 2.06-2.06.94zm-11 1L8.5 8.5l.94-2.06 2.06-.94-2.06-.94L8.5 2.5l-.94 2.06-2.06.94zm10 10l.94 2.06.94-2.06 2.06-.94-2.06-.94-.94-2.06-.94 2.06-2.06.94z\"/><path d=\"M17.41 7.96l-1.37-1.37c-.4-.4-.92-.59-1.43-.59-.52 0-1.04.2-1.43.59L10.3 9.45l-7.72 7.72c-.78.78-.78 2.05 0 2.83L4 21.41c.39.39.9.59 1.41.59.51 0 1.02-.2 1.41-.59l7.78-7.78 2.81-2.81c.8-.78.8-2.07 0-2.86zM5.41 20L4 18.59l7.72-7.72 1.47 1.35L5.41 20z\"/>\n",
              "  </svg>\n",
              "      </button>\n",
              "      \n",
              "  <style>\n",
              "    .colab-df-container {\n",
              "      display:flex;\n",
              "      flex-wrap:wrap;\n",
              "      gap: 12px;\n",
              "    }\n",
              "\n",
              "    .colab-df-convert {\n",
              "      background-color: #E8F0FE;\n",
              "      border: none;\n",
              "      border-radius: 50%;\n",
              "      cursor: pointer;\n",
              "      display: none;\n",
              "      fill: #1967D2;\n",
              "      height: 32px;\n",
              "      padding: 0 0 0 0;\n",
              "      width: 32px;\n",
              "    }\n",
              "\n",
              "    .colab-df-convert:hover {\n",
              "      background-color: #E2EBFA;\n",
              "      box-shadow: 0px 1px 2px rgba(60, 64, 67, 0.3), 0px 1px 3px 1px rgba(60, 64, 67, 0.15);\n",
              "      fill: #174EA6;\n",
              "    }\n",
              "\n",
              "    [theme=dark] .colab-df-convert {\n",
              "      background-color: #3B4455;\n",
              "      fill: #D2E3FC;\n",
              "    }\n",
              "\n",
              "    [theme=dark] .colab-df-convert:hover {\n",
              "      background-color: #434B5C;\n",
              "      box-shadow: 0px 1px 3px 1px rgba(0, 0, 0, 0.15);\n",
              "      filter: drop-shadow(0px 1px 2px rgba(0, 0, 0, 0.3));\n",
              "      fill: #FFFFFF;\n",
              "    }\n",
              "  </style>\n",
              "\n",
              "      <script>\n",
              "        const buttonEl =\n",
              "          document.querySelector('#df-263682b7-a10f-49fc-904a-b397088869e1 button.colab-df-convert');\n",
              "        buttonEl.style.display =\n",
              "          google.colab.kernel.accessAllowed ? 'block' : 'none';\n",
              "\n",
              "        async function convertToInteractive(key) {\n",
              "          const element = document.querySelector('#df-263682b7-a10f-49fc-904a-b397088869e1');\n",
              "          const dataTable =\n",
              "            await google.colab.kernel.invokeFunction('convertToInteractive',\n",
              "                                                     [key], {});\n",
              "          if (!dataTable) return;\n",
              "\n",
              "          const docLinkHtml = 'Like what you see? Visit the ' +\n",
              "            '<a target=\"_blank\" href=https://colab.research.google.com/notebooks/data_table.ipynb>data table notebook</a>'\n",
              "            + ' to learn more about interactive tables.';\n",
              "          element.innerHTML = '';\n",
              "          dataTable['output_type'] = 'display_data';\n",
              "          await google.colab.output.renderOutput(dataTable, element);\n",
              "          const docLink = document.createElement('div');\n",
              "          docLink.innerHTML = docLinkHtml;\n",
              "          element.appendChild(docLink);\n",
              "        }\n",
              "      </script>\n",
              "    </div>\n",
              "  </div>\n",
              "  "
            ],
            "text/plain": [
              "                                    Model  Accuracy  AUC  Recall   Prec.  \\\n",
              "ridge                    Ridge Classifier    0.3912  0.0  0.1319  0.2003   \n",
              "rf               Random Forest Classifier    0.3691  0.0  0.1468  0.2254   \n",
              "et                 Extra Trees Classifier    0.3628  0.0  0.1304  0.2240   \n",
              "catboost              CatBoost Classifier    0.3526  0.0  0.1329  0.2239   \n",
              "lightgbm  Light Gradient Boosting Machine    0.3466  0.0  0.1252  0.2326   \n",
              "lda          Linear Discriminant Analysis    0.3399  0.0  0.1100  0.2143   \n",
              "gbc          Gradient Boosting Classifier    0.3209  0.0  0.1094  0.2352   \n",
              "lr                    Logistic Regression    0.3175  0.0  0.1154  0.2068   \n",
              "knn                K Neighbors Classifier    0.3144  0.0  0.1147  0.2059   \n",
              "nb                            Naive Bayes    0.3016  0.0  0.1116  0.2319   \n",
              "dt               Decision Tree Classifier    0.2626  0.0  0.1079  0.2722   \n",
              "ada                  Ada Boost Classifier    0.2374  0.0  0.0829  0.0959   \n",
              "dummy                    Dummy Classifier    0.1732  0.0  0.0554  0.0303   \n",
              "svm                   SVM - Linear Kernel    0.1026  0.0  0.0422  0.0586   \n",
              "\n",
              "              F1   Kappa     MCC  TT (Sec)  \n",
              "ridge     0.2605  0.2712  0.2945     0.020  \n",
              "rf        0.2723  0.2603  0.2741     0.628  \n",
              "et        0.2709  0.2554  0.2677     0.468  \n",
              "catboost  0.2655  0.2480  0.2600    19.968  \n",
              "lightgbm  0.2664  0.2449  0.2553     0.816  \n",
              "lda       0.2559  0.2349  0.2457     0.016  \n",
              "gbc       0.2641  0.2268  0.2333     7.747  \n",
              "lr        0.2435  0.2092  0.2194     1.398  \n",
              "knn       0.2439  0.2044  0.2132     0.124  \n",
              "nb        0.2543  0.2084  0.2145     0.029  \n",
              "dt        0.2529  0.1920  0.1961     0.022  \n",
              "ada       0.1248  0.0986  0.1370     0.200  \n",
              "dummy     0.0515  0.0000  0.0000     0.013  \n",
              "svm       0.0630  0.0359  0.0466     0.113  "
            ]
          },
          "metadata": {}
        }
      ]
    },
    {
      "cell_type": "markdown",
      "source": [
        "CatBoost was once again consistently in the [top 3 performers](https://i.imgur.com/YCbCAPc.png), but ridge and LDA performed equally well - so we used CatBoost, LDA and ridge regression as our chosen techniques for this problem whilst focusing on the gradient booster CatBoost ultimately. Much like principal component analysis (PCA), LDA also aims to look for linear combinations of variables which best explain the data. Functionally, the methodology behind LDA makes it an incredible tool to apply to this classification problem as it is designed to analyse these types of problems in particular."
      ],
      "metadata": {
        "id": "GkT8KGX9cszO"
      }
    },
    {
      "cell_type": "markdown",
      "source": [
        "### Creating tuned models for all 3 techniques.\n",
        "\n",
        "Once more, we assess the results of our PyCaret best model."
      ],
      "metadata": {
        "id": "hVYGYwwjlbbI"
      }
    },
    {
      "cell_type": "code",
      "source": [
        "#Warning - this can take very (very!!!!!!!!) long.\n",
        "#The classification task takes incredibly long, I would reduce iteration to 1 if just testing the code.\n",
        "\n",
        "best_model = tune_model(best_model_eval, n_iter = 100)  # best model; just incase this one is not one of our chosen ones\n",
        "\n",
        "catboost = create_model(\"catboost\")\n",
        "catboost_model = tune_model(catboost, n_iter = 100) # tuned catboost model\n",
        "\n",
        "lda = create_model(\"lda\")\n",
        "lda_model = tune_model(lda, n_iter = 100) # tuned lasso model\n",
        "\n",
        "ridge = create_model(\"ridge\")\n",
        "ridge_model = tune_model(ridge, n_iter = 100) # tuned ridge model"
      ],
      "metadata": {
        "id": "4XEXaVkosT_D",
        "colab": {
          "base_uri": "https://localhost:8080/",
          "height": 426,
          "referenced_widgets": [
            "6b1c4503031c4b01b84d5d337c646f59",
            "1f1a3c986be145f5aa03ea9ff118eedf",
            "c5211fa2e0a9468093e6c0a2d9aeaa19",
            "df731e0108dd475ea01ab3c1170a358d",
            "3a768b403afa4b8b9363fbc0ce2de62b",
            "01e6e5bc8a27438387ceffb88611d235",
            "da4c8811c8c04b0ea4f8b7d79bbc3258",
            "d8eb9997e3ac4916b8da66cced6d1c5a",
            "2423773ca5c24d28a977a6d7de6e47a8",
            "c69be3c300f0484e8b25c1206a7dfcd9",
            "70f0dad22a594819b0ff12105bb57e0b",
            "d0a12d9146cf45a8a71fb51d8f842bda",
            "9772324fa1ac4d1fbde760e1c228f66b",
            "78ab5c16a92c4b52ab73fd836b30cf40",
            "47a5963aa8a743f4938da943d1c192d6",
            "b2c21b7453464e84be5dd15c79db5e89",
            "cbd2ba83aaf84f7ba8c2ea33a9b8ed0e",
            "9fbe52fb34994159af72219e05d04e74",
            "806436620e78484bb293aa2168320f11",
            "1acf308cef694c9eb0db452405691625",
            "d9867e520c174354a141c55e30a546ca"
          ]
        },
        "outputId": "827e9793-5a6f-4d6b-9454-8b5958f28a6d"
      },
      "execution_count": null,
      "outputs": [
        {
          "output_type": "display_data",
          "data": {
            "text/html": [
              "\n",
              "  <div id=\"df-befeda4e-f4ba-4481-95cc-8187edc975f4\">\n",
              "    <div class=\"colab-df-container\">\n",
              "      <div>\n",
              "<style scoped>\n",
              "    .dataframe tbody tr th:only-of-type {\n",
              "        vertical-align: middle;\n",
              "    }\n",
              "\n",
              "    .dataframe tbody tr th {\n",
              "        vertical-align: top;\n",
              "    }\n",
              "\n",
              "    .dataframe thead th {\n",
              "        text-align: right;\n",
              "    }\n",
              "</style>\n",
              "<table border=\"1\" class=\"dataframe\">\n",
              "  <thead>\n",
              "    <tr style=\"text-align: right;\">\n",
              "      <th></th>\n",
              "      <th>Accuracy</th>\n",
              "      <th>AUC</th>\n",
              "      <th>Recall</th>\n",
              "      <th>Prec.</th>\n",
              "      <th>F1</th>\n",
              "      <th>Kappa</th>\n",
              "      <th>MCC</th>\n",
              "    </tr>\n",
              "  </thead>\n",
              "  <tbody>\n",
              "    <tr>\n",
              "      <th>0</th>\n",
              "      <td>0.3125</td>\n",
              "      <td>0.0</td>\n",
              "      <td>0.1000</td>\n",
              "      <td>0.1438</td>\n",
              "      <td>0.1940</td>\n",
              "      <td>0.1852</td>\n",
              "      <td>0.2037</td>\n",
              "    </tr>\n",
              "    <tr>\n",
              "      <th>1</th>\n",
              "      <td>0.3125</td>\n",
              "      <td>0.0</td>\n",
              "      <td>0.1000</td>\n",
              "      <td>0.1417</td>\n",
              "      <td>0.1939</td>\n",
              "      <td>0.1852</td>\n",
              "      <td>0.2019</td>\n",
              "    </tr>\n",
              "    <tr>\n",
              "      <th>2</th>\n",
              "      <td>0.3226</td>\n",
              "      <td>0.0</td>\n",
              "      <td>0.1056</td>\n",
              "      <td>0.2121</td>\n",
              "      <td>0.2373</td>\n",
              "      <td>0.1780</td>\n",
              "      <td>0.1996</td>\n",
              "    </tr>\n",
              "    <tr>\n",
              "      <th>3</th>\n",
              "      <td>0.4194</td>\n",
              "      <td>0.0</td>\n",
              "      <td>0.1333</td>\n",
              "      <td>0.2159</td>\n",
              "      <td>0.2841</td>\n",
              "      <td>0.2972</td>\n",
              "      <td>0.3201</td>\n",
              "    </tr>\n",
              "    <tr>\n",
              "      <th>4</th>\n",
              "      <td>0.3871</td>\n",
              "      <td>0.0</td>\n",
              "      <td>0.1222</td>\n",
              "      <td>0.2054</td>\n",
              "      <td>0.2642</td>\n",
              "      <td>0.2554</td>\n",
              "      <td>0.2798</td>\n",
              "    </tr>\n",
              "    <tr>\n",
              "      <th>5</th>\n",
              "      <td>0.3871</td>\n",
              "      <td>0.0</td>\n",
              "      <td>0.1314</td>\n",
              "      <td>0.2007</td>\n",
              "      <td>0.2642</td>\n",
              "      <td>0.2582</td>\n",
              "      <td>0.2775</td>\n",
              "    </tr>\n",
              "    <tr>\n",
              "      <th>6</th>\n",
              "      <td>0.3226</td>\n",
              "      <td>0.0</td>\n",
              "      <td>0.1167</td>\n",
              "      <td>0.1705</td>\n",
              "      <td>0.2177</td>\n",
              "      <td>0.1963</td>\n",
              "      <td>0.2179</td>\n",
              "    </tr>\n",
              "    <tr>\n",
              "      <th>7</th>\n",
              "      <td>0.4194</td>\n",
              "      <td>0.0</td>\n",
              "      <td>0.1529</td>\n",
              "      <td>0.2034</td>\n",
              "      <td>0.2731</td>\n",
              "      <td>0.3077</td>\n",
              "      <td>0.3342</td>\n",
              "    </tr>\n",
              "    <tr>\n",
              "      <th>8</th>\n",
              "      <td>0.2903</td>\n",
              "      <td>0.0</td>\n",
              "      <td>0.1000</td>\n",
              "      <td>0.1380</td>\n",
              "      <td>0.1865</td>\n",
              "      <td>0.1538</td>\n",
              "      <td>0.1669</td>\n",
              "    </tr>\n",
              "    <tr>\n",
              "      <th>9</th>\n",
              "      <td>0.3548</td>\n",
              "      <td>0.0</td>\n",
              "      <td>0.1222</td>\n",
              "      <td>0.1788</td>\n",
              "      <td>0.2364</td>\n",
              "      <td>0.2346</td>\n",
              "      <td>0.2526</td>\n",
              "    </tr>\n",
              "    <tr>\n",
              "      <th>Mean</th>\n",
              "      <td>0.3528</td>\n",
              "      <td>0.0</td>\n",
              "      <td>0.1184</td>\n",
              "      <td>0.1810</td>\n",
              "      <td>0.2351</td>\n",
              "      <td>0.2252</td>\n",
              "      <td>0.2454</td>\n",
              "    </tr>\n",
              "    <tr>\n",
              "      <th>SD</th>\n",
              "      <td>0.0449</td>\n",
              "      <td>0.0</td>\n",
              "      <td>0.0167</td>\n",
              "      <td>0.0293</td>\n",
              "      <td>0.0340</td>\n",
              "      <td>0.0504</td>\n",
              "      <td>0.0533</td>\n",
              "    </tr>\n",
              "  </tbody>\n",
              "</table>\n",
              "</div>\n",
              "      <button class=\"colab-df-convert\" onclick=\"convertToInteractive('df-befeda4e-f4ba-4481-95cc-8187edc975f4')\"\n",
              "              title=\"Convert this dataframe to an interactive table.\"\n",
              "              style=\"display:none;\">\n",
              "        \n",
              "  <svg xmlns=\"http://www.w3.org/2000/svg\" height=\"24px\"viewBox=\"0 0 24 24\"\n",
              "       width=\"24px\">\n",
              "    <path d=\"M0 0h24v24H0V0z\" fill=\"none\"/>\n",
              "    <path d=\"M18.56 5.44l.94 2.06.94-2.06 2.06-.94-2.06-.94-.94-2.06-.94 2.06-2.06.94zm-11 1L8.5 8.5l.94-2.06 2.06-.94-2.06-.94L8.5 2.5l-.94 2.06-2.06.94zm10 10l.94 2.06.94-2.06 2.06-.94-2.06-.94-.94-2.06-.94 2.06-2.06.94z\"/><path d=\"M17.41 7.96l-1.37-1.37c-.4-.4-.92-.59-1.43-.59-.52 0-1.04.2-1.43.59L10.3 9.45l-7.72 7.72c-.78.78-.78 2.05 0 2.83L4 21.41c.39.39.9.59 1.41.59.51 0 1.02-.2 1.41-.59l7.78-7.78 2.81-2.81c.8-.78.8-2.07 0-2.86zM5.41 20L4 18.59l7.72-7.72 1.47 1.35L5.41 20z\"/>\n",
              "  </svg>\n",
              "      </button>\n",
              "      \n",
              "  <style>\n",
              "    .colab-df-container {\n",
              "      display:flex;\n",
              "      flex-wrap:wrap;\n",
              "      gap: 12px;\n",
              "    }\n",
              "\n",
              "    .colab-df-convert {\n",
              "      background-color: #E8F0FE;\n",
              "      border: none;\n",
              "      border-radius: 50%;\n",
              "      cursor: pointer;\n",
              "      display: none;\n",
              "      fill: #1967D2;\n",
              "      height: 32px;\n",
              "      padding: 0 0 0 0;\n",
              "      width: 32px;\n",
              "    }\n",
              "\n",
              "    .colab-df-convert:hover {\n",
              "      background-color: #E2EBFA;\n",
              "      box-shadow: 0px 1px 2px rgba(60, 64, 67, 0.3), 0px 1px 3px 1px rgba(60, 64, 67, 0.15);\n",
              "      fill: #174EA6;\n",
              "    }\n",
              "\n",
              "    [theme=dark] .colab-df-convert {\n",
              "      background-color: #3B4455;\n",
              "      fill: #D2E3FC;\n",
              "    }\n",
              "\n",
              "    [theme=dark] .colab-df-convert:hover {\n",
              "      background-color: #434B5C;\n",
              "      box-shadow: 0px 1px 3px 1px rgba(0, 0, 0, 0.15);\n",
              "      filter: drop-shadow(0px 1px 2px rgba(0, 0, 0, 0.3));\n",
              "      fill: #FFFFFF;\n",
              "    }\n",
              "  </style>\n",
              "\n",
              "      <script>\n",
              "        const buttonEl =\n",
              "          document.querySelector('#df-befeda4e-f4ba-4481-95cc-8187edc975f4 button.colab-df-convert');\n",
              "        buttonEl.style.display =\n",
              "          google.colab.kernel.accessAllowed ? 'block' : 'none';\n",
              "\n",
              "        async function convertToInteractive(key) {\n",
              "          const element = document.querySelector('#df-befeda4e-f4ba-4481-95cc-8187edc975f4');\n",
              "          const dataTable =\n",
              "            await google.colab.kernel.invokeFunction('convertToInteractive',\n",
              "                                                     [key], {});\n",
              "          if (!dataTable) return;\n",
              "\n",
              "          const docLinkHtml = 'Like what you see? Visit the ' +\n",
              "            '<a target=\"_blank\" href=https://colab.research.google.com/notebooks/data_table.ipynb>data table notebook</a>'\n",
              "            + ' to learn more about interactive tables.';\n",
              "          element.innerHTML = '';\n",
              "          dataTable['output_type'] = 'display_data';\n",
              "          await google.colab.output.renderOutput(dataTable, element);\n",
              "          const docLink = document.createElement('div');\n",
              "          docLink.innerHTML = docLinkHtml;\n",
              "          element.appendChild(docLink);\n",
              "        }\n",
              "      </script>\n",
              "    </div>\n",
              "  </div>\n",
              "  "
            ],
            "text/plain": [
              "      Accuracy  AUC  Recall   Prec.      F1   Kappa     MCC\n",
              "0       0.3125  0.0  0.1000  0.1438  0.1940  0.1852  0.2037\n",
              "1       0.3125  0.0  0.1000  0.1417  0.1939  0.1852  0.2019\n",
              "2       0.3226  0.0  0.1056  0.2121  0.2373  0.1780  0.1996\n",
              "3       0.4194  0.0  0.1333  0.2159  0.2841  0.2972  0.3201\n",
              "4       0.3871  0.0  0.1222  0.2054  0.2642  0.2554  0.2798\n",
              "5       0.3871  0.0  0.1314  0.2007  0.2642  0.2582  0.2775\n",
              "6       0.3226  0.0  0.1167  0.1705  0.2177  0.1963  0.2179\n",
              "7       0.4194  0.0  0.1529  0.2034  0.2731  0.3077  0.3342\n",
              "8       0.2903  0.0  0.1000  0.1380  0.1865  0.1538  0.1669\n",
              "9       0.3548  0.0  0.1222  0.1788  0.2364  0.2346  0.2526\n",
              "Mean    0.3528  0.0  0.1184  0.1810  0.2351  0.2252  0.2454\n",
              "SD      0.0449  0.0  0.0167  0.0293  0.0340  0.0504  0.0533"
            ]
          },
          "metadata": {}
        }
      ]
    },
    {
      "cell_type": "markdown",
      "source": [
        "### Predicting and exporting the test sets using PyCarets tuned models.\n",
        "\n",
        "The tuned models were again exported so that we could evaluate them via Kaggle as the inbuilt metrics of the tuned models are obscured to us by PyCaret."
      ],
      "metadata": {
        "id": "U-nHXepusf9h"
      }
    },
    {
      "cell_type": "code",
      "source": [
        "pycaret_bestmodel_predictions = predict_model(best_model_eval, data=class_test)\n",
        "pycaret_catboost_predictions = predict_model(catboost_model, data=class_test)\n",
        "pycaret_lda_predictions = predict_model(lda_model, data=class_test)\n",
        "pycaret_ridge_predictions = predict_model(ridge_model, data=class_test)"
      ],
      "metadata": {
        "id": "uuCIlc9YsoCJ"
      },
      "execution_count": null,
      "outputs": []
    },
    {
      "cell_type": "code",
      "source": [
        "pycaret_regression = [pycaret_bestmodel_predictions, pycaret_catboost_predictions, pycaret_lda_predictions, pycaret_ridge_predictions]\n",
        "pycaret_regression_dict = {1:\"pycaret_bestmodel_predictions\", 2: \"pycaret_catboost_predictions\", 3: \"pycaret_lda_predictions\", 4: \"pycaret_ridge_predictions\"}\n",
        "i=0\n",
        "for model in pycaret_regression: # for loop to save all the outputs\n",
        "    i = i+1\n",
        "    submission = pd.DataFrame()\n",
        "    submission[\"Id\"] = model[\"Id\"]\n",
        "    submission[\"top genre\"] = model[\"Label\"]\n",
        "    submission.to_csv(f\"{pycaret_regression_dict[i]}.csv\", index=False)"
      ],
      "metadata": {
        "id": "Uy1CK8IQsgXL"
      },
      "execution_count": null,
      "outputs": []
    },
    {
      "cell_type": "markdown",
      "source": [
        "The Ridge model performed the best in the uploads to Kaggle. However, because we wanted to analyse the performance of CatBoost for both regression and classification tasks, we chose to perfect the CatBoost model.\n",
        "\n",
        "> Indented block\n",
        "\n"
      ],
      "metadata": {
        "id": "JIT-wIq0o8bx"
      }
    },
    {
      "cell_type": "markdown",
      "source": [
        "### Plotting PyCaret Metrics for the chosen Ridge Model"
      ],
      "metadata": {
        "id": "vwAGZVNpsgji"
      }
    },
    {
      "cell_type": "code",
      "source": [
        "plot_model(ridge_model, plot = \"learning\")"
      ],
      "metadata": {
        "id": "23OpOiPztpAd",
        "colab": {
          "base_uri": "https://localhost:8080/",
          "height": 376,
          "referenced_widgets": [
            "14ec1618ba4c4df7b0ea528b979dd6fc",
            "e7b04d8a2ee64413871fa8a3bebc4a62",
            "0c3c6b263baa460bbb213ec04ef1f98c"
          ]
        },
        "outputId": "355bbcf0-8115-4625-a0d6-c8faee0809ba"
      },
      "execution_count": null,
      "outputs": [
        {
          "output_type": "display_data",
          "data": {
            "image/png": "[encoded data removed]",
            "text/plain": [
              "<Figure size 576x396 with 1 Axes>"
            ]
          },
          "metadata": {}
        }
      ]
    },
    {
      "cell_type": "markdown",
      "source": [
        "Again, we looked at this plot to analyse how well our model is improving across iterations. We theorised that increasing the iterations that we set for PyCaret evaluations and tuning would allow our models be more robust and more accurate, such that it improves the metric (accuracy) outcomes of the model when submitted to kaggle."
      ],
      "metadata": {
        "id": "SjT-n-PuuJRk"
      }
    },
    {
      "cell_type": "markdown",
      "source": [
        "## Building Custom & Optimised Classification Models"
      ],
      "metadata": {
        "id": "faTZg4WNttLR"
      }
    },
    {
      "cell_type": "markdown",
      "source": [
        "###XGBoost model with tree.\n",
        "\n",
        "We used XGBoost because it is known as one of (and for a long time was) the worlds fastest gradient booster and boasted incredibly high accuracies."
      ],
      "metadata": {
        "id": "bNqIT5cmz-zJ"
      }
    },
    {
      "cell_type": "code",
      "source": [
        "#checking which objective parameter to use\n",
        "model = XGBClassifier()\n",
        "model.fit(X_train, y_train)\n",
        "print(model.objective)\n",
        "print(class_train_dropped.nunique()) # checking unique count for the num_class param\n"
      ],
      "metadata": {
        "colab": {
          "base_uri": "https://localhost:8080/"
        },
        "id": "H7ONj8jYyqhO",
        "outputId": "85cf7011-7642-4d14-9855-2b95567e2295"
      },
      "execution_count": null,
      "outputs": [
        {
          "output_type": "stream",
          "name": "stdout",
          "text": [
            "multi:softprob\n",
            "year          64\n",
            "nrgy          88\n",
            "dnce          75\n",
            "dB            17\n",
            "dur          185\n",
            "acous         90\n",
            "pop           56\n",
            "top genre     44\n",
            "dtype: int64\n"
          ]
        }
      ]
    },
    {
      "cell_type": "markdown",
      "source": [
        "XGBoost with hyperparameter tuning:"
      ],
      "metadata": {
        "id": "tfZgaThXZ0ED"
      }
    },
    {
      "cell_type": "code",
      "source": [
        "\n",
        "\n",
        "D_train = xgb.DMatrix(X_train, label=y_train)\n",
        "D_test = xgb.DMatrix(X_validation, label=y_train)\n",
        "params = {\n",
        "    # Parameters that we are going to tune.\n",
        "    'max_depth':9,\n",
        "    'min_child_weight': 1,\n",
        "    'eta':.3,\n",
        "    'subsample': 1,\n",
        "    'colsample_bytree': 1,\n",
        "    'objective':'multi:softprob',\n",
        "    'eval_metric':'mlogloss',\n",
        "    'num_class': 44}\n",
        "\n",
        "num_boost_round = 50000 # more is merrier\n",
        "xg_class2 = xgb.train(\n",
        "    params,\n",
        "    D_train,\n",
        "    num_boost_round=num_boost_round,\n",
        "    evals=[(D_train, \"Test\")],\n",
        "    early_stopping_rounds=50)\n",
        "\n",
        "preds = xg_class2.predict(D_test)\n",
        "best_preds = np.asarray([np.argmax(line) for line in preds])\n",
        "precision = precision_score(y_validation, best_preds, average='macro')\n",
        "recall = recall_score(y_validation, best_preds, average='macro')\n",
        "accuracy = accuracy_score(y_validation, best_preds)\n",
        "print(str(f\"Precision:{precision:.2f}\"))\n",
        "print(str(f\"Recall:{recall:.2f}\"))\n",
        "print(str(f\"Accuracy:{accuracy:.2f}\"))\n",
        "\n",
        "xgb.plot_tree(xg_class2,num_trees=5,rankdir='LR')\n",
        "plt.show()"
      ],
      "metadata": {
        "colab": {
          "base_uri": "https://localhost:8080/",
          "height": 1000
        },
        "id": "LZqhBHnQVbbL",
        "outputId": "0f3d9831-e195-4f62-e8e1-6f3557a2f9ed"
      },
      "execution_count": null,
      "outputs": [
        {
          "output_type": "stream",
          "name": "stdout",
          "text": [
            "[0]\tTest-mlogloss:2.8116\n",
            "Will train until Test-mlogloss hasn't improved in 50 rounds.\n",
            "[1]\tTest-mlogloss:2.3954\n",
            "[2]\tTest-mlogloss:2.08281\n",
            "[3]\tTest-mlogloss:1.82635\n",
            "[4]\tTest-mlogloss:1.61474\n",
            "[5]\tTest-mlogloss:1.42318\n",
            "[6]\tTest-mlogloss:1.25976\n",
            "[7]\tTest-mlogloss:1.11469\n",
            "[8]\tTest-mlogloss:0.999398\n",
            "[9]\tTest-mlogloss:0.897259\n",
            "[10]\tTest-mlogloss:0.80814\n",
            "[11]\tTest-mlogloss:0.732252\n",
            "[12]\tTest-mlogloss:0.662808\n",
            "[13]\tTest-mlogloss:0.603658\n",
            "[14]\tTest-mlogloss:0.551632\n",
            "[15]\tTest-mlogloss:0.509656\n",
            "[16]\tTest-mlogloss:0.469491\n",
            "[17]\tTest-mlogloss:0.435243\n",
            "[18]\tTest-mlogloss:0.405083\n",
            "[19]\tTest-mlogloss:0.377504\n",
            "[20]\tTest-mlogloss:0.354754\n",
            "[21]\tTest-mlogloss:0.335065\n",
            "[22]\tTest-mlogloss:0.317666\n",
            "[23]\tTest-mlogloss:0.30281\n",
            "[24]\tTest-mlogloss:0.288289\n",
            "[25]\tTest-mlogloss:0.276441\n",
            "[26]\tTest-mlogloss:0.266141\n",
            "[27]\tTest-mlogloss:0.257114\n",
            "[28]\tTest-mlogloss:0.248983\n",
            "[29]\tTest-mlogloss:0.241682\n",
            "[30]\tTest-mlogloss:0.235201\n",
            "[31]\tTest-mlogloss:0.22951\n",
            "[32]\tTest-mlogloss:0.224084\n",
            "[33]\tTest-mlogloss:0.219377\n",
            "[34]\tTest-mlogloss:0.214491\n",
            "[35]\tTest-mlogloss:0.210045\n",
            "[36]\tTest-mlogloss:0.206258\n",
            "[37]\tTest-mlogloss:0.202588\n",
            "[38]\tTest-mlogloss:0.198994\n",
            "[39]\tTest-mlogloss:0.195697\n",
            "[40]\tTest-mlogloss:0.192552\n",
            "[41]\tTest-mlogloss:0.189674\n",
            "[42]\tTest-mlogloss:0.187254\n",
            "[43]\tTest-mlogloss:0.184563\n",
            "[44]\tTest-mlogloss:0.182277\n",
            "[45]\tTest-mlogloss:0.180042\n",
            "[46]\tTest-mlogloss:0.177819\n",
            "[47]\tTest-mlogloss:0.175804\n",
            "[48]\tTest-mlogloss:0.173772\n",
            "[49]\tTest-mlogloss:0.171804\n",
            "Precision:0.05\n",
            "Recall:0.06\n",
            "Accuracy:0.31\n"
          ]
        },
        {
          "output_type": "stream",
          "name": "stderr",
          "text": [
            "Precision is ill-defined and being set to 0.0 in labels with no predicted samples. Use `zero_division` parameter to control this behavior.\n",
            "Recall is ill-defined and being set to 0.0 in labels with no true samples. Use `zero_division` parameter to control this behavior.\n"
          ]
        },
        {
          "output_type": "display_data",
          "data": {
            "image/png": "[encoded data removed]",
            "text/plain": [
              "<Figure size 432x288 with 1 Axes>"
            ]
          },
          "metadata": {
            "needs_background": "light"
          }
        }
      ]
    },
    {
      "cell_type": "markdown",
      "source": [
        "Here it is visible how gradient booster XGBoost works within our classification task, with an impressive accuracy of over 90%. Each leaf node has a probability attached to it which can be calculated from:"
      ],
      "metadata": {
        "id": "JwFevM2I0-F3"
      }
    },
    {
      "cell_type": "code",
      "source": [
        "# print(1 / (1 + np.exp(-1 * INSERT_NUMBER_HERE)))\n",
        "print(1 / (1 + np.exp(-1 * 0.922413051))) # one example number from our tests\n",
        "# This will give a probability that the node will take this route in the gradient boosting algorithms run."
      ],
      "metadata": {
        "colab": {
          "base_uri": "https://localhost:8080/"
        },
        "id": "K3idc25F1Ham",
        "outputId": "237446bb-24d0-41ad-a46a-c2d1d91c1ce1"
      },
      "execution_count": null,
      "outputs": [
        {
          "output_type": "stream",
          "name": "stdout",
          "text": [
            "0.7155335262345708\n"
          ]
        }
      ]
    },
    {
      "cell_type": "code",
      "source": [
        "# Exporting predictions:\n",
        "xgboost_testmatrix = xgb.DMatrix(X_test_scale_ode)\n",
        "predictions_xgb= xg_class2.predict(xgboost_testmatrix)\n",
        "best_predictions = np.asarray([np.argmax(line) for line in predictions_xgb])\n",
        "\n",
        "predictions_xgb_invert = best_predictions.ravel()\n",
        "predictions_xgb_inverted = labelencoder.inverse_transform(predictions_xgb_invert)\n",
        "\n",
        "submission_class = pd.DataFrame()\n",
        "submission_class[\"Id\"] = class_test[\"Id\"]\n",
        "submission_class[\"top genre\"] = predictions_xgb_inverted\n",
        "submission_class.to_csv(f\"Classification_XGB.csv\",index=False)"
      ],
      "metadata": {
        "id": "i2nuVvm61qG_"
      },
      "execution_count": null,
      "outputs": []
    },
    {
      "cell_type": "markdown",
      "source": [
        "The XGBoost model was not as good as we had hoped, most likely due to encoding issues - this would hopefully be rectified by catboost."
      ],
      "metadata": {
        "id": "2Tp0dUgwokmT"
      }
    },
    {
      "cell_type": "markdown",
      "source": [
        "### Ridge Classifier\n",
        "\n",
        "Ridge Classifier is similar to LDA, but functions using different loss penalties (L2) in a one-vs-rest manner during multiclass tasks and is similar to Least-Squares Support Vector Machine algorithms and their [metric] outcomes.\n"
      ],
      "metadata": {
        "id": "q-fIau94vBJ7"
      }
    },
    {
      "cell_type": "code",
      "source": [
        "ridge_cv_model = RidgeCV(alphas = np.random.randint(0,10,1), cv = 10).fit(X_train,y_train)\n",
        "ridge_tuned = Ridge().set_params(alpha = ridge_cv_model.alpha_).fit(X_train,y_train)\n",
        "score = ridge_tuned.score(X_validation, y_validation)\n",
        "print(\"Score: \", score)\n"
      ],
      "metadata": {
        "colab": {
          "base_uri": "https://localhost:8080/"
        },
        "id": "1-E3cOx1yYpk",
        "outputId": "80961ddb-d3d3-44fa-f2ec-44ac437be72b"
      },
      "execution_count": null,
      "outputs": [
        {
          "output_type": "stream",
          "name": "stdout",
          "text": [
            "Score:  0.10460379628496463\n"
          ]
        }
      ]
    },
    {
      "cell_type": "markdown",
      "source": [
        "Again, the result is worse than during the pycaret testing - it is likely this is because of the encoding, and that the test runs with OneHotEncoding should have been kept because they allowed for more accurate models to be constructed but reversing their encoding for upload to kaggle was too difficult."
      ],
      "metadata": {
        "id": "i-6S8zSR2sKq"
      }
    },
    {
      "cell_type": "markdown",
      "source": [
        "### LDA Classifier\n",
        "\n",
        "We used the LDA classifier (with grid search) as one method for the classification task, since it boasted high accuracy in the tuned models."
      ],
      "metadata": {
        "id": "AtX6nF9_toC9"
      }
    },
    {
      "cell_type": "code",
      "source": [
        "lda_cv_model = LinearDiscriminantAnalysis(solver=\"lsqr\", shrinkage=\"auto\").fit(X_train,y_train)\n",
        "cv = RepeatedStratifiedKFold(n_splits=5, n_repeats=30)\n",
        "grid = dict()\n",
        "grid['solver'] = ['svd', 'lsqr', 'eigen']\n",
        "search = GridSearchCV(lda_cv_model, grid, scoring='accuracy', cv=cv, n_jobs=-1)\n",
        "results = search.fit(X_train, y_train)\n",
        "print('Mean Accuracy: %.3f' % results.best_score_)"
      ],
      "metadata": {
        "colab": {
          "base_uri": "https://localhost:8080/"
        },
        "id": "nGlEj3c8toC-",
        "outputId": "49534731-5bac-4962-c6bc-4d42f857780e"
      },
      "execution_count": null,
      "outputs": [
        {
          "output_type": "stream",
          "name": "stdout",
          "text": [
            "Mean Accuracy: 0.308\n"
          ]
        }
      ]
    },
    {
      "cell_type": "markdown",
      "source": [
        "Since the outcome was quite poor, we did not submit predictions for this either."
      ],
      "metadata": {
        "id": "BhOhw4BYo92v"
      }
    },
    {
      "cell_type": "markdown",
      "source": [
        "### CatBoost Classifier\n",
        "\n",
        "Because we established in PyCaret that CatBoost was one of the the best performing classifiers; we used Optuna to identify optimal parameters around which we would perform our inbuilt pseudo-gridsearch (via earlystopping best model adoption).\n",
        "\n",
        "Once more, so that we can establish the viability of CatBoost as a ML algorithm for both classification and regression tasks, we chose to use it as the final model again so that we could cross compare results and efficacy for each task.\n",
        "\n",
        "Moreover, because we are open to the idea that GridSearching and hyperparameter tuning in general could fall short to random parameter setting, we also allowed for random strength variable to be used again."
      ],
      "metadata": {
        "id": "VLTFUe1qvGye"
      }
    },
    {
      "cell_type": "code",
      "source": [
        "optuna.logging.set_verbosity(optuna.logging.WARNING)\n",
        "warnings.filterwarnings(\"ignore\")\n",
        "\n",
        "# this takes extremely long on cloud services, to test code replaced iterations & trials with a lower number\n",
        "train_pool = Pool(X_train, y_train)  # create training pool from X y\n",
        "validate_pool = Pool(X_validation, y_validation)  # create validation pool from X y\n",
        "\n",
        "def objective(trial):\n",
        "    param = {  # params that we can optimise on, for CatBoost in particular \n",
        "        \"objective\": trial.suggest_categorical(\"objective\", [\"MultiClass\", \"MultiClassOneVsAll\"]),\n",
        "        \"learning_rate\": trial.suggest_loguniform('learning_rate', 0.001, 0.5),\n",
        "        \"colsample_bylevel\": trial.suggest_float(\"colsample_bylevel\", 0.01, 0.1),\n",
        "        \"max_depth\": trial.suggest_int(\"max_depth\", 1, 10),\n",
        "        \"l2_leaf_reg\": trial.suggest_int(\"l2_leaf_reg\", 1, 22, 7),\n",
        "        \"boosting_type\": trial.suggest_categorical(\"boosting_type\", [\"Ordered\", \"Plain\"]),\n",
        "        \"bootstrap_type\": trial.suggest_categorical(\n",
        "            \"bootstrap_type\", [\"Bayesian\", \"Bernoulli\"]),\n",
        "        \"random_strength\": trial.suggest_int(\"random_strength\", 0, 100),\n",
        "        \"od_type\": trial.suggest_categorical(\"od_type\", [\"IncToDec\", \"Iter\"]),\n",
        "    }\n",
        "\n",
        "    if param[\"bootstrap_type\"] == \"Bayesian\":  # conditional params for bayesian and bernoulli bootstraps\n",
        "        param[\"bagging_temperature\"] = trial.suggest_float(\"bagging_temperature\", 0, 10)\n",
        "    elif param[\"bootstrap_type\"] == \"Bernoulli\":\n",
        "        param[\"subsample\"] = trial.suggest_uniform(\"subsample\", 0.1, 1)\n",
        "\n",
        "    model = catboost.CatBoostClassifier(**param, iterations=500)  # iterations and classifier initialisation\n",
        "    model.fit(train_pool, eval_set=validate_pool, verbose=0, early_stopping_rounds=100)  # fitting the model\n",
        "\n",
        "    preds = model.predict(X_validation)  # predictions on validations set\n",
        "    accuracy = accuracy_score(y_validation, preds)  # get accuracy\n",
        "\n",
        "    return accuracy\n",
        "\n",
        "study = optuna.create_study(direction=\"maximize\")  # Initialise Optuna\n",
        "study.optimize(objective, n_trials=2000, show_progress_bar=True)  # set study params\n",
        "\n",
        "print(\"Number of finished trials: {}\".format(len(study.trials)))\n",
        "print(\"Best trial:\")\n",
        "trial = study.best_trial\n",
        "print(\"  Best Score: {}\".format(trial.value))\n",
        "print(\"  Best Params: \")\n",
        "for key, value in trial.params.items():\n",
        "    print(\"    {}: {}\".format(key, value))"
      ],
      "metadata": {
        "colab": {
          "base_uri": "https://localhost:8080/",
          "height": 399,
          "referenced_widgets": [
            "4d7ef4a86e864b13a790c3b3a2f60bf3",
            "7c6bc3e6e9f34f58a62f178de682c5bd",
            "78ccb1ce4b1f49a6bafae3b5bce58e57",
            "26c8af000f3e4ed99f14400530649bcc",
            "69dd46164af14b0caefb2924403be29a",
            "d40446ae5d6b463192bd24a5030d1256",
            "36b720bcc5fc4ac886754386bbb2bc19",
            "65a0ce7c2cee4e978e1da8d1e4631015",
            "dd2e852cb8304ebfbc82984372defdc6",
            "c595b3e6ef014cf583d6e7dbd143b45b",
            "6a86617da44d4253bbb787457b1b9baa"
          ]
        },
        "id": "T0J69xJiv6n-",
        "outputId": "14c590bb-04c9-43b6-8881-c2d0d8dc8f22"
      },
      "execution_count": null,
      "outputs": [
        {
          "output_type": "stream",
          "name": "stderr",
          "text": [
            "\u001b[32m[I 2022-02-20 20:38:58,426]\u001b[0m A new study created in memory with name: no-name-0fc22ebf-49ba-469a-b3ae-6abd94799567\u001b[0m\n",
            "Progress bar is experimental (supported from v1.2.0). The interface can change in the future.\n"
          ]
        },
        {
          "output_type": "display_data",
          "data": {
            "application/vnd.jupyter.widget-view+json": {
              "model_id": "4d7ef4a86e864b13a790c3b3a2f60bf3",
              "version_minor": 0,
              "version_major": 2
            },
            "text/plain": [
              "  0%|          | 0/3 [00:00<?, ?it/s]"
            ]
          },
          "metadata": {}
        },
        {
          "output_type": "stream",
          "name": "stdout",
          "text": [
            "\u001b[32m[I 2022-02-20 20:39:00,483]\u001b[0m Trial 0 finished with value: 0.37755102040816324 and parameters: {'objective': 'MultiClassOneVsAll', 'learning_rate': 0.00204182836661469, 'colsample_bylevel': 0.07693932523274942, 'max_depth': 10, 'l2_leaf_reg': 8, 'boosting_type': 'Plain', 'bootstrap_type': 'Bayesian', 'random_strength': 42, 'od_type': 'Iter', 'bagging_temperature': 9.750515643322421}. Best is trial 0 with value: 0.37755102040816324.\u001b[0m\n",
            "\u001b[32m[I 2022-02-20 20:39:01,463]\u001b[0m Trial 1 finished with value: 0.37755102040816324 and parameters: {'objective': 'MultiClass', 'learning_rate': 0.13698771410697874, 'colsample_bylevel': 0.0529826048863304, 'max_depth': 2, 'l2_leaf_reg': 15, 'boosting_type': 'Plain', 'bootstrap_type': 'Bayesian', 'random_strength': 4, 'od_type': 'IncToDec', 'bagging_temperature': 9.967880706348712}. Best is trial 0 with value: 0.37755102040816324.\u001b[0m\n",
            "\u001b[32m[I 2022-02-20 20:39:01,908]\u001b[0m Trial 2 finished with value: 0.35714285714285715 and parameters: {'objective': 'MultiClass', 'learning_rate': 0.4627361263643217, 'colsample_bylevel': 0.0767962825486128, 'max_depth': 6, 'l2_leaf_reg': 1, 'boosting_type': 'Plain', 'bootstrap_type': 'Bernoulli', 'random_strength': 22, 'od_type': 'Iter', 'subsample': 0.2517773628097379}. Best is trial 0 with value: 0.37755102040816324.\u001b[0m\n",
            "Number of finished trials: 3\n",
            "Best trial:\n",
            "  Best Score: 0.37755102040816324\n",
            "  Best Params: \n",
            "    objective: MultiClassOneVsAll\n",
            "    learning_rate: 0.00204182836661469\n",
            "    colsample_bylevel: 0.07693932523274942\n",
            "    max_depth: 10\n",
            "    l2_leaf_reg: 8\n",
            "    boosting_type: Plain\n",
            "    bootstrap_type: Bayesian\n",
            "    random_strength: 42\n",
            "    od_type: Iter\n",
            "    bagging_temperature: 9.750515643322421\n"
          ]
        }
      ]
    },
    {
      "cell_type": "markdown",
      "source": [
        "Creating a custom CatBoost EarlyStop Model, mainly because gridsearching with a label quantity of 20% the size of our train set would innately cause issues in the integrated test split - we can use the Early Stop model as a pseudo-gridsearch, using the best model to move forward."
      ],
      "metadata": {
        "id": "DvRHz3NpvMBH"
      }
    },
    {
      "cell_type": "code",
      "source": [
        "#need to split this section or it just causes colab to crash, the joys of cloud services\n",
        "train_pool = Pool(X_train, y_train)  # create training pool from X y\n",
        "validate_pool = Pool(X_validation, y_validation)  # create validation pool from X y\n",
        "\n",
        "#take params from optuna\n",
        "iterations_x = 5000  # iterations\n",
        "l2_leaf_reg_x = 15  # l2 leaf regulation parameter\n",
        "depth_x = 10  # tree depth\n",
        "grow_policy_x = \"Depthwise\"  # tree growth strategy/method (can use Lossguide too, probably the better one)\n",
        "learning_rate_x = 0.32045007934720904\n",
        "colsample_bylevel_x = 0.0749379668157421\n",
        "bootstrap_type_x = \"Bernoulli\"\n",
        "params = {\"iterations\": iterations_x,\n",
        "          \"learning_rate\": learning_rate_x,\n",
        "          \"eval_metric\": metrics.Accuracy(),\n",
        "          \"use_best_model\": False,\n",
        "          \"l2_leaf_reg\": l2_leaf_reg_x,\n",
        "          \"depth\": depth_x,\n",
        "          \"grow_policy\": grow_policy_x,\n",
        "          \"colsample_bylevel\": colsample_bylevel_x,\n",
        "          \"bootstrap_type\" : bootstrap_type_x\n",
        "          }\n",
        "\n",
        "earlystop_params = params.copy()  # copy paramaters from base\n",
        "earlystop_params.update({  # update params with earlystop parameters\n",
        "    \"od_type\": \"Iter\",  # overfitting detector method\n",
        "    \"od_wait\": 40})  # number to detect before method kicks in\n",
        "print(f\"Current Parameters:\\n {earlystop_params}\\n\")\n",
        "earlystop_model = CatBoostClassifier(**earlystop_params)  # initialise classifier\n",
        "earlystop_model.fit(train_pool, eval_set=validate_pool)  # fit ES model\n",
        "\n",
        "best_model_params = params.copy()  # copy params\n",
        "best_model_params.update({\"use_best_model\": True})  # update params with use best model parameter\n",
        "print(f\"Current Parameters:\\n {best_model_params}\\n\")\n",
        "best_model = CatBoostClassifier(**best_model_params)  # initialise classifier\n",
        "best_model.fit(train_pool, eval_set=validate_pool)  # fit best model"
      ],
      "metadata": {
        "id": "J5j0u1fbIKSs"
      },
      "execution_count": null,
      "outputs": []
    },
    {
      "cell_type": "markdown",
      "source": [
        "Next we adopt the best parameters from our CatBoost GridSearch and predict on the training set to ascertain metrics."
      ],
      "metadata": {
        "id": "wUGVOW06vbwq"
      }
    },
    {
      "cell_type": "code",
      "source": [
        "print(\"\\nSimple model validation accuracy: {:.4}\".format(\n",
        "    accuracy_score(y_validation,\n",
        "                   earlystop_model.predict(X_validation))))  # print accuracy score of early stop simple model\n",
        "simp = accuracy_score(y_validation,\n",
        "                      earlystop_model.predict(X_validation))  # save the scores for use in output file names.\n",
        "\n",
        "print(\"Best model validation accuracy: {:.4}\\n\".format(\n",
        "    accuracy_score(y_validation, best_model.predict(X_validation))))  # print accuracy score for best model\n",
        "best = accuracy_score(y_validation, best_model.predict(X_validation))  # save the scores for use in output file names.\n"
      ],
      "metadata": {
        "id": "qGka8H_cJgTe",
        "colab": {
          "base_uri": "https://localhost:8080/",
          "height": 236
        },
        "outputId": "b75c15dd-9e94-4100-cb2d-88eca38904cc"
      },
      "execution_count": null,
      "outputs": [
        {
          "output_type": "error",
          "ename": "NameError",
          "evalue": "ignored",
          "traceback": [
            "\u001b[0;31m---------------------------------------------------------------------------\u001b[0m",
            "\u001b[0;31mNameError\u001b[0m                                 Traceback (most recent call last)",
            "\u001b[0;32m<ipython-input-303-a67b608e9d35>\u001b[0m in \u001b[0;36m<module>\u001b[0;34m()\u001b[0m\n\u001b[1;32m      1\u001b[0m print(\"\\nSimple model validation accuracy: {:.4}\".format(\n\u001b[1;32m      2\u001b[0m     accuracy_score(y_validation,\n\u001b[0;32m----> 3\u001b[0;31m                    earlystop_model.predict(X_validation))))  # print accuracy score of early stop simple model\n\u001b[0m\u001b[1;32m      4\u001b[0m simp = accuracy_score(y_validation,\n\u001b[1;32m      5\u001b[0m                       earlystop_model.predict(X_validation))  # save the scores for use in output file names.\n",
            "\u001b[0;31mNameError\u001b[0m: name 'earlystop_model' is not defined"
          ]
        }
      ]
    },
    {
      "cell_type": "markdown",
      "source": [
        "Now we make a prediction on the test set and export it to a CSV for upload to Kaggle.\n",
        "We chose to create submission files for the CatBoost model only, as it was the best model based on the metrics and also because it consistently placed first in the PyCaret \"best model\" search."
      ],
      "metadata": {
        "id": "ib_pfH1xvdzr"
      }
    },
    {
      "cell_type": "code",
      "source": [
        "submission = pd.DataFrame()\n",
        "submission[\"Id\"] = class_test[\"Id\"]\n",
        "submission[\"top genre\"] = earlystop_model.predict(class_test)\n",
        "submission.to_csv(f\"Accuracy is_{simp:.2f}_ES_{iterations_x}_{l2_leaf_reg_x}_{depth_x}_{grow_policy_x}.csv\",\n",
        "                  index=False)\n",
        "\n",
        "submission = pd.DataFrame()\n",
        "submission[\"Id\"] = class_test[\"Id\"]\n",
        "submission[\"top genre\"] = best_model.predict(class_test)\n",
        "submission.to_csv(f\"Accuracy is_{best:.2f}_BP_{iterations_x}_{l2_leaf_reg_x}_{depth_x}_{grow_policy_x}.csv\",\n",
        "                  index=False)"
      ],
      "metadata": {
        "id": "LXBmDf-6vcsO"
      },
      "execution_count": null,
      "outputs": []
    },
    {
      "cell_type": "markdown",
      "source": [
        "## Classification Problem Result\n",
        "\n",
        "Ultimately, Catboost performed much better than anticipated in the custom model, achieving the highest score on Kaggle for the first 2 weeks of submissions (team name IreneDaoNFTSellers)."
      ],
      "metadata": {
        "id": "thISH-fwvgVu"
      }
    },
    {
      "cell_type": "markdown",
      "source": [
        "#Regression Report"
      ],
      "metadata": {
        "id": "ZCuw49YKVyel"
      }
    },
    {
      "cell_type": "markdown",
      "source": [
        "##Dataset Imports"
      ],
      "metadata": {
        "id": "ukgEVwBcWKHx"
      }
    },
    {
      "cell_type": "code",
      "source": [
        "def reg_load(): # function to import clean sets\n",
        "    classtr = pd.read_csv(\"CS98XRegressionTrain.csv\", low_memory=False)\n",
        "    classte = pd.read_csv(\"CS98XRegressionTest.csv\", low_memory=False)\n",
        "    return classtr, classte"
      ],
      "metadata": {
        "id": "HFof9DGpn36B"
      },
      "execution_count": null,
      "outputs": []
    },
    {
      "cell_type": "code",
      "source": [
        "reg_train, reg_test = reg_load()\n",
        "reg_train = reg_train.dropna(how=\"any\").copy()\n",
        "reg_test.fillna(\"\", inplace=True)\n",
        "X = reg_train.drop(columns=[\"Id\", \"title\"])  # split data into X and y plus add in test set\n",
        "X_features = reg_train.columns\n",
        "y = reg_train[\"pop\"]\n",
        "\n",
        "# make sure our import didn't miss anything\n",
        "reg_train.isna().any().any() #check for NA's in the dataset entirely"
      ],
      "metadata": {
        "id": "JTvUwELILdio",
        "colab": {
          "base_uri": "https://localhost:8080/"
        },
        "outputId": "377c170c-1172-4131-ff85-99b1ebe17530"
      },
      "execution_count": null,
      "outputs": [
        {
          "output_type": "execute_result",
          "data": {
            "text/plain": [
              "False"
            ]
          },
          "metadata": {},
          "execution_count": 6
        }
      ]
    },
    {
      "cell_type": "markdown",
      "source": [
        "##Train and Validation Sets\n"
      ],
      "metadata": {
        "id": "scrnRsG-WN6S"
      }
    },
    {
      "cell_type": "code",
      "source": [
        "i, a = [1, 1]\n",
        "while a is not None:  # making sure the test set genres are contained in the training set, so that it doesn't fail due to stratification of the labels being mismatched.\n",
        "    X_train, X_validation, y_train, y_validation = train_test_split(X, y, train_size=0.80)  # FAILS IF TEST SIZE > ~15%!\n",
        "    b = y_validation.isin(y_train).value_counts()  # check if genres contained in y are in X\n",
        "    print(str(f\"While labels between sets are mismatched splitting will repeat. Current iteration: {i}\"))\n",
        "    i = i + 1  # counter\n",
        "    a = b.get(False)  # verification\n",
        "print(f\"Splitting Completed Successfully\\n\")"
      ],
      "metadata": {
        "id": "ELFMBQPSK09E",
        "colab": {
          "base_uri": "https://localhost:8080/"
        },
        "outputId": "3b9f5b17-3e9a-4d23-dffe-32757e90325c"
      },
      "execution_count": null,
      "outputs": [
        {
          "output_type": "stream",
          "name": "stdout",
          "text": [
            "While labels between sets are mismatched splitting will repeat. Current iteration: 1\n",
            "While labels between sets are mismatched splitting will repeat. Current iteration: 2\n",
            "Splitting Completed Successfully\n",
            "\n"
          ]
        }
      ]
    },
    {
      "cell_type": "markdown",
      "source": [
        "## Preliminary Algorithm Viablity Evaluation via PyCaret\n",
        "\n",
        "\n",
        "Our next focus will be on PyCaret for the regression task, which has inbuilt tools that innately handle mixed categorical and integer data and normalises it.\n",
        "\n",
        "Feature scaling is not required (nor useful) for linear regression (strictly speaking). The only benefit, in theory, is in improvements to our model's accuracy if we use regression models that incorporate regularization such as L1 in Lasso- and L2 in Ridge- Regressors.\n",
        "\n",
        "PyCaret evaluates various models simultaneously and provides model evaluation metrics such that we could pick from various different techniques to tackle our problem.\n",
        "\n",
        "One core consideration for using PyCaret was also that it can internally handle missing values, and also performs one-hot encoding seemlessly whilst executing. It also cross-validates internally, making it very robust for an initial \"best model\" search."
      ],
      "metadata": {
        "id": "jEba2Y4OVYhR"
      }
    },
    {
      "cell_type": "code",
      "source": [
        "from pycaret.regression import *\n",
        "\n",
        "regression = setup(data=X, target=\"pop\", categorical_features=[\"artist\", \"top genre\"], numeric_features=[\"dB\"],\n",
        "                   verbose=False, silent=True)\n",
        "best_model_eval = compare_models(sort=\"RMSE\")"
      ],
      "metadata": {
        "id": "WzDr_qPMUD0o",
        "colab": {
          "base_uri": "https://localhost:8080/",
          "height": 614,
          "referenced_widgets": [
            "703e1d01e371471a9b512346eddd2bd7",
            "b65e6b0b11814a8893dc99babe7be3b8",
            "86114fa8c2884b898ecaad12439fb2a8"
          ]
        },
        "outputId": "87b1ae61-a18c-4ac8-d341-54995bf5333e"
      },
      "execution_count": null,
      "outputs": [
        {
          "output_type": "display_data",
          "data": {
            "text/html": [
              "\n",
              "  <div id=\"df-19997c05-7687-4ad9-a52a-9ea76c68b166\">\n",
              "    <div class=\"colab-df-container\">\n",
              "      <div>\n",
              "<style scoped>\n",
              "    .dataframe tbody tr th:only-of-type {\n",
              "        vertical-align: middle;\n",
              "    }\n",
              "\n",
              "    .dataframe tbody tr th {\n",
              "        vertical-align: top;\n",
              "    }\n",
              "\n",
              "    .dataframe thead th {\n",
              "        text-align: right;\n",
              "    }\n",
              "</style>\n",
              "<table border=\"1\" class=\"dataframe\">\n",
              "  <thead>\n",
              "    <tr style=\"text-align: right;\">\n",
              "      <th></th>\n",
              "      <th>Model</th>\n",
              "      <th>MAE</th>\n",
              "      <th>MSE</th>\n",
              "      <th>RMSE</th>\n",
              "      <th>R2</th>\n",
              "      <th>RMSLE</th>\n",
              "      <th>MAPE</th>\n",
              "      <th>TT (Sec)</th>\n",
              "    </tr>\n",
              "  </thead>\n",
              "  <tbody>\n",
              "    <tr>\n",
              "      <th>catboost</th>\n",
              "      <td>CatBoost Regressor</td>\n",
              "      <td>7.8254</td>\n",
              "      <td>98.9742</td>\n",
              "      <td>9.8033</td>\n",
              "      <td>0.3506</td>\n",
              "      <td>0.1721</td>\n",
              "      <td>0.1414</td>\n",
              "      <td>2.952</td>\n",
              "    </tr>\n",
              "    <tr>\n",
              "      <th>gbr</th>\n",
              "      <td>Gradient Boosting Regressor</td>\n",
              "      <td>8.1412</td>\n",
              "      <td>104.1378</td>\n",
              "      <td>10.0173</td>\n",
              "      <td>0.3202</td>\n",
              "      <td>0.1752</td>\n",
              "      <td>0.1467</td>\n",
              "      <td>0.502</td>\n",
              "    </tr>\n",
              "    <tr>\n",
              "      <th>et</th>\n",
              "      <td>Extra Trees Regressor</td>\n",
              "      <td>8.1650</td>\n",
              "      <td>103.5144</td>\n",
              "      <td>10.0425</td>\n",
              "      <td>0.3174</td>\n",
              "      <td>0.1752</td>\n",
              "      <td>0.1473</td>\n",
              "      <td>1.181</td>\n",
              "    </tr>\n",
              "    <tr>\n",
              "      <th>ridge</th>\n",
              "      <td>Ridge Regression</td>\n",
              "      <td>8.3959</td>\n",
              "      <td>105.5360</td>\n",
              "      <td>10.2388</td>\n",
              "      <td>0.3028</td>\n",
              "      <td>0.1792</td>\n",
              "      <td>0.1509</td>\n",
              "      <td>0.044</td>\n",
              "    </tr>\n",
              "    <tr>\n",
              "      <th>rf</th>\n",
              "      <td>Random Forest Regressor</td>\n",
              "      <td>8.3000</td>\n",
              "      <td>109.8638</td>\n",
              "      <td>10.2828</td>\n",
              "      <td>0.2807</td>\n",
              "      <td>0.1803</td>\n",
              "      <td>0.1504</td>\n",
              "      <td>1.077</td>\n",
              "    </tr>\n",
              "    <tr>\n",
              "      <th>ada</th>\n",
              "      <td>AdaBoost Regressor</td>\n",
              "      <td>8.3529</td>\n",
              "      <td>109.7027</td>\n",
              "      <td>10.3092</td>\n",
              "      <td>0.2896</td>\n",
              "      <td>0.1812</td>\n",
              "      <td>0.1515</td>\n",
              "      <td>0.412</td>\n",
              "    </tr>\n",
              "    <tr>\n",
              "      <th>lightgbm</th>\n",
              "      <td>Light Gradient Boosting Machine</td>\n",
              "      <td>8.3019</td>\n",
              "      <td>111.3974</td>\n",
              "      <td>10.3709</td>\n",
              "      <td>0.2741</td>\n",
              "      <td>0.1801</td>\n",
              "      <td>0.1484</td>\n",
              "      <td>0.256</td>\n",
              "    </tr>\n",
              "    <tr>\n",
              "      <th>lasso</th>\n",
              "      <td>Lasso Regression</td>\n",
              "      <td>8.6803</td>\n",
              "      <td>113.1066</td>\n",
              "      <td>10.5783</td>\n",
              "      <td>0.2623</td>\n",
              "      <td>0.1855</td>\n",
              "      <td>0.1571</td>\n",
              "      <td>0.046</td>\n",
              "    </tr>\n",
              "    <tr>\n",
              "      <th>en</th>\n",
              "      <td>Elastic Net</td>\n",
              "      <td>8.6841</td>\n",
              "      <td>113.1165</td>\n",
              "      <td>10.5801</td>\n",
              "      <td>0.2625</td>\n",
              "      <td>0.1855</td>\n",
              "      <td>0.1572</td>\n",
              "      <td>0.038</td>\n",
              "    </tr>\n",
              "    <tr>\n",
              "      <th>br</th>\n",
              "      <td>Bayesian Ridge</td>\n",
              "      <td>8.7007</td>\n",
              "      <td>115.1748</td>\n",
              "      <td>10.6683</td>\n",
              "      <td>0.2508</td>\n",
              "      <td>0.1878</td>\n",
              "      <td>0.1582</td>\n",
              "      <td>0.189</td>\n",
              "    </tr>\n",
              "    <tr>\n",
              "      <th>huber</th>\n",
              "      <td>Huber Regressor</td>\n",
              "      <td>8.6933</td>\n",
              "      <td>119.5028</td>\n",
              "      <td>10.8685</td>\n",
              "      <td>0.2235</td>\n",
              "      <td>0.1919</td>\n",
              "      <td>0.1610</td>\n",
              "      <td>0.323</td>\n",
              "    </tr>\n",
              "    <tr>\n",
              "      <th>knn</th>\n",
              "      <td>K Neighbors Regressor</td>\n",
              "      <td>8.8254</td>\n",
              "      <td>124.6901</td>\n",
              "      <td>11.0365</td>\n",
              "      <td>0.1751</td>\n",
              "      <td>0.1933</td>\n",
              "      <td>0.1592</td>\n",
              "      <td>0.109</td>\n",
              "    </tr>\n",
              "    <tr>\n",
              "      <th>omp</th>\n",
              "      <td>Orthogonal Matching Pursuit</td>\n",
              "      <td>9.2088</td>\n",
              "      <td>129.9395</td>\n",
              "      <td>11.3498</td>\n",
              "      <td>0.1442</td>\n",
              "      <td>0.1993</td>\n",
              "      <td>0.1689</td>\n",
              "      <td>0.061</td>\n",
              "    </tr>\n",
              "    <tr>\n",
              "      <th>llar</th>\n",
              "      <td>Lasso Least Angle Regression</td>\n",
              "      <td>10.3814</td>\n",
              "      <td>160.0859</td>\n",
              "      <td>12.5902</td>\n",
              "      <td>-0.0190</td>\n",
              "      <td>0.2247</td>\n",
              "      <td>0.1943</td>\n",
              "      <td>0.924</td>\n",
              "    </tr>\n",
              "    <tr>\n",
              "      <th>dummy</th>\n",
              "      <td>Dummy Regressor</td>\n",
              "      <td>10.3814</td>\n",
              "      <td>160.0859</td>\n",
              "      <td>12.5902</td>\n",
              "      <td>-0.0190</td>\n",
              "      <td>0.2247</td>\n",
              "      <td>0.1943</td>\n",
              "      <td>0.012</td>\n",
              "    </tr>\n",
              "    <tr>\n",
              "      <th>dt</th>\n",
              "      <td>Decision Tree Regressor</td>\n",
              "      <td>10.8833</td>\n",
              "      <td>198.2577</td>\n",
              "      <td>13.8481</td>\n",
              "      <td>-0.3032</td>\n",
              "      <td>0.2418</td>\n",
              "      <td>0.1917</td>\n",
              "      <td>0.046</td>\n",
              "    </tr>\n",
              "    <tr>\n",
              "      <th>par</th>\n",
              "      <td>Passive Aggressive Regressor</td>\n",
              "      <td>12.6405</td>\n",
              "      <td>238.1075</td>\n",
              "      <td>15.2540</td>\n",
              "      <td>-0.5437</td>\n",
              "      <td>0.2593</td>\n",
              "      <td>0.2316</td>\n",
              "      <td>0.061</td>\n",
              "    </tr>\n",
              "    <tr>\n",
              "      <th>lr</th>\n",
              "      <td>Linear Regression</td>\n",
              "      <td>25.4369</td>\n",
              "      <td>13054.4434</td>\n",
              "      <td>62.3532</td>\n",
              "      <td>-64.6857</td>\n",
              "      <td>0.3529</td>\n",
              "      <td>0.4194</td>\n",
              "      <td>0.650</td>\n",
              "    </tr>\n",
              "  </tbody>\n",
              "</table>\n",
              "</div>\n",
              "      <button class=\"colab-df-convert\" onclick=\"convertToInteractive('df-19997c05-7687-4ad9-a52a-9ea76c68b166')\"\n",
              "              title=\"Convert this dataframe to an interactive table.\"\n",
              "              style=\"display:none;\">\n",
              "        \n",
              "  <svg xmlns=\"http://www.w3.org/2000/svg\" height=\"24px\"viewBox=\"0 0 24 24\"\n",
              "       width=\"24px\">\n",
              "    <path d=\"M0 0h24v24H0V0z\" fill=\"none\"/>\n",
              "    <path d=\"M18.56 5.44l.94 2.06.94-2.06 2.06-.94-2.06-.94-.94-2.06-.94 2.06-2.06.94zm-11 1L8.5 8.5l.94-2.06 2.06-.94-2.06-.94L8.5 2.5l-.94 2.06-2.06.94zm10 10l.94 2.06.94-2.06 2.06-.94-2.06-.94-.94-2.06-.94 2.06-2.06.94z\"/><path d=\"M17.41 7.96l-1.37-1.37c-.4-.4-.92-.59-1.43-.59-.52 0-1.04.2-1.43.59L10.3 9.45l-7.72 7.72c-.78.78-.78 2.05 0 2.83L4 21.41c.39.39.9.59 1.41.59.51 0 1.02-.2 1.41-.59l7.78-7.78 2.81-2.81c.8-.78.8-2.07 0-2.86zM5.41 20L4 18.59l7.72-7.72 1.47 1.35L5.41 20z\"/>\n",
              "  </svg>\n",
              "      </button>\n",
              "      \n",
              "  <style>\n",
              "    .colab-df-container {\n",
              "      display:flex;\n",
              "      flex-wrap:wrap;\n",
              "      gap: 12px;\n",
              "    }\n",
              "\n",
              "    .colab-df-convert {\n",
              "      background-color: #E8F0FE;\n",
              "      border: none;\n",
              "      border-radius: 50%;\n",
              "      cursor: pointer;\n",
              "      display: none;\n",
              "      fill: #1967D2;\n",
              "      height: 32px;\n",
              "      padding: 0 0 0 0;\n",
              "      width: 32px;\n",
              "    }\n",
              "\n",
              "    .colab-df-convert:hover {\n",
              "      background-color: #E2EBFA;\n",
              "      box-shadow: 0px 1px 2px rgba(60, 64, 67, 0.3), 0px 1px 3px 1px rgba(60, 64, 67, 0.15);\n",
              "      fill: #174EA6;\n",
              "    }\n",
              "\n",
              "    [theme=dark] .colab-df-convert {\n",
              "      background-color: #3B4455;\n",
              "      fill: #D2E3FC;\n",
              "    }\n",
              "\n",
              "    [theme=dark] .colab-df-convert:hover {\n",
              "      background-color: #434B5C;\n",
              "      box-shadow: 0px 1px 3px 1px rgba(0, 0, 0, 0.15);\n",
              "      filter: drop-shadow(0px 1px 2px rgba(0, 0, 0, 0.3));\n",
              "      fill: #FFFFFF;\n",
              "    }\n",
              "  </style>\n",
              "\n",
              "      <script>\n",
              "        const buttonEl =\n",
              "          document.querySelector('#df-19997c05-7687-4ad9-a52a-9ea76c68b166 button.colab-df-convert');\n",
              "        buttonEl.style.display =\n",
              "          google.colab.kernel.accessAllowed ? 'block' : 'none';\n",
              "\n",
              "        async function convertToInteractive(key) {\n",
              "          const element = document.querySelector('#df-19997c05-7687-4ad9-a52a-9ea76c68b166');\n",
              "          const dataTable =\n",
              "            await google.colab.kernel.invokeFunction('convertToInteractive',\n",
              "                                                     [key], {});\n",
              "          if (!dataTable) return;\n",
              "\n",
              "          const docLinkHtml = 'Like what you see? Visit the ' +\n",
              "            '<a target=\"_blank\" href=https://colab.research.google.com/notebooks/data_table.ipynb>data table notebook</a>'\n",
              "            + ' to learn more about interactive tables.';\n",
              "          element.innerHTML = '';\n",
              "          dataTable['output_type'] = 'display_data';\n",
              "          await google.colab.output.renderOutput(dataTable, element);\n",
              "          const docLink = document.createElement('div');\n",
              "          docLink.innerHTML = docLinkHtml;\n",
              "          element.appendChild(docLink);\n",
              "        }\n",
              "      </script>\n",
              "    </div>\n",
              "  </div>\n",
              "  "
            ],
            "text/plain": [
              "                                    Model      MAE         MSE     RMSE  \\\n",
              "catboost               CatBoost Regressor   7.8254     98.9742   9.8033   \n",
              "gbr           Gradient Boosting Regressor   8.1412    104.1378  10.0173   \n",
              "et                  Extra Trees Regressor   8.1650    103.5144  10.0425   \n",
              "ridge                    Ridge Regression   8.3959    105.5360  10.2388   \n",
              "rf                Random Forest Regressor   8.3000    109.8638  10.2828   \n",
              "ada                    AdaBoost Regressor   8.3529    109.7027  10.3092   \n",
              "lightgbm  Light Gradient Boosting Machine   8.3019    111.3974  10.3709   \n",
              "lasso                    Lasso Regression   8.6803    113.1066  10.5783   \n",
              "en                            Elastic Net   8.6841    113.1165  10.5801   \n",
              "br                         Bayesian Ridge   8.7007    115.1748  10.6683   \n",
              "huber                     Huber Regressor   8.6933    119.5028  10.8685   \n",
              "knn                 K Neighbors Regressor   8.8254    124.6901  11.0365   \n",
              "omp           Orthogonal Matching Pursuit   9.2088    129.9395  11.3498   \n",
              "llar         Lasso Least Angle Regression  10.3814    160.0859  12.5902   \n",
              "dummy                     Dummy Regressor  10.3814    160.0859  12.5902   \n",
              "dt                Decision Tree Regressor  10.8833    198.2577  13.8481   \n",
              "par          Passive Aggressive Regressor  12.6405    238.1075  15.2540   \n",
              "lr                      Linear Regression  25.4369  13054.4434  62.3532   \n",
              "\n",
              "               R2   RMSLE    MAPE  TT (Sec)  \n",
              "catboost   0.3506  0.1721  0.1414     2.952  \n",
              "gbr        0.3202  0.1752  0.1467     0.502  \n",
              "et         0.3174  0.1752  0.1473     1.181  \n",
              "ridge      0.3028  0.1792  0.1509     0.044  \n",
              "rf         0.2807  0.1803  0.1504     1.077  \n",
              "ada        0.2896  0.1812  0.1515     0.412  \n",
              "lightgbm   0.2741  0.1801  0.1484     0.256  \n",
              "lasso      0.2623  0.1855  0.1571     0.046  \n",
              "en         0.2625  0.1855  0.1572     0.038  \n",
              "br         0.2508  0.1878  0.1582     0.189  \n",
              "huber      0.2235  0.1919  0.1610     0.323  \n",
              "knn        0.1751  0.1933  0.1592     0.109  \n",
              "omp        0.1442  0.1993  0.1689     0.061  \n",
              "llar      -0.0190  0.2247  0.1943     0.924  \n",
              "dummy     -0.0190  0.2247  0.1943     0.012  \n",
              "dt        -0.3032  0.2418  0.1917     0.046  \n",
              "par       -0.5437  0.2593  0.2316     0.061  \n",
              "lr       -64.6857  0.3529  0.4194     0.650  "
            ]
          },
          "metadata": {}
        }
      ]
    },
    {
      "cell_type": "markdown",
      "source": [
        "Across 25 runs, **CatBoost** (a gradient boosting algorithm) was the [highest scorer (yet again)](https://i.imgur.com/5PEJ58r.png) (lowest RMSE), thus ultimately becoming our final model of choice for this regression problem.\n",
        "\n",
        "We also used **Lasso**  and **Ridge** regression techniques, which often scored in the top 5-10 of the RMSE scores during the PyCaret evaluations to compare methods."
      ],
      "metadata": {
        "id": "fx8Sl0W3ilFS"
      }
    },
    {
      "cell_type": "markdown",
      "source": [
        "### Creating tuned models for all 3 techniques.\n",
        "We decided to compare the metrics of tuned PyCaret models for CatBoost, Lasso and Ridge regressors (we also kept a \"best model\" variable open - in case another regressor performed better than CatBoost such that we could capture their predictions for later comparisons)."
      ],
      "metadata": {
        "id": "DimOE0E5mViu"
      }
    },
    {
      "cell_type": "code",
      "source": [
        "#Warning - this can take very (very!) long.\n",
        "best_model = tune_model(best_model_eval, n_iter = 50)  # best model for predictions\n",
        "\n",
        "catboost = create_model(\"catboost\")\n",
        "catboost_model = tune_model(catboost, n_iter = 50) # tuned catboost model\n",
        "\n",
        "lasso = create_model(\"lasso\")\n",
        "lasso_model = tune_model(lasso, n_iter = 50) # tuned lasso model\n",
        "\n",
        "ridge = create_model(\"ridge\")\n",
        "ridge_model = tune_model(ridge, n_iter = 50) # tuned ridge model"
      ],
      "metadata": {
        "id": "NJsvDWY6h9ig",
        "colab": {
          "base_uri": "https://localhost:8080/",
          "height": 426,
          "referenced_widgets": [
            "fb73cb2144d041a3b3866684ad1d162e",
            "bbb68914861a4a7b8c376c759a376d0c",
            "36a587f990d34db7bcd136c1f1f203a9",
            "dfcfb43ad5b64092a72940f580918602",
            "9b1fb7342d864205a4399751e87f8365",
            "5de3d3500ba74687a142201d97b2ae2a",
            "c19d04fec8554264bacddea7a2882be6",
            "5de15ad9ba5c44b49815939de25b183d",
            "1474505579fa46749ef28ca3a49b01a9",
            "2a48bdd7c38c40c082883562dfff1a00",
            "45b0e5426c7847f48d7d288e75a306dd",
            "5cdd6686245841e3a38550de38c58799",
            "df770b0ccc014877b7d4f147e948a4d7",
            "4568c15d547f4b4ebdf9b3757da7e289",
            "45961a63b8c14a5691469fa8dbc50ed2",
            "daff93ea475e4862a98b3a3aedb37912",
            "aa0912a6df364361bd28fddfb3d2d6b5",
            "665d8969331f49e780a45975d3417ccb",
            "3a882232964c416caec746a875e4ce70",
            "47be0a10fa1d4b31b8fe0c8a1df1e3a3",
            "be1179dad1324f3394a462efd7b5f749"
          ]
        },
        "outputId": "734ab253-900e-4416-cdb3-0c2ec877acae"
      },
      "execution_count": null,
      "outputs": [
        {
          "output_type": "display_data",
          "data": {
            "text/html": [
              "\n",
              "  <div id=\"df-b43c087e-4d13-42cc-9b26-c80e7dc950b1\">\n",
              "    <div class=\"colab-df-container\">\n",
              "      <div>\n",
              "<style scoped>\n",
              "    .dataframe tbody tr th:only-of-type {\n",
              "        vertical-align: middle;\n",
              "    }\n",
              "\n",
              "    .dataframe tbody tr th {\n",
              "        vertical-align: top;\n",
              "    }\n",
              "\n",
              "    .dataframe thead th {\n",
              "        text-align: right;\n",
              "    }\n",
              "</style>\n",
              "<table border=\"1\" class=\"dataframe\">\n",
              "  <thead>\n",
              "    <tr style=\"text-align: right;\">\n",
              "      <th></th>\n",
              "      <th>MAE</th>\n",
              "      <th>MSE</th>\n",
              "      <th>RMSE</th>\n",
              "      <th>R2</th>\n",
              "      <th>RMSLE</th>\n",
              "      <th>MAPE</th>\n",
              "    </tr>\n",
              "  </thead>\n",
              "  <tbody>\n",
              "    <tr>\n",
              "      <th>0</th>\n",
              "      <td>7.4613</td>\n",
              "      <td>90.3845</td>\n",
              "      <td>9.5071</td>\n",
              "      <td>0.6059</td>\n",
              "      <td>0.1810</td>\n",
              "      <td>0.1485</td>\n",
              "    </tr>\n",
              "    <tr>\n",
              "      <th>1</th>\n",
              "      <td>8.5392</td>\n",
              "      <td>111.6676</td>\n",
              "      <td>10.5673</td>\n",
              "      <td>0.1926</td>\n",
              "      <td>0.1804</td>\n",
              "      <td>0.1524</td>\n",
              "    </tr>\n",
              "    <tr>\n",
              "      <th>2</th>\n",
              "      <td>9.1726</td>\n",
              "      <td>144.6431</td>\n",
              "      <td>12.0268</td>\n",
              "      <td>0.1419</td>\n",
              "      <td>0.2158</td>\n",
              "      <td>0.1751</td>\n",
              "    </tr>\n",
              "    <tr>\n",
              "      <th>3</th>\n",
              "      <td>8.2829</td>\n",
              "      <td>105.8606</td>\n",
              "      <td>10.2889</td>\n",
              "      <td>0.2953</td>\n",
              "      <td>0.1873</td>\n",
              "      <td>0.1595</td>\n",
              "    </tr>\n",
              "    <tr>\n",
              "      <th>4</th>\n",
              "      <td>9.2259</td>\n",
              "      <td>123.7296</td>\n",
              "      <td>11.1234</td>\n",
              "      <td>0.1485</td>\n",
              "      <td>0.1922</td>\n",
              "      <td>0.1621</td>\n",
              "    </tr>\n",
              "    <tr>\n",
              "      <th>5</th>\n",
              "      <td>8.2140</td>\n",
              "      <td>103.5102</td>\n",
              "      <td>10.1740</td>\n",
              "      <td>0.2171</td>\n",
              "      <td>0.1772</td>\n",
              "      <td>0.1411</td>\n",
              "    </tr>\n",
              "    <tr>\n",
              "      <th>6</th>\n",
              "      <td>7.4528</td>\n",
              "      <td>78.8848</td>\n",
              "      <td>8.8817</td>\n",
              "      <td>0.4362</td>\n",
              "      <td>0.1563</td>\n",
              "      <td>0.1340</td>\n",
              "    </tr>\n",
              "    <tr>\n",
              "      <th>7</th>\n",
              "      <td>7.8941</td>\n",
              "      <td>89.3041</td>\n",
              "      <td>9.4501</td>\n",
              "      <td>0.1626</td>\n",
              "      <td>0.1577</td>\n",
              "      <td>0.1318</td>\n",
              "    </tr>\n",
              "    <tr>\n",
              "      <th>8</th>\n",
              "      <td>8.5899</td>\n",
              "      <td>93.9059</td>\n",
              "      <td>9.6905</td>\n",
              "      <td>0.4734</td>\n",
              "      <td>0.1610</td>\n",
              "      <td>0.1475</td>\n",
              "    </tr>\n",
              "    <tr>\n",
              "      <th>9</th>\n",
              "      <td>8.5318</td>\n",
              "      <td>100.6373</td>\n",
              "      <td>10.0318</td>\n",
              "      <td>0.4517</td>\n",
              "      <td>0.1750</td>\n",
              "      <td>0.1523</td>\n",
              "    </tr>\n",
              "    <tr>\n",
              "      <th>Mean</th>\n",
              "      <td>8.3364</td>\n",
              "      <td>104.2528</td>\n",
              "      <td>10.1741</td>\n",
              "      <td>0.3125</td>\n",
              "      <td>0.1784</td>\n",
              "      <td>0.1504</td>\n",
              "    </tr>\n",
              "    <tr>\n",
              "      <th>SD</th>\n",
              "      <td>0.5826</td>\n",
              "      <td>18.0230</td>\n",
              "      <td>0.8599</td>\n",
              "      <td>0.1577</td>\n",
              "      <td>0.0170</td>\n",
              "      <td>0.0125</td>\n",
              "    </tr>\n",
              "  </tbody>\n",
              "</table>\n",
              "</div>\n",
              "      <button class=\"colab-df-convert\" onclick=\"convertToInteractive('df-b43c087e-4d13-42cc-9b26-c80e7dc950b1')\"\n",
              "              title=\"Convert this dataframe to an interactive table.\"\n",
              "              style=\"display:none;\">\n",
              "        \n",
              "  <svg xmlns=\"http://www.w3.org/2000/svg\" height=\"24px\"viewBox=\"0 0 24 24\"\n",
              "       width=\"24px\">\n",
              "    <path d=\"M0 0h24v24H0V0z\" fill=\"none\"/>\n",
              "    <path d=\"M18.56 5.44l.94 2.06.94-2.06 2.06-.94-2.06-.94-.94-2.06-.94 2.06-2.06.94zm-11 1L8.5 8.5l.94-2.06 2.06-.94-2.06-.94L8.5 2.5l-.94 2.06-2.06.94zm10 10l.94 2.06.94-2.06 2.06-.94-2.06-.94-.94-2.06-.94 2.06-2.06.94z\"/><path d=\"M17.41 7.96l-1.37-1.37c-.4-.4-.92-.59-1.43-.59-.52 0-1.04.2-1.43.59L10.3 9.45l-7.72 7.72c-.78.78-.78 2.05 0 2.83L4 21.41c.39.39.9.59 1.41.59.51 0 1.02-.2 1.41-.59l7.78-7.78 2.81-2.81c.8-.78.8-2.07 0-2.86zM5.41 20L4 18.59l7.72-7.72 1.47 1.35L5.41 20z\"/>\n",
              "  </svg>\n",
              "      </button>\n",
              "      \n",
              "  <style>\n",
              "    .colab-df-container {\n",
              "      display:flex;\n",
              "      flex-wrap:wrap;\n",
              "      gap: 12px;\n",
              "    }\n",
              "\n",
              "    .colab-df-convert {\n",
              "      background-color: #E8F0FE;\n",
              "      border: none;\n",
              "      border-radius: 50%;\n",
              "      cursor: pointer;\n",
              "      display: none;\n",
              "      fill: #1967D2;\n",
              "      height: 32px;\n",
              "      padding: 0 0 0 0;\n",
              "      width: 32px;\n",
              "    }\n",
              "\n",
              "    .colab-df-convert:hover {\n",
              "      background-color: #E2EBFA;\n",
              "      box-shadow: 0px 1px 2px rgba(60, 64, 67, 0.3), 0px 1px 3px 1px rgba(60, 64, 67, 0.15);\n",
              "      fill: #174EA6;\n",
              "    }\n",
              "\n",
              "    [theme=dark] .colab-df-convert {\n",
              "      background-color: #3B4455;\n",
              "      fill: #D2E3FC;\n",
              "    }\n",
              "\n",
              "    [theme=dark] .colab-df-convert:hover {\n",
              "      background-color: #434B5C;\n",
              "      box-shadow: 0px 1px 3px 1px rgba(0, 0, 0, 0.15);\n",
              "      filter: drop-shadow(0px 1px 2px rgba(0, 0, 0, 0.3));\n",
              "      fill: #FFFFFF;\n",
              "    }\n",
              "  </style>\n",
              "\n",
              "      <script>\n",
              "        const buttonEl =\n",
              "          document.querySelector('#df-b43c087e-4d13-42cc-9b26-c80e7dc950b1 button.colab-df-convert');\n",
              "        buttonEl.style.display =\n",
              "          google.colab.kernel.accessAllowed ? 'block' : 'none';\n",
              "\n",
              "        async function convertToInteractive(key) {\n",
              "          const element = document.querySelector('#df-b43c087e-4d13-42cc-9b26-c80e7dc950b1');\n",
              "          const dataTable =\n",
              "            await google.colab.kernel.invokeFunction('convertToInteractive',\n",
              "                                                     [key], {});\n",
              "          if (!dataTable) return;\n",
              "\n",
              "          const docLinkHtml = 'Like what you see? Visit the ' +\n",
              "            '<a target=\"_blank\" href=https://colab.research.google.com/notebooks/data_table.ipynb>data table notebook</a>'\n",
              "            + ' to learn more about interactive tables.';\n",
              "          element.innerHTML = '';\n",
              "          dataTable['output_type'] = 'display_data';\n",
              "          await google.colab.output.renderOutput(dataTable, element);\n",
              "          const docLink = document.createElement('div');\n",
              "          docLink.innerHTML = docLinkHtml;\n",
              "          element.appendChild(docLink);\n",
              "        }\n",
              "      </script>\n",
              "    </div>\n",
              "  </div>\n",
              "  "
            ],
            "text/plain": [
              "         MAE       MSE     RMSE      R2   RMSLE    MAPE\n",
              "0     7.4613   90.3845   9.5071  0.6059  0.1810  0.1485\n",
              "1     8.5392  111.6676  10.5673  0.1926  0.1804  0.1524\n",
              "2     9.1726  144.6431  12.0268  0.1419  0.2158  0.1751\n",
              "3     8.2829  105.8606  10.2889  0.2953  0.1873  0.1595\n",
              "4     9.2259  123.7296  11.1234  0.1485  0.1922  0.1621\n",
              "5     8.2140  103.5102  10.1740  0.2171  0.1772  0.1411\n",
              "6     7.4528   78.8848   8.8817  0.4362  0.1563  0.1340\n",
              "7     7.8941   89.3041   9.4501  0.1626  0.1577  0.1318\n",
              "8     8.5899   93.9059   9.6905  0.4734  0.1610  0.1475\n",
              "9     8.5318  100.6373  10.0318  0.4517  0.1750  0.1523\n",
              "Mean  8.3364  104.2528  10.1741  0.3125  0.1784  0.1504\n",
              "SD    0.5826   18.0230   0.8599  0.1577  0.0170  0.0125"
            ]
          },
          "metadata": {}
        }
      ]
    },
    {
      "cell_type": "markdown",
      "source": [
        "### Predicting and exporting the test sets using PyCarets tuned models.\n",
        "\n",
        "Once the models were tuned, we predicted on our test data and exported all predictions for upload to kaggle."
      ],
      "metadata": {
        "id": "gQaQsfD8m9ca"
      }
    },
    {
      "cell_type": "code",
      "source": [
        "pycaret_bestmodel_predictions = predict_model(best_model_eval, data=reg_test)\n",
        "pycaret_catboost_predictions = predict_model(catboost_model, data=reg_test)\n",
        "pycaret_lasso_predictions = predict_model(lasso_model, data=reg_test)\n",
        "pycaret_ridge_predictions = predict_model(ridge_model, data=reg_test)\n",
        "\n",
        "pycaret_regression = [pycaret_bestmodel_predictions, pycaret_catboost_predictions, pycaret_lasso_predictions, pycaret_ridge_predictions]\n",
        "pycaret_regression_dict = {1:\"pycaret_bestmodel_predictions\", 2: \"pycaret_catboost_predictions\", 3: \"pycaret_lasso_predictions\", 4: \"pycaret_ridge_predictions\"}\n",
        "i=0\n",
        "for model in pycaret_regression: # for loop to save all the outputs\n",
        "    i = i+1\n",
        "    submission = pd.DataFrame()\n",
        "    submission[\"Id\"] = model[\"Id\"]\n",
        "    submission[\"pop\"] = model[\"Label\"]\n",
        "    submission.to_csv(f\"{pycaret_regression_dict[i]}.csv\", index=False)"
      ],
      "metadata": {
        "id": "YTLSXXIOm8KW"
      },
      "execution_count": null,
      "outputs": []
    },
    {
      "cell_type": "markdown",
      "source": [
        "### Plotting PyCaret Metrics for the chosen CatBoost Model.\n"
      ],
      "metadata": {
        "id": "i0CJ7voWnLAM"
      }
    },
    {
      "cell_type": "code",
      "source": [
        "plot_model(catboost_model, plot = \"feature\") # or feature_all"
      ],
      "metadata": {
        "id": "W0c9bXvioBF5",
        "colab": {
          "base_uri": "https://localhost:8080/",
          "height": 478
        },
        "outputId": "0f98a8fd-1a7c-4aac-e95c-cb69127ad2b7"
      },
      "execution_count": null,
      "outputs": [
        {
          "output_type": "display_data",
          "data": {
            "image/png": "[encoded data removed]",
            "text/plain": [
              "<Figure size 800x500 with 1 Axes>"
            ]
          },
          "metadata": {}
        }
      ]
    },
    {
      "cell_type": "markdown",
      "source": [
        "This informed us for future customisation of the CatBoost model which features we might want to manually select.\n",
        "\n",
        "Most ntoable, dur, acous, year and bpm would often be at the top of the list. Duration coming first often was alarming, as we had already dealt with the outliers and the scaling occured internally - but as these precautions were taken, we felt it was justified to leave the feature as is for the time being."
      ],
      "metadata": {
        "id": "fgPhGnQuGtxq"
      }
    },
    {
      "cell_type": "code",
      "source": [
        "plot_model(catboost_model, plot = \"learning\")"
      ],
      "metadata": {
        "id": "_gYJrWS8WHyG",
        "colab": {
          "base_uri": "https://localhost:8080/",
          "height": 376,
          "referenced_widgets": [
            "68652213da7d40008f15c089d551a76d",
            "d746cd81a80246f292a7d414430e0b44",
            "a3d95ab64bbf45ee99b790995d81cfb3"
          ]
        },
        "outputId": "2be3959c-fef8-467c-89a8-7171ded49830"
      },
      "execution_count": null,
      "outputs": [
        {
          "output_type": "display_data",
          "data": {
            "image/png": "[encoded data removed]",
            "text/plain": [
              "<Figure size 576x396 with 1 Axes>"
            ]
          },
          "metadata": {}
        }
      ]
    },
    {
      "cell_type": "markdown",
      "source": [
        "This plot showcased the capacity of the model to improve over iterations, as the lines get closer, the implication is that the model improves."
      ],
      "metadata": {
        "id": "Igc2Z-JjHIFg"
      }
    },
    {
      "cell_type": "markdown",
      "source": [
        "## Rebuilding PyCaret Models as Custom Optimised Models\n",
        "\n",
        "We now wanted to optimise our chosen best model and alternatives."
      ],
      "metadata": {
        "id": "RccZ3AdcAUwq"
      }
    },
    {
      "cell_type": "markdown",
      "source": [
        "### Feature Selection\n",
        "\n",
        "Our feature selection comprised of variance analysis and scaling of features."
      ],
      "metadata": {
        "id": "y4ygxkxLbeL8"
      }
    },
    {
      "cell_type": "code",
      "source": [
        "# Variance check on unchanged data\n",
        "X.var()"
      ],
      "metadata": {
        "id": "AxRLfhXXNsFO",
        "colab": {
          "base_uri": "https://localhost:8080/"
        },
        "outputId": "bc3c33f4-6cce-41e6-af0c-513cf415239f"
      },
      "execution_count": null,
      "outputs": [
        {
          "output_type": "execute_result",
          "data": {
            "text/plain": [
              "year      278.791365\n",
              "bpm       633.817649\n",
              "nrgy      487.953068\n",
              "dnce      237.306542\n",
              "dB         12.895317\n",
              "live      190.646840\n",
              "val       599.278246\n",
              "dur      4022.960518\n",
              "acous     857.313250\n",
              "spch       31.040406\n",
              "pop       162.801083\n",
              "dtype: float64"
            ]
          },
          "metadata": {},
          "execution_count": 14
        }
      ]
    },
    {
      "cell_type": "markdown",
      "source": [
        "We proceeded to create a SHAP feature importance graph that would provide more insight. This relies on Shapley values that are used to explain model outputs for machine learning."
      ],
      "metadata": {
        "id": "1VEF0EDWvHvB"
      }
    },
    {
      "cell_type": "code",
      "source": [
        "# have to reload data for label match, manual scaling redone.\n",
        "reg_train, reg_test = reg_load()\n",
        "reg_train = reg_train.dropna(how=\"any\").copy()\n",
        "reg_test.fillna(\"\", inplace=True)\n",
        "X = reg_train.drop(columns=[\"pop\"])\n",
        "X_features = reg_train.columns\n",
        "y = reg_train[\"pop\"]\n",
        "\n",
        "numerics = ['int16', 'int32', 'int64', 'float16', 'float32', 'float64']\n",
        "reg_train=reg_train[(np.abs(stats.zscore(reg_train.select_dtypes(include=numerics))) < 3).all(axis=1)] #statistical removal of outliers\n",
        "\n",
        "i, a = [1, 1]\n",
        "while a is not None:  # making sure the test set genres are contained in the training set, so that it doesn't fail due to stratification of the labels being mismatched.\n",
        "    X_train, X_validation, y_train, y_validation = train_test_split(X, y, train_size=0.95)  # FAILS IF TEST SIZE > ~15%!\n",
        "    b = y_validation.isin(y_train).value_counts()  # check if genres contained in y are in X\n",
        "    print(str(f\"While labels between sets are mismatched splitting will repeat. Current iteration: {i}\"))\n",
        "    i = i + 1  # counter\n",
        "    a = b.get(False)  # verification\n",
        "print(f\"Splitting Completed Successfully\\n\")\n",
        "\n",
        "cat_features_indices = np.where(X.dtypes != float)[0]  # tag categorical\n",
        "train_pool = Pool(X_train, y_train, cat_features=cat_features_indices)  # create training pool from X y\n",
        "validate_pool = Pool(X_validation, y_validation, cat_features=cat_features_indices)  # create validation pool from X y\n",
        "\n",
        "loss_function_x= \"RMSE\"\n",
        "model = CatBoostRegressor(loss_function=loss_function_x, iterations=50)  # initialise classifier\n",
        "model.fit(train_pool, eval_set=validate_pool, verbose=False)  # fit model\n",
        "pred = model.predict(X_validation)\n",
        "\n",
        "sorted_feature_importance = model.feature_importances_.argsort()  # sort by feature importance\n",
        "explainer = shap.TreeExplainer(model) # apply SHAP\n",
        "shap_values = explainer.shap_values(reg_test) # get values from our test set\n",
        "shap.summary_plot(shap_values, reg_test, feature_names=X_features[sorted_feature_importance]) # plot values based on features"
      ],
      "metadata": {
        "colab": {
          "base_uri": "https://localhost:8080/",
          "height": 506
        },
        "id": "ghA6EeDDgiZ_",
        "outputId": "90357fa8-1008-4dab-ea1f-388f88391d04"
      },
      "execution_count": null,
      "outputs": [
        {
          "output_type": "stream",
          "name": "stdout",
          "text": [
            "While labels between sets are mismatched splitting will repeat. Current iteration: 1\n",
            "Splitting Completed Successfully\n",
            "\n"
          ]
        },
        {
          "output_type": "display_data",
          "data": {
            "image/png": "[encoded data removed]",
            "text/plain": [
              "<Figure size 576x511.2 with 2 Axes>"
            ]
          },
          "metadata": {}
        }
      ]
    },
    {
      "cell_type": "markdown",
      "source": [
        "This informed us that dur was not as often the main predictor of the model - but we hypothesised that this was because it was overshadowing the other features. Alternatively, often live, acous and bpm were also of high importance.\n",
        "\n",
        "It also let us filter out some features like title and artist, for instance."
      ],
      "metadata": {
        "id": "uyGiW7cPKRL7"
      }
    },
    {
      "cell_type": "markdown",
      "source": [
        "###Preparing OneHotEncoder (for Lasso and Ridge Regressors) and Scaling Data\n",
        "The reason for OneHotEncoding is to eliminate categorical values from our sets and the reason for scaling is to normalise our data, particularly the numeric range disparity between, for instance, dB (-24 to -1) and dur (98-511). This should ensure better accuracy of our models(Lasso and Ridge, in particular)."
      ],
      "metadata": {
        "id": "-hNsxZ30fQPy"
      }
    },
    {
      "cell_type": "code",
      "source": [
        "# data reload is required, no manual scaling this time since we are going to use stdscaler.\n",
        "reg_train, reg_test = reg_load()\n",
        "reg_train = reg_train.dropna(how=\"any\").copy()\n",
        "reg_test.fillna(\"\", inplace=True)\n",
        "X = reg_train.drop(columns=[\"pop\"])\n",
        "X_features = reg_train.columns\n",
        "y = reg_train[\"pop\"]\n",
        "\n",
        "# split data into X and y plus add in test set for this section\n",
        "X = reg_train.drop(columns=[\"Id\", \"title\", \"pop\", \"artist\"])  \n",
        "i, a = [1, 1]\n",
        "while a is not None:  # making sure the test set genres are contained in the training set, so that it doesn't fail due to stratification of the labels being mismatched.\n",
        "    X_train, X_validation, y_train, y_validation = train_test_split(X, y, train_size=0.80)  # FAILS IF TEST SIZE > ~15%!\n",
        "    b = y_validation.isin(y_train).value_counts()  # check if genres contained in y are in X\n",
        "    print(str(f\"While labels between sets are mismatched splitting will repeat. Current iteration: {i}\"))\n",
        "    i = i + 1  # counter\n",
        "    a = b.get(False)  # verification\n",
        "print(f\"Splitting Completed Successfully\\n\")\n",
        "\n",
        "# Pooling Data Splits and Tagging Categorical Indices for CatBoost\n",
        "cat_features_indices = np.where(X.dtypes != float)[0]  # tag categorical\n",
        "train_pool = Pool(X_train, y_train, cat_features=cat_features_indices)  # create training pool from X y\n",
        "validate_pool = Pool(X_validation, y_validation, cat_features=cat_features_indices)  # create validation pool from X y\n",
        "\n",
        "ohe = OneHotEncoder(sparse=False) # OHE our train and test sets\n",
        "reg_train_encohe = ohe.fit_transform(reg_train)\n",
        "reg_test_encohe = ohe.fit_transform(reg_test)\n",
        "std_scaler = StandardScaler() # scaling the newly encoded sets\n",
        "reg_train_scale_enc = std_scaler.fit_transform(reg_train_encohe)\n",
        "reg_test_scale_enc = std_scaler.fit_transform(reg_test_encohe)\n",
        "\n",
        "X_scl_enc = reg_train_scale_enc  # split data into X and y plus add in test set\n",
        "y = reg_train[\"pop\"] # ensuring y is unchanged\n",
        "\n",
        "# RERUN splitting loop but this time we change y sets to y_[1] because we dont want them to interfere with the original y_[0] sets.\n",
        "i, a = [1, 1] \n",
        "while a is not None:  # making sure the test set genres are contained in the training set, so that it doesn't fail due to stratification of the labels being mismatched.\n",
        "    X_train_enc, X_validation_enc, y_train1, y_validation1 = train_test_split(X_scl_enc, y, train_size=0.80)  # FAILS IF TEST SIZE > ~20%! (mostly for classification problem)\n",
        "    b = y_validation.isin(y_train).value_counts()  # check if genres contained in both\n",
        "    print(str(f\"While labels between sets are mismatched splitting will repeat. Current iteration: {i}\"))\n",
        "    i = i + 1  # counter\n",
        "    a = b.get(False)  # verification\n",
        "print(f\"Splitting Completed Successfully\\n\")"
      ],
      "metadata": {
        "id": "G4tWJ_kmqCRS",
        "colab": {
          "base_uri": "https://localhost:8080/"
        },
        "outputId": "49f2ee0e-97c9-4e8f-d38d-e1acee9356d2"
      },
      "execution_count": null,
      "outputs": [
        {
          "output_type": "stream",
          "name": "stdout",
          "text": [
            "While labels between sets are mismatched splitting will repeat. Current iteration: 1\n",
            "Splitting Completed Successfully\n",
            "\n",
            "While labels between sets are mismatched splitting will repeat. Current iteration: 1\n",
            "Splitting Completed Successfully\n",
            "\n"
          ]
        }
      ]
    },
    {
      "cell_type": "markdown",
      "source": [
        "### Lasso Regressor\n",
        "\n",
        "Least Absolute Shrinkage Selector Operator (LASSO) was picked as it performed well in the PyCaret evaluation. This linear regression model aims to reduce the impact that less important features have on the regression problem - thus only the most critical features end up impacting the model (functionally; feature selection)."
      ],
      "metadata": {
        "id": "_Ursi0r7ax2O"
      }
    },
    {
      "cell_type": "code",
      "source": [
        "lasso_cv_model = LassoCV(alphas = np.random.randint(0,1000,100), cv = 10, max_iter = 100000).fit(X_train_enc,y_train)\n",
        "#feature coefficients are closer to zero the higher the alpha <- should say this for lasso \n",
        "lasso_tuned = Lasso().set_params(alpha = lasso_cv_model.alpha_).fit(X_train_enc,y_train)\n",
        "pred = lasso_tuned.predict(X_validation_enc)\n",
        "rmse = (np.sqrt(mean_squared_error(y_validation, pred)))  # RMSE\n",
        "r2 = r2_score(y_validation, pred)  # R-Squared\n",
        "mae = mean_absolute_error(y_validation, pred)  # MAE\n",
        "print(f\"\\nMetrics: \")\n",
        "print(\"RMSE: {:.2f}\".format(rmse))\n",
        "print(\"R2: {:.2f}\".format(r2))\n",
        "print(\"MAE: {:.2f}\".format(mae))\n"
      ],
      "metadata": {
        "id": "BJm6ILp0S4k2",
        "colab": {
          "base_uri": "https://localhost:8080/"
        },
        "outputId": "846e81d3-67ae-4281-9c2b-229ec5556cd8"
      },
      "execution_count": null,
      "outputs": [
        {
          "output_type": "stream",
          "name": "stdout",
          "text": [
            "\n",
            "Metrics: \n",
            "RMSE: 13.02\n",
            "R2: -0.00\n",
            "MAE: 10.54\n"
          ]
        }
      ]
    },
    {
      "cell_type": "markdown",
      "source": [
        "### Ridge Regressor\n",
        "\n",
        "Ridge regression, unlike LASSO, aims to reduce model complexity by coefficient shrinkage, preventing multicolinearity issues - which was another concern we faced early on in the report.\n"
      ],
      "metadata": {
        "id": "6zpU3Zl1aqnF"
      }
    },
    {
      "cell_type": "code",
      "source": [
        "ridge_cv_model = RidgeCV(alphas = np.random.randint(0,10,1), cv = 10).fit(X_train_enc,y_train)\n",
        "ridge_tuned = Ridge().set_params(alpha = ridge_cv_model.alpha_).fit(X_train_enc,y_train)\n",
        "pred = ridge_tuned.predict(X_validation_enc)\n",
        "rmse = (np.sqrt(mean_squared_error(y_validation, pred)))  # RMSE\n",
        "r2 = r2_score(y_validation, pred)  # R-Squared\n",
        "mae = mean_absolute_error(y_validation, pred)  # MAE\n",
        "print(f\"\\nMetrics: \")\n",
        "print(\"RMSE: {:.2f}\".format(rmse))\n",
        "print(\"R2: {:.2f}\".format(r2))\n",
        "print(\"MAE: {:.2f}\".format(mae))"
      ],
      "metadata": {
        "colab": {
          "base_uri": "https://localhost:8080/"
        },
        "id": "KjVwFaQLhvWy",
        "outputId": "5a87c551-7f19-4f3f-e6dc-9e5c4da2f6ce"
      },
      "execution_count": null,
      "outputs": [
        {
          "output_type": "stream",
          "name": "stdout",
          "text": [
            "\n",
            "Metrics: \n",
            "RMSE: 13.51\n",
            "R2: -0.08\n",
            "MAE: 10.81\n"
          ]
        }
      ]
    },
    {
      "cell_type": "markdown",
      "source": [
        "### CatBoost Regressor\n",
        "\n",
        "Because we established in PyCaret that CatBoost was the best performing regressor; we used Optuna to identify optimal parameters around which we would perform our inbuilt  gridsearch before we move to compare it to the other two custom models we built.\n",
        "\n",
        "Further to this, due to how CatBoost handles categorical values - there was no necessity to use the OHE data. "
      ],
      "metadata": {
        "id": "jhh-vheoZDIc"
      }
    },
    {
      "cell_type": "code",
      "source": [
        "optuna.logging.set_verbosity(optuna.logging.WARNING)\n",
        "warnings.filterwarnings(\"ignore\")\n",
        "\n",
        "# THIS SECTION MIGHT REQUIRE RUNTIME REBOOT IF ON COLAB/JUPYTER.\n",
        "reg_train, reg_test = reg_load()\n",
        "reg_train = reg_train.dropna(how=\"any\").copy()\n",
        "reg_test.fillna(\"\", inplace=True)\n",
        "X = reg_train.drop(columns=\"pop\")\n",
        "X_features = reg_train.columns\n",
        "y = reg_train[\"pop\"]\n",
        "\n",
        "reg_train=reg_train[(np.abs(stats.zscore(reg_train.select_dtypes(include=numerics))) < 3).all(axis=1)] #statistical removal of outliers\n",
        "\n",
        "i, a = [1, 1]\n",
        "while a is not None:  # making sure the test set genres are contained in the training set, so that it doesn't fail due to stratification of the labels being mismatched.\n",
        "    X_train, X_validation, y_train, y_validation = train_test_split(X, y, train_size=0.95)  # FAILS IF TEST SIZE > ~15%!\n",
        "    b = y_validation.isin(y_train).value_counts()  # check if genres contained in y are in X\n",
        "    print(str(f\"While labels between sets are mismatched splitting will repeat. Current iteration: {i}\"))\n",
        "    i = i + 1  # counter\n",
        "    a = b.get(False)  # verification\n",
        "print(f\"Splitting Completed Successfully\\n\")\n",
        "\n",
        "cat_features_indices = np.where(X.dtypes != float)[0]  # tag categorical\n",
        "train_pool = Pool(X_train, y_train, cat_features=cat_features_indices) #create pools\n",
        "validate_pool = Pool(X_validation, y_validation, cat_features=cat_features_indices) #^\n",
        "\n",
        "def objective(trial):\n",
        "    param = {  # params that we can optimise on, for CatBoost in particular \n",
        "        \"objective\": trial.suggest_categorical(\"objective\", [\"RMSE\", \"Poisson\", \"MAE\"]),\n",
        "        \"learning_rate\": trial.suggest_loguniform('learning_rate', 0.001, 0.5),\n",
        "        \"colsample_bylevel\": trial.suggest_float(\"colsample_bylevel\", 0.01, 0.1),\n",
        "        \"max_depth\": trial.suggest_int(\"max_depth\", 1, 10),\n",
        "        \"l2_leaf_reg\": trial.suggest_int(\"l2_leaf_reg\", 1, 22, 7),\n",
        "        \"boosting_type\": trial.suggest_categorical(\"boosting_type\", [\"Ordered\", \"Plain\"]),\n",
        "        \"bootstrap_type\": trial.suggest_categorical(\n",
        "            \"bootstrap_type\", [\"Bayesian\", \"Bernoulli\", \"MVS\"]),\n",
        "        \"random_strength\": trial.suggest_int(\"random_strength\", 0, 100),\n",
        "        \"od_type\": trial.suggest_categorical(\"od_type\", [\"IncToDec\", \"Iter\"]),\n",
        "    }\n",
        "\n",
        "    if param[\"bootstrap_type\"] == \"Bayesian\":  # conditional params for bayesian and bernoulli bootstraps\n",
        "        param[\"bagging_temperature\"] = trial.suggest_float(\"bagging_temperature\", 0, 10)\n",
        "    elif param[\"bootstrap_type\"] == \"Bernoulli\":\n",
        "        param[\"subsample\"] = trial.suggest_uniform(\"subsample\", 0.1, 1)\n",
        "\n",
        "    model = catboost.CatBoostRegressor(**param, iterations=20000)  # iterations and regressor initialisation\n",
        "    model.fit(train_pool, eval_set=validate_pool, verbose=0, early_stopping_rounds=100)  # fitting the model\n",
        "\n",
        "    preds = model.predict(X_validation)  # predictions on validations set\n",
        "    pred_labels = np.rint(preds)  # (round intergers)\n",
        "    accuracy = accuracy_score(y_validation, pred_labels)  # get accuracy\n",
        "\n",
        "    return accuracy\n",
        "\n",
        "\n",
        "study = optuna.create_study(direction=\"maximize\")  # Initialise Optuna\n",
        "study.optimize(objective, n_trials=2000, show_progress_bar=True)  # set study params\n",
        "\n",
        "print(\"Number of finished trials: {}\".format(len(study.trials)))\n",
        "print(\"Best trial:\")\n",
        "trial = study.best_trial\n",
        "print(\"  Best Score: {}\".format(trial.value))\n",
        "print(\"  Best Params: \")\n",
        "for key, value in trial.params.items():\n",
        "    print(\"    {}: {}\".format(key, value))\n",
        "\n"
      ],
      "metadata": {
        "id": "PZvYJoC_PCi_",
        "colab": {
          "base_uri": "https://localhost:8080/",
          "height": 535,
          "referenced_widgets": [
            "38d78d44d745423784f012b890cbff8f",
            "8d75c5cee16b42a7ac73a1476f3e1ea1",
            "a3de68fea0104732bc589335909227fd",
            "dfef198820ea4daeb26d9fb3e668a152",
            "e4bf5f6de0704b61a340c96341cf04ff",
            "3a67299bb3bf4d3aa9458669a7842134",
            "7366e4013fcc404482832585208955b7",
            "d68e3d0f76f741a0b76b408bf919604a",
            "c7bbc16667094c56af9ddc2b0c7af341",
            "325e456794c64831b3ebb6b993d3393e",
            "0e8a51f470234781a9b77d6c5f86d09e"
          ]
        },
        "outputId": "4676f820-b221-4af6-f770-d5cf28a3d000"
      },
      "execution_count": null,
      "outputs": [
        {
          "output_type": "stream",
          "name": "stdout",
          "text": [
            "While labels between sets are mismatched splitting will repeat. Current iteration: 1\n",
            "Splitting Completed Successfully\n",
            "\n"
          ]
        },
        {
          "output_type": "display_data",
          "data": {
            "application/vnd.jupyter.widget-view+json": {
              "model_id": "38d78d44d745423784f012b890cbff8f",
              "version_minor": 0,
              "version_major": 2
            },
            "text/plain": [
              "  0%|          | 0/2000 [00:00<?, ?it/s]"
            ]
          },
          "metadata": {}
        },
        {
          "output_type": "error",
          "ename": "KeyboardInterrupt",
          "evalue": "ignored",
          "traceback": [
            "\u001b[0;31m---------------------------------------------------------------------------\u001b[0m",
            "\u001b[0;31mKeyboardInterrupt\u001b[0m                         Traceback (most recent call last)",
            "\u001b[0;32m<ipython-input-29-9edca35c3b73>\u001b[0m in \u001b[0;36m<module>\u001b[0;34m()\u001b[0m\n\u001b[1;32m     55\u001b[0m \u001b[0;34m\u001b[0m\u001b[0m\n\u001b[1;32m     56\u001b[0m \u001b[0mstudy\u001b[0m \u001b[0;34m=\u001b[0m \u001b[0moptuna\u001b[0m\u001b[0;34m.\u001b[0m\u001b[0mcreate_study\u001b[0m\u001b[0;34m(\u001b[0m\u001b[0mdirection\u001b[0m\u001b[0;34m=\u001b[0m\u001b[0;34m\"maximize\"\u001b[0m\u001b[0;34m)\u001b[0m  \u001b[0;31m# Initialise Optuna\u001b[0m\u001b[0;34m\u001b[0m\u001b[0;34m\u001b[0m\u001b[0m\n\u001b[0;32m---> 57\u001b[0;31m \u001b[0mstudy\u001b[0m\u001b[0;34m.\u001b[0m\u001b[0moptimize\u001b[0m\u001b[0;34m(\u001b[0m\u001b[0mobjective\u001b[0m\u001b[0;34m,\u001b[0m \u001b[0mn_trials\u001b[0m\u001b[0;34m=\u001b[0m\u001b[0;36m2000\u001b[0m\u001b[0;34m,\u001b[0m \u001b[0mshow_progress_bar\u001b[0m\u001b[0;34m=\u001b[0m\u001b[0;32mTrue\u001b[0m\u001b[0;34m)\u001b[0m  \u001b[0;31m# set study params\u001b[0m\u001b[0;34m\u001b[0m\u001b[0;34m\u001b[0m\u001b[0m\n\u001b[0m\u001b[1;32m     58\u001b[0m \u001b[0;34m\u001b[0m\u001b[0m\n\u001b[1;32m     59\u001b[0m \u001b[0mprint\u001b[0m\u001b[0;34m(\u001b[0m\u001b[0;34m\"Number of finished trials: {}\"\u001b[0m\u001b[0;34m.\u001b[0m\u001b[0mformat\u001b[0m\u001b[0;34m(\u001b[0m\u001b[0mlen\u001b[0m\u001b[0;34m(\u001b[0m\u001b[0mstudy\u001b[0m\u001b[0;34m.\u001b[0m\u001b[0mtrials\u001b[0m\u001b[0;34m)\u001b[0m\u001b[0;34m)\u001b[0m\u001b[0;34m)\u001b[0m\u001b[0;34m\u001b[0m\u001b[0;34m\u001b[0m\u001b[0m\n",
            "\u001b[0;32m/usr/local/lib/python3.7/dist-packages/optuna/study/study.py\u001b[0m in \u001b[0;36moptimize\u001b[0;34m(self, func, n_trials, timeout, n_jobs, catch, callbacks, gc_after_trial, show_progress_bar)\u001b[0m\n\u001b[1;32m    407\u001b[0m             \u001b[0mcallbacks\u001b[0m\u001b[0;34m=\u001b[0m\u001b[0mcallbacks\u001b[0m\u001b[0;34m,\u001b[0m\u001b[0;34m\u001b[0m\u001b[0;34m\u001b[0m\u001b[0m\n\u001b[1;32m    408\u001b[0m             \u001b[0mgc_after_trial\u001b[0m\u001b[0;34m=\u001b[0m\u001b[0mgc_after_trial\u001b[0m\u001b[0;34m,\u001b[0m\u001b[0;34m\u001b[0m\u001b[0;34m\u001b[0m\u001b[0m\n\u001b[0;32m--> 409\u001b[0;31m             \u001b[0mshow_progress_bar\u001b[0m\u001b[0;34m=\u001b[0m\u001b[0mshow_progress_bar\u001b[0m\u001b[0;34m,\u001b[0m\u001b[0;34m\u001b[0m\u001b[0;34m\u001b[0m\u001b[0m\n\u001b[0m\u001b[1;32m    410\u001b[0m         )\n\u001b[1;32m    411\u001b[0m \u001b[0;34m\u001b[0m\u001b[0m\n",
            "\u001b[0;32m/usr/local/lib/python3.7/dist-packages/optuna/study/_optimize.py\u001b[0m in \u001b[0;36m_optimize\u001b[0;34m(study, func, n_trials, timeout, n_jobs, catch, callbacks, gc_after_trial, show_progress_bar)\u001b[0m\n\u001b[1;32m     74\u001b[0m                 \u001b[0mreseed_sampler_rng\u001b[0m\u001b[0;34m=\u001b[0m\u001b[0;32mFalse\u001b[0m\u001b[0;34m,\u001b[0m\u001b[0;34m\u001b[0m\u001b[0;34m\u001b[0m\u001b[0m\n\u001b[1;32m     75\u001b[0m                 \u001b[0mtime_start\u001b[0m\u001b[0;34m=\u001b[0m\u001b[0;32mNone\u001b[0m\u001b[0;34m,\u001b[0m\u001b[0;34m\u001b[0m\u001b[0;34m\u001b[0m\u001b[0m\n\u001b[0;32m---> 76\u001b[0;31m                 \u001b[0mprogress_bar\u001b[0m\u001b[0;34m=\u001b[0m\u001b[0mprogress_bar\u001b[0m\u001b[0;34m,\u001b[0m\u001b[0;34m\u001b[0m\u001b[0;34m\u001b[0m\u001b[0m\n\u001b[0m\u001b[1;32m     77\u001b[0m             )\n\u001b[1;32m     78\u001b[0m         \u001b[0;32melse\u001b[0m\u001b[0;34m:\u001b[0m\u001b[0;34m\u001b[0m\u001b[0;34m\u001b[0m\u001b[0m\n",
            "\u001b[0;32m/usr/local/lib/python3.7/dist-packages/optuna/study/_optimize.py\u001b[0m in \u001b[0;36m_optimize_sequential\u001b[0;34m(study, func, n_trials, timeout, catch, callbacks, gc_after_trial, reseed_sampler_rng, time_start, progress_bar)\u001b[0m\n\u001b[1;32m    161\u001b[0m \u001b[0;34m\u001b[0m\u001b[0m\n\u001b[1;32m    162\u001b[0m         \u001b[0;32mtry\u001b[0m\u001b[0;34m:\u001b[0m\u001b[0;34m\u001b[0m\u001b[0;34m\u001b[0m\u001b[0m\n\u001b[0;32m--> 163\u001b[0;31m             \u001b[0mtrial\u001b[0m \u001b[0;34m=\u001b[0m \u001b[0m_run_trial\u001b[0m\u001b[0;34m(\u001b[0m\u001b[0mstudy\u001b[0m\u001b[0;34m,\u001b[0m \u001b[0mfunc\u001b[0m\u001b[0;34m,\u001b[0m \u001b[0mcatch\u001b[0m\u001b[0;34m)\u001b[0m\u001b[0;34m\u001b[0m\u001b[0;34m\u001b[0m\u001b[0m\n\u001b[0m\u001b[1;32m    164\u001b[0m         \u001b[0;32mexcept\u001b[0m \u001b[0mException\u001b[0m\u001b[0;34m:\u001b[0m\u001b[0;34m\u001b[0m\u001b[0;34m\u001b[0m\u001b[0m\n\u001b[1;32m    165\u001b[0m             \u001b[0;32mraise\u001b[0m\u001b[0;34m\u001b[0m\u001b[0;34m\u001b[0m\u001b[0m\n",
            "\u001b[0;32m/usr/local/lib/python3.7/dist-packages/optuna/study/_optimize.py\u001b[0m in \u001b[0;36m_run_trial\u001b[0;34m(study, func, catch)\u001b[0m\n\u001b[1;32m    211\u001b[0m \u001b[0;34m\u001b[0m\u001b[0m\n\u001b[1;32m    212\u001b[0m     \u001b[0;32mtry\u001b[0m\u001b[0;34m:\u001b[0m\u001b[0;34m\u001b[0m\u001b[0;34m\u001b[0m\u001b[0m\n\u001b[0;32m--> 213\u001b[0;31m         \u001b[0mvalue_or_values\u001b[0m \u001b[0;34m=\u001b[0m \u001b[0mfunc\u001b[0m\u001b[0;34m(\u001b[0m\u001b[0mtrial\u001b[0m\u001b[0;34m)\u001b[0m\u001b[0;34m\u001b[0m\u001b[0;34m\u001b[0m\u001b[0m\n\u001b[0m\u001b[1;32m    214\u001b[0m     \u001b[0;32mexcept\u001b[0m \u001b[0mexceptions\u001b[0m\u001b[0;34m.\u001b[0m\u001b[0mTrialPruned\u001b[0m \u001b[0;32mas\u001b[0m \u001b[0me\u001b[0m\u001b[0;34m:\u001b[0m\u001b[0;34m\u001b[0m\u001b[0;34m\u001b[0m\u001b[0m\n\u001b[1;32m    215\u001b[0m         \u001b[0;31m# TODO(mamu): Handle multi-objective cases.\u001b[0m\u001b[0;34m\u001b[0m\u001b[0;34m\u001b[0m\u001b[0;34m\u001b[0m\u001b[0m\n",
            "\u001b[0;32m<ipython-input-29-9edca35c3b73>\u001b[0m in \u001b[0;36mobjective\u001b[0;34m(trial)\u001b[0m\n\u001b[1;32m     45\u001b[0m \u001b[0;34m\u001b[0m\u001b[0m\n\u001b[1;32m     46\u001b[0m     \u001b[0mmodel\u001b[0m \u001b[0;34m=\u001b[0m \u001b[0mcatboost\u001b[0m\u001b[0;34m.\u001b[0m\u001b[0mCatBoostRegressor\u001b[0m\u001b[0;34m(\u001b[0m\u001b[0;34m**\u001b[0m\u001b[0mparam\u001b[0m\u001b[0;34m,\u001b[0m \u001b[0miterations\u001b[0m\u001b[0;34m=\u001b[0m\u001b[0;36m20000\u001b[0m\u001b[0;34m)\u001b[0m  \u001b[0;31m# iterations and regressor initialisation\u001b[0m\u001b[0;34m\u001b[0m\u001b[0;34m\u001b[0m\u001b[0m\n\u001b[0;32m---> 47\u001b[0;31m     \u001b[0mmodel\u001b[0m\u001b[0;34m.\u001b[0m\u001b[0mfit\u001b[0m\u001b[0;34m(\u001b[0m\u001b[0mtrain_pool\u001b[0m\u001b[0;34m,\u001b[0m \u001b[0meval_set\u001b[0m\u001b[0;34m=\u001b[0m\u001b[0mvalidate_pool\u001b[0m\u001b[0;34m,\u001b[0m \u001b[0mverbose\u001b[0m\u001b[0;34m=\u001b[0m\u001b[0;36m0\u001b[0m\u001b[0;34m,\u001b[0m \u001b[0mearly_stopping_rounds\u001b[0m\u001b[0;34m=\u001b[0m\u001b[0;36m100\u001b[0m\u001b[0;34m)\u001b[0m  \u001b[0;31m# fitting the model\u001b[0m\u001b[0;34m\u001b[0m\u001b[0;34m\u001b[0m\u001b[0m\n\u001b[0m\u001b[1;32m     48\u001b[0m \u001b[0;34m\u001b[0m\u001b[0m\n\u001b[1;32m     49\u001b[0m     \u001b[0mpreds\u001b[0m \u001b[0;34m=\u001b[0m \u001b[0mmodel\u001b[0m\u001b[0;34m.\u001b[0m\u001b[0mpredict\u001b[0m\u001b[0;34m(\u001b[0m\u001b[0mX_validation\u001b[0m\u001b[0;34m)\u001b[0m  \u001b[0;31m# predictions on validations set\u001b[0m\u001b[0;34m\u001b[0m\u001b[0;34m\u001b[0m\u001b[0m\n",
            "\u001b[0;32m/usr/local/lib/python3.7/dist-packages/catboost/core.py\u001b[0m in \u001b[0;36mfit\u001b[0;34m(self, X, y, cat_features, sample_weight, baseline, use_best_model, eval_set, verbose, logging_level, plot, column_description, verbose_eval, metric_period, silent, early_stopping_rounds, save_snapshot, snapshot_file, snapshot_interval, init_model, callbacks, log_cout, log_cerr)\u001b[0m\n\u001b[1;32m   5352\u001b[0m                          \u001b[0muse_best_model\u001b[0m\u001b[0;34m,\u001b[0m \u001b[0meval_set\u001b[0m\u001b[0;34m,\u001b[0m \u001b[0mverbose\u001b[0m\u001b[0;34m,\u001b[0m \u001b[0mlogging_level\u001b[0m\u001b[0;34m,\u001b[0m \u001b[0mplot\u001b[0m\u001b[0;34m,\u001b[0m \u001b[0mcolumn_description\u001b[0m\u001b[0;34m,\u001b[0m\u001b[0;34m\u001b[0m\u001b[0;34m\u001b[0m\u001b[0m\n\u001b[1;32m   5353\u001b[0m                          \u001b[0mverbose_eval\u001b[0m\u001b[0;34m,\u001b[0m \u001b[0mmetric_period\u001b[0m\u001b[0;34m,\u001b[0m \u001b[0msilent\u001b[0m\u001b[0;34m,\u001b[0m \u001b[0mearly_stopping_rounds\u001b[0m\u001b[0;34m,\u001b[0m\u001b[0;34m\u001b[0m\u001b[0;34m\u001b[0m\u001b[0m\n\u001b[0;32m-> 5354\u001b[0;31m                          save_snapshot, snapshot_file, snapshot_interval, init_model, callbacks, log_cout, log_cerr)\n\u001b[0m\u001b[1;32m   5355\u001b[0m \u001b[0;34m\u001b[0m\u001b[0m\n\u001b[1;32m   5356\u001b[0m     \u001b[0;32mdef\u001b[0m \u001b[0mpredict\u001b[0m\u001b[0;34m(\u001b[0m\u001b[0mself\u001b[0m\u001b[0;34m,\u001b[0m \u001b[0mdata\u001b[0m\u001b[0;34m,\u001b[0m \u001b[0mprediction_type\u001b[0m\u001b[0;34m=\u001b[0m\u001b[0;32mNone\u001b[0m\u001b[0;34m,\u001b[0m \u001b[0mntree_start\u001b[0m\u001b[0;34m=\u001b[0m\u001b[0;36m0\u001b[0m\u001b[0;34m,\u001b[0m \u001b[0mntree_end\u001b[0m\u001b[0;34m=\u001b[0m\u001b[0;36m0\u001b[0m\u001b[0;34m,\u001b[0m \u001b[0mthread_count\u001b[0m\u001b[0;34m=\u001b[0m\u001b[0;34m-\u001b[0m\u001b[0;36m1\u001b[0m\u001b[0;34m,\u001b[0m \u001b[0mverbose\u001b[0m\u001b[0;34m=\u001b[0m\u001b[0;32mNone\u001b[0m\u001b[0;34m,\u001b[0m \u001b[0mtask_type\u001b[0m\u001b[0;34m=\u001b[0m\u001b[0;34m\"CPU\"\u001b[0m\u001b[0;34m)\u001b[0m\u001b[0;34m:\u001b[0m\u001b[0;34m\u001b[0m\u001b[0;34m\u001b[0m\u001b[0m\n",
            "\u001b[0;32m/usr/local/lib/python3.7/dist-packages/catboost/core.py\u001b[0m in \u001b[0;36m_fit\u001b[0;34m(self, X, y, cat_features, text_features, embedding_features, pairs, sample_weight, group_id, group_weight, subgroup_id, pairs_weight, baseline, use_best_model, eval_set, verbose, logging_level, plot, column_description, verbose_eval, metric_period, silent, early_stopping_rounds, save_snapshot, snapshot_file, snapshot_interval, init_model, callbacks, log_cout, log_cerr)\u001b[0m\n\u001b[1;32m   2092\u001b[0m                 \u001b[0mparams\u001b[0m\u001b[0;34m,\u001b[0m\u001b[0;34m\u001b[0m\u001b[0;34m\u001b[0m\u001b[0m\n\u001b[1;32m   2093\u001b[0m                 \u001b[0mallow_clear_pool\u001b[0m\u001b[0;34m,\u001b[0m\u001b[0;34m\u001b[0m\u001b[0;34m\u001b[0m\u001b[0m\n\u001b[0;32m-> 2094\u001b[0;31m                 \u001b[0mtrain_params\u001b[0m\u001b[0;34m[\u001b[0m\u001b[0;34m\"init_model\"\u001b[0m\u001b[0;34m]\u001b[0m\u001b[0;34m\u001b[0m\u001b[0;34m\u001b[0m\u001b[0m\n\u001b[0m\u001b[1;32m   2095\u001b[0m             )\n\u001b[1;32m   2096\u001b[0m \u001b[0;34m\u001b[0m\u001b[0m\n",
            "\u001b[0;32m/usr/local/lib/python3.7/dist-packages/catboost/core.py\u001b[0m in \u001b[0;36m_train\u001b[0;34m(self, train_pool, test_pool, params, allow_clear_pool, init_model)\u001b[0m\n\u001b[1;32m   1514\u001b[0m \u001b[0;34m\u001b[0m\u001b[0m\n\u001b[1;32m   1515\u001b[0m     \u001b[0;32mdef\u001b[0m \u001b[0m_train\u001b[0m\u001b[0;34m(\u001b[0m\u001b[0mself\u001b[0m\u001b[0;34m,\u001b[0m \u001b[0mtrain_pool\u001b[0m\u001b[0;34m,\u001b[0m \u001b[0mtest_pool\u001b[0m\u001b[0;34m,\u001b[0m \u001b[0mparams\u001b[0m\u001b[0;34m,\u001b[0m \u001b[0mallow_clear_pool\u001b[0m\u001b[0;34m,\u001b[0m \u001b[0minit_model\u001b[0m\u001b[0;34m)\u001b[0m\u001b[0;34m:\u001b[0m\u001b[0;34m\u001b[0m\u001b[0;34m\u001b[0m\u001b[0m\n\u001b[0;32m-> 1516\u001b[0;31m         \u001b[0mself\u001b[0m\u001b[0;34m.\u001b[0m\u001b[0m_object\u001b[0m\u001b[0;34m.\u001b[0m\u001b[0m_train\u001b[0m\u001b[0;34m(\u001b[0m\u001b[0mtrain_pool\u001b[0m\u001b[0;34m,\u001b[0m \u001b[0mtest_pool\u001b[0m\u001b[0;34m,\u001b[0m \u001b[0mparams\u001b[0m\u001b[0;34m,\u001b[0m \u001b[0mallow_clear_pool\u001b[0m\u001b[0;34m,\u001b[0m \u001b[0minit_model\u001b[0m\u001b[0;34m.\u001b[0m\u001b[0m_object\u001b[0m \u001b[0;32mif\u001b[0m \u001b[0minit_model\u001b[0m \u001b[0;32melse\u001b[0m \u001b[0;32mNone\u001b[0m\u001b[0;34m)\u001b[0m\u001b[0;34m\u001b[0m\u001b[0;34m\u001b[0m\u001b[0m\n\u001b[0m\u001b[1;32m   1517\u001b[0m         \u001b[0mself\u001b[0m\u001b[0;34m.\u001b[0m\u001b[0m_set_trained_model_attributes\u001b[0m\u001b[0;34m(\u001b[0m\u001b[0;34m)\u001b[0m\u001b[0;34m\u001b[0m\u001b[0;34m\u001b[0m\u001b[0m\n\u001b[1;32m   1518\u001b[0m \u001b[0;34m\u001b[0m\u001b[0m\n",
            "\u001b[0;32m_catboost.pyx\u001b[0m in \u001b[0;36m_catboost._CatBoost._train\u001b[0;34m()\u001b[0m\n",
            "\u001b[0;32m_catboost.pyx\u001b[0m in \u001b[0;36m_catboost._CatBoost._train\u001b[0;34m()\u001b[0m\n",
            "\u001b[0;31mKeyboardInterrupt\u001b[0m: "
          ]
        }
      ]
    },
    {
      "cell_type": "markdown",
      "source": [
        "Create custom CatBoost GridSearch Model that is now optimised further by the data gathered from Optuna:"
      ],
      "metadata": {
        "id": "o-ynLJt4ZqnL"
      }
    },
    {
      "cell_type": "code",
      "source": [
        "grid_model = CatBoostRegressor(loss_function=\"RMSE\")  # , task_type=\"GPU\")  #RMSE/MAE Optuna recommends MAE\n",
        "params = {\"iterations\": [500,1500,2500],\n",
        "          # careful with iterations >5k - it can take VERY long to copy params from a distant iteration (if best iter. occurs at e.g. 250 but runs complete to 10,000 then it might time out and just fail).\n",
        "          \"learning_rate\": [0.001, 0.01, 0.02, 0.03], # optuna identifed: 0.17133 then 0.00325\n",
        "          \"colsample_bylevel\": [0.01, 0.02, 0.03, 0.04, 0.05], # optuna identifed: 0.038 then 0.033\n",
        "          \"depth\": [1, 2, 3, 4, 5], # optuna identifed: 2 then 1\n",
        "          \"l2_leaf_reg\": [1, 5, 8, 15, 25 , 30], # optuna identifed: 15 then 8\n",
        "          \"boosting_type\": [\"Plain\", \"Ordered\"], # optuna identifed: Ordered then plain\n",
        "          \"bootstrap_type\": [\"MVS\"], # optuna identifed: MVS then MVS\n",
        "          \"random_strength\": [random.randint(0, 99)] # optuna identified: 85 then 20\n",
        "          }  # Poisson - Only works when training on GPU\n",
        "\n",
        "GS_results = grid_model.grid_search(params, train_pool, refit=True)  # GridSearch\n",
        "#print(grid_model.get_all_params())\n",
        "print(f\"\\nAfter the grid search these were the best parameters:\")\n",
        "print(f\"\\nBest Params: \", GS_results[\"params\"])  # print best params"
      ],
      "metadata": {
        "id": "AsYtJcIzEQpa"
      },
      "execution_count": null,
      "outputs": []
    },
    {
      "cell_type": "markdown",
      "source": [
        "Next we adopt the best parameters from our CatBoost GridSearch and predict on the training set to ascertain metrics."
      ],
      "metadata": {
        "id": "1jtUbRhDZyIg"
      }
    },
    {
      "cell_type": "code",
      "source": [
        "pred= grid_model.predict(X_validation)\n",
        "rmse = (np.sqrt(mean_squared_error(y_validation, pred)))  # RMSE\n",
        "r2 = r2_score(y_validation, pred)  # R-Squared\n",
        "mae = mean_absolute_error(y_validation, pred)  # MAE\n",
        "print(f\"\\nMetrics: \")\n",
        "print(\"RMSE: {:.2f}\".format(rmse))\n",
        "print(\"R2: {:.2f}\".format(r2))\n",
        "print(\"MAE: {:.2f}\".format(mae))"
      ],
      "metadata": {
        "id": "p9n24lgnNROX",
        "colab": {
          "base_uri": "https://localhost:8080/"
        },
        "outputId": "9c0e5e42-0c74-4683-e339-f0013d168d5e"
      },
      "execution_count": null,
      "outputs": [
        {
          "output_type": "stream",
          "name": "stdout",
          "text": [
            "\n",
            "Metrics: \n",
            "RMSE: 12.25\n",
            "R2: -0.08\n",
            "MAE: 10.31\n"
          ]
        }
      ]
    },
    {
      "cell_type": "markdown",
      "source": [
        "Now we make a prediction on the test set and export it to a CSV for upload to Kaggle.\n",
        "We chose to create submission files for the CatBoost model only, as it was the best model based on the metrics and also because it consistently placed first in the PyCaret \"best model\" search."
      ],
      "metadata": {
        "id": "MWIvQWBp986o"
      }
    },
    {
      "cell_type": "code",
      "source": [
        "submission = pd.DataFrame()\n",
        "print(reg_test)\n",
        "submission[\"Id\"] = reg_test[\"Id\"]\n",
        "submission[\"pop\"] = grid_model.predict(reg_test)\n",
        "submission.to_csv(f\"RMSE_is_{rmse:.2f}_R2_is_{r2:.2f}_MAE_is_{mae:.2f}_GridSearch.csv\",\n",
        "                  index=False)"
      ],
      "metadata": {
        "id": "dyHB82TmzGg1",
        "colab": {
          "base_uri": "https://localhost:8080/"
        },
        "outputId": "f70adaa5-d1f6-4bf8-9e97-64d484f38f76"
      },
      "execution_count": null,
      "outputs": [
        {
          "output_type": "stream",
          "name": "stdout",
          "text": [
            "      Id                                              title  ... acous spch\n",
            "0    454                                            Pump It  ...     1   18\n",
            "1    455  Circle of Life - From \"The Lion King\"/Soundtra...  ...    26    3\n",
            "2    456             We Are The Champions - Remastered 2011  ...    38    3\n",
            "3    457                              Insomnia - Radio Edit  ...     6    4\n",
            "4    458                                This Eve of Parting  ...    18    3\n",
            "..   ...                                                ...  ...   ...  ...\n",
            "109  563                                         Candy Shop  ...     3   47\n",
            "110  564                Dragostea Din Tei - Italian Version  ...     4    3\n",
            "111  565                          Big Poppa - 2005 Remaster  ...    43   27\n",
            "112  566                       YMCA - Original Version 1978  ...     6   14\n",
            "113  567                                 Livin' On A Prayer  ...     8    3\n",
            "\n",
            "[114 rows x 14 columns]\n"
          ]
        }
      ]
    },
    {
      "cell_type": "markdown",
      "source": [
        "## Regression Problem Result\n",
        "\n",
        "Ultimately, CatBoost was the best performing regressor on our dataset and scored 0.48214% Accuracy within a few days of the submissions opening.\n",
        "\n",
        "It could very likely be improved if it were the sole focus of the report."
      ],
      "metadata": {
        "id": "iBsFJ2LxjgGH"
      }
    },
    {
      "cell_type": "markdown",
      "source": [
        "Total Report Word Count: 1800 (+-50)"
      ],
      "metadata": {
        "id": "6o6xSEa5Pqdw"
      }
    },
    {
      "cell_type": "markdown",
      "source": [
        "things to include: \n",
        "A description of the model and solution that you employed for the final set of predictions.\n",
        "\n",
        "A justification for why you choose this architecture and solution including: how you came up with the approach, why you selected or modified input variables, explaining what worked and did not work, and what other models were tried.\n",
        "\n",
        "The report should conclude by reporting your performance in the Kaggle InClass competition.\n",
        "- Explanation of the difference between the train and test data \n",
        "- Relative performance in comparison to other solutions\n",
        "\n",
        "focus on why we went with each technique and critically assess "
      ],
      "metadata": {
        "id": "xyUHAvFlKfvj"
      }
    },
    {
      "cell_type": "markdown",
      "source": [
        ""
      ],
      "metadata": {
        "id": "9jj-MCl1KhRQ"
      }
    }
  ]
}